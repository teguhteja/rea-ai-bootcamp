{
  "nbformat": 4,
  "nbformat_minor": 0,
  "metadata": {
    "colab": {
      "provenance": [],
      "gpuType": "T4"
    },
    "kernelspec": {
      "name": "python3",
      "display_name": "Python 3"
    },
    "language_info": {
      "name": "python"
    },
    "accelerator": "GPU"
  },
  "cells": [
    {
      "cell_type": "code",
      "execution_count": 6,
      "metadata": {
        "collapsed": true,
        "colab": {
          "base_uri": "https://localhost:8080/"
        },
        "id": "OYYJJhG70r6f",
        "outputId": "843d8ca3-a8d2-480a-aac4-c68e0f4dcfdd"
      },
      "outputs": [
        {
          "output_type": "stream",
          "name": "stdout",
          "text": [
            "Requirement already satisfied: torch in /usr/local/lib/python3.10/dist-packages (2.5.1+cu121)\n",
            "Requirement already satisfied: filelock in /usr/local/lib/python3.10/dist-packages (from torch) (3.16.1)\n",
            "Requirement already satisfied: typing-extensions>=4.8.0 in /usr/local/lib/python3.10/dist-packages (from torch) (4.12.2)\n",
            "Requirement already satisfied: networkx in /usr/local/lib/python3.10/dist-packages (from torch) (3.4.2)\n",
            "Requirement already satisfied: jinja2 in /usr/local/lib/python3.10/dist-packages (from torch) (3.1.5)\n",
            "Requirement already satisfied: fsspec in /usr/local/lib/python3.10/dist-packages (from torch) (2024.10.0)\n",
            "Requirement already satisfied: sympy==1.13.1 in /usr/local/lib/python3.10/dist-packages (from torch) (1.13.1)\n",
            "Requirement already satisfied: mpmath<1.4,>=1.1.0 in /usr/local/lib/python3.10/dist-packages (from sympy==1.13.1->torch) (1.3.0)\n",
            "Requirement already satisfied: MarkupSafe>=2.0 in /usr/local/lib/python3.10/dist-packages (from jinja2->torch) (3.0.2)\n",
            "Collecting fastbook\n",
            "  Downloading fastbook-0.0.29-py3-none-any.whl.metadata (13 kB)\n",
            "Requirement already satisfied: pip in /usr/local/lib/python3.10/dist-packages (from fastbook) (24.1.2)\n",
            "Requirement already satisfied: packaging in /usr/local/lib/python3.10/dist-packages (from fastbook) (24.2)\n",
            "Requirement already satisfied: fastai>=2.6 in /usr/local/lib/python3.10/dist-packages (from fastbook) (2.7.18)\n",
            "Requirement already satisfied: graphviz in /usr/local/lib/python3.10/dist-packages (from fastbook) (0.20.3)\n",
            "Requirement already satisfied: pandas in /usr/local/lib/python3.10/dist-packages (from fastbook) (2.2.2)\n",
            "Requirement already satisfied: requests in /usr/local/lib/python3.10/dist-packages (from fastbook) (2.32.3)\n",
            "Requirement already satisfied: transformers in /usr/local/lib/python3.10/dist-packages (from fastbook) (4.47.1)\n",
            "Collecting datasets (from fastbook)\n",
            "  Downloading datasets-3.2.0-py3-none-any.whl.metadata (20 kB)\n",
            "Requirement already satisfied: ipywidgets<8 in /usr/local/lib/python3.10/dist-packages (from fastbook) (7.7.1)\n",
            "Requirement already satisfied: sentencepiece in /usr/local/lib/python3.10/dist-packages (from fastbook) (0.2.0)\n",
            "Requirement already satisfied: fastdownload<2,>=0.0.5 in /usr/local/lib/python3.10/dist-packages (from fastai>=2.6->fastbook) (0.0.7)\n",
            "Requirement already satisfied: fastcore<1.8,>=1.5.29 in /usr/local/lib/python3.10/dist-packages (from fastai>=2.6->fastbook) (1.7.28)\n",
            "Requirement already satisfied: torchvision>=0.11 in /usr/local/lib/python3.10/dist-packages (from fastai>=2.6->fastbook) (0.20.1+cu121)\n",
            "Requirement already satisfied: matplotlib in /usr/local/lib/python3.10/dist-packages (from fastai>=2.6->fastbook) (3.10.0)\n",
            "Requirement already satisfied: pyyaml in /usr/local/lib/python3.10/dist-packages (from fastai>=2.6->fastbook) (6.0.2)\n",
            "Requirement already satisfied: fastprogress>=0.2.4 in /usr/local/lib/python3.10/dist-packages (from fastai>=2.6->fastbook) (1.0.3)\n",
            "Requirement already satisfied: pillow>=9.0.0 in /usr/local/lib/python3.10/dist-packages (from fastai>=2.6->fastbook) (11.1.0)\n",
            "Requirement already satisfied: scikit-learn in /usr/local/lib/python3.10/dist-packages (from fastai>=2.6->fastbook) (1.6.0)\n",
            "Requirement already satisfied: scipy in /usr/local/lib/python3.10/dist-packages (from fastai>=2.6->fastbook) (1.13.1)\n",
            "Requirement already satisfied: spacy<4 in /usr/local/lib/python3.10/dist-packages (from fastai>=2.6->fastbook) (3.7.5)\n",
            "Requirement already satisfied: torch<2.6,>=1.10 in /usr/local/lib/python3.10/dist-packages (from fastai>=2.6->fastbook) (2.5.1+cu121)\n",
            "Requirement already satisfied: ipykernel>=4.5.1 in /usr/local/lib/python3.10/dist-packages (from ipywidgets<8->fastbook) (5.5.6)\n",
            "Requirement already satisfied: ipython-genutils~=0.2.0 in /usr/local/lib/python3.10/dist-packages (from ipywidgets<8->fastbook) (0.2.0)\n",
            "Requirement already satisfied: traitlets>=4.3.1 in /usr/local/lib/python3.10/dist-packages (from ipywidgets<8->fastbook) (5.7.1)\n",
            "Requirement already satisfied: widgetsnbextension~=3.6.0 in /usr/local/lib/python3.10/dist-packages (from ipywidgets<8->fastbook) (3.6.10)\n",
            "Requirement already satisfied: ipython>=4.0.0 in /usr/local/lib/python3.10/dist-packages (from ipywidgets<8->fastbook) (7.34.0)\n",
            "Requirement already satisfied: jupyterlab-widgets>=1.0.0 in /usr/local/lib/python3.10/dist-packages (from ipywidgets<8->fastbook) (3.0.13)\n",
            "Requirement already satisfied: filelock in /usr/local/lib/python3.10/dist-packages (from datasets->fastbook) (3.16.1)\n",
            "Requirement already satisfied: numpy>=1.17 in /usr/local/lib/python3.10/dist-packages (from datasets->fastbook) (1.26.4)\n",
            "Requirement already satisfied: pyarrow>=15.0.0 in /usr/local/lib/python3.10/dist-packages (from datasets->fastbook) (17.0.0)\n",
            "Collecting dill<0.3.9,>=0.3.0 (from datasets->fastbook)\n",
            "  Downloading dill-0.3.8-py3-none-any.whl.metadata (10 kB)\n",
            "Requirement already satisfied: tqdm>=4.66.3 in /usr/local/lib/python3.10/dist-packages (from datasets->fastbook) (4.67.1)\n",
            "Collecting xxhash (from datasets->fastbook)\n",
            "  Downloading xxhash-3.5.0-cp310-cp310-manylinux_2_17_x86_64.manylinux2014_x86_64.whl.metadata (12 kB)\n",
            "Collecting multiprocess<0.70.17 (from datasets->fastbook)\n",
            "  Downloading multiprocess-0.70.16-py310-none-any.whl.metadata (7.2 kB)\n",
            "Collecting fsspec<=2024.9.0,>=2023.1.0 (from fsspec[http]<=2024.9.0,>=2023.1.0->datasets->fastbook)\n",
            "  Downloading fsspec-2024.9.0-py3-none-any.whl.metadata (11 kB)\n",
            "Requirement already satisfied: aiohttp in /usr/local/lib/python3.10/dist-packages (from datasets->fastbook) (3.11.11)\n",
            "Requirement already satisfied: huggingface-hub>=0.23.0 in /usr/local/lib/python3.10/dist-packages (from datasets->fastbook) (0.27.1)\n",
            "Requirement already satisfied: charset-normalizer<4,>=2 in /usr/local/lib/python3.10/dist-packages (from requests->fastbook) (3.4.1)\n",
            "Requirement already satisfied: idna<4,>=2.5 in /usr/local/lib/python3.10/dist-packages (from requests->fastbook) (3.10)\n",
            "Requirement already satisfied: urllib3<3,>=1.21.1 in /usr/local/lib/python3.10/dist-packages (from requests->fastbook) (2.3.0)\n",
            "Requirement already satisfied: certifi>=2017.4.17 in /usr/local/lib/python3.10/dist-packages (from requests->fastbook) (2024.12.14)\n",
            "Requirement already satisfied: python-dateutil>=2.8.2 in /usr/local/lib/python3.10/dist-packages (from pandas->fastbook) (2.8.2)\n",
            "Requirement already satisfied: pytz>=2020.1 in /usr/local/lib/python3.10/dist-packages (from pandas->fastbook) (2024.2)\n",
            "Requirement already satisfied: tzdata>=2022.7 in /usr/local/lib/python3.10/dist-packages (from pandas->fastbook) (2024.2)\n",
            "Requirement already satisfied: regex!=2019.12.17 in /usr/local/lib/python3.10/dist-packages (from transformers->fastbook) (2024.11.6)\n",
            "Requirement already satisfied: tokenizers<0.22,>=0.21 in /usr/local/lib/python3.10/dist-packages (from transformers->fastbook) (0.21.0)\n",
            "Requirement already satisfied: safetensors>=0.4.1 in /usr/local/lib/python3.10/dist-packages (from transformers->fastbook) (0.5.1)\n",
            "Requirement already satisfied: aiohappyeyeballs>=2.3.0 in /usr/local/lib/python3.10/dist-packages (from aiohttp->datasets->fastbook) (2.4.4)\n",
            "Requirement already satisfied: aiosignal>=1.1.2 in /usr/local/lib/python3.10/dist-packages (from aiohttp->datasets->fastbook) (1.3.2)\n",
            "Requirement already satisfied: async-timeout<6.0,>=4.0 in /usr/local/lib/python3.10/dist-packages (from aiohttp->datasets->fastbook) (4.0.3)\n",
            "Requirement already satisfied: attrs>=17.3.0 in /usr/local/lib/python3.10/dist-packages (from aiohttp->datasets->fastbook) (24.3.0)\n",
            "Requirement already satisfied: frozenlist>=1.1.1 in /usr/local/lib/python3.10/dist-packages (from aiohttp->datasets->fastbook) (1.5.0)\n",
            "Requirement already satisfied: multidict<7.0,>=4.5 in /usr/local/lib/python3.10/dist-packages (from aiohttp->datasets->fastbook) (6.1.0)\n",
            "Requirement already satisfied: propcache>=0.2.0 in /usr/local/lib/python3.10/dist-packages (from aiohttp->datasets->fastbook) (0.2.1)\n",
            "Requirement already satisfied: yarl<2.0,>=1.17.0 in /usr/local/lib/python3.10/dist-packages (from aiohttp->datasets->fastbook) (1.18.3)\n",
            "Requirement already satisfied: typing-extensions>=3.7.4.3 in /usr/local/lib/python3.10/dist-packages (from huggingface-hub>=0.23.0->datasets->fastbook) (4.12.2)\n",
            "Requirement already satisfied: jupyter-client in /usr/local/lib/python3.10/dist-packages (from ipykernel>=4.5.1->ipywidgets<8->fastbook) (6.1.12)\n",
            "Requirement already satisfied: tornado>=4.2 in /usr/local/lib/python3.10/dist-packages (from ipykernel>=4.5.1->ipywidgets<8->fastbook) (6.3.3)\n",
            "Requirement already satisfied: setuptools>=18.5 in /usr/local/lib/python3.10/dist-packages (from ipython>=4.0.0->ipywidgets<8->fastbook) (75.1.0)\n",
            "Collecting jedi>=0.16 (from ipython>=4.0.0->ipywidgets<8->fastbook)\n",
            "  Downloading jedi-0.19.2-py2.py3-none-any.whl.metadata (22 kB)\n",
            "Requirement already satisfied: decorator in /usr/local/lib/python3.10/dist-packages (from ipython>=4.0.0->ipywidgets<8->fastbook) (4.4.2)\n",
            "Requirement already satisfied: pickleshare in /usr/local/lib/python3.10/dist-packages (from ipython>=4.0.0->ipywidgets<8->fastbook) (0.7.5)\n",
            "Requirement already satisfied: prompt-toolkit!=3.0.0,!=3.0.1,<3.1.0,>=2.0.0 in /usr/local/lib/python3.10/dist-packages (from ipython>=4.0.0->ipywidgets<8->fastbook) (3.0.48)\n",
            "Requirement already satisfied: pygments in /usr/local/lib/python3.10/dist-packages (from ipython>=4.0.0->ipywidgets<8->fastbook) (2.18.0)\n",
            "Requirement already satisfied: backcall in /usr/local/lib/python3.10/dist-packages (from ipython>=4.0.0->ipywidgets<8->fastbook) (0.2.0)\n",
            "Requirement already satisfied: matplotlib-inline in /usr/local/lib/python3.10/dist-packages (from ipython>=4.0.0->ipywidgets<8->fastbook) (0.1.7)\n",
            "Requirement already satisfied: pexpect>4.3 in /usr/local/lib/python3.10/dist-packages (from ipython>=4.0.0->ipywidgets<8->fastbook) (4.9.0)\n",
            "Requirement already satisfied: six>=1.5 in /usr/local/lib/python3.10/dist-packages (from python-dateutil>=2.8.2->pandas->fastbook) (1.17.0)\n",
            "Requirement already satisfied: spacy-legacy<3.1.0,>=3.0.11 in /usr/local/lib/python3.10/dist-packages (from spacy<4->fastai>=2.6->fastbook) (3.0.12)\n",
            "Requirement already satisfied: spacy-loggers<2.0.0,>=1.0.0 in /usr/local/lib/python3.10/dist-packages (from spacy<4->fastai>=2.6->fastbook) (1.0.5)\n",
            "Requirement already satisfied: murmurhash<1.1.0,>=0.28.0 in /usr/local/lib/python3.10/dist-packages (from spacy<4->fastai>=2.6->fastbook) (1.0.11)\n",
            "Requirement already satisfied: cymem<2.1.0,>=2.0.2 in /usr/local/lib/python3.10/dist-packages (from spacy<4->fastai>=2.6->fastbook) (2.0.10)\n",
            "Requirement already satisfied: preshed<3.1.0,>=3.0.2 in /usr/local/lib/python3.10/dist-packages (from spacy<4->fastai>=2.6->fastbook) (3.0.9)\n",
            "Requirement already satisfied: thinc<8.3.0,>=8.2.2 in /usr/local/lib/python3.10/dist-packages (from spacy<4->fastai>=2.6->fastbook) (8.2.5)\n",
            "Requirement already satisfied: wasabi<1.2.0,>=0.9.1 in /usr/local/lib/python3.10/dist-packages (from spacy<4->fastai>=2.6->fastbook) (1.1.3)\n",
            "Requirement already satisfied: srsly<3.0.0,>=2.4.3 in /usr/local/lib/python3.10/dist-packages (from spacy<4->fastai>=2.6->fastbook) (2.5.0)\n",
            "Requirement already satisfied: catalogue<2.1.0,>=2.0.6 in /usr/local/lib/python3.10/dist-packages (from spacy<4->fastai>=2.6->fastbook) (2.0.10)\n",
            "Requirement already satisfied: weasel<0.5.0,>=0.1.0 in /usr/local/lib/python3.10/dist-packages (from spacy<4->fastai>=2.6->fastbook) (0.4.1)\n",
            "Requirement already satisfied: typer<1.0.0,>=0.3.0 in /usr/local/lib/python3.10/dist-packages (from spacy<4->fastai>=2.6->fastbook) (0.15.1)\n",
            "Requirement already satisfied: pydantic!=1.8,!=1.8.1,<3.0.0,>=1.7.4 in /usr/local/lib/python3.10/dist-packages (from spacy<4->fastai>=2.6->fastbook) (2.10.4)\n",
            "Requirement already satisfied: jinja2 in /usr/local/lib/python3.10/dist-packages (from spacy<4->fastai>=2.6->fastbook) (3.1.5)\n",
            "Requirement already satisfied: langcodes<4.0.0,>=3.2.0 in /usr/local/lib/python3.10/dist-packages (from spacy<4->fastai>=2.6->fastbook) (3.5.0)\n",
            "Requirement already satisfied: networkx in /usr/local/lib/python3.10/dist-packages (from torch<2.6,>=1.10->fastai>=2.6->fastbook) (3.4.2)\n",
            "Requirement already satisfied: sympy==1.13.1 in /usr/local/lib/python3.10/dist-packages (from torch<2.6,>=1.10->fastai>=2.6->fastbook) (1.13.1)\n",
            "Requirement already satisfied: mpmath<1.4,>=1.1.0 in /usr/local/lib/python3.10/dist-packages (from sympy==1.13.1->torch<2.6,>=1.10->fastai>=2.6->fastbook) (1.3.0)\n",
            "Requirement already satisfied: notebook>=4.4.1 in /usr/local/lib/python3.10/dist-packages (from widgetsnbextension~=3.6.0->ipywidgets<8->fastbook) (6.5.5)\n",
            "Requirement already satisfied: contourpy>=1.0.1 in /usr/local/lib/python3.10/dist-packages (from matplotlib->fastai>=2.6->fastbook) (1.3.1)\n",
            "Requirement already satisfied: cycler>=0.10 in /usr/local/lib/python3.10/dist-packages (from matplotlib->fastai>=2.6->fastbook) (0.12.1)\n",
            "Requirement already satisfied: fonttools>=4.22.0 in /usr/local/lib/python3.10/dist-packages (from matplotlib->fastai>=2.6->fastbook) (4.55.3)\n",
            "Requirement already satisfied: kiwisolver>=1.3.1 in /usr/local/lib/python3.10/dist-packages (from matplotlib->fastai>=2.6->fastbook) (1.4.8)\n",
            "Requirement already satisfied: pyparsing>=2.3.1 in /usr/local/lib/python3.10/dist-packages (from matplotlib->fastai>=2.6->fastbook) (3.2.1)\n",
            "Requirement already satisfied: joblib>=1.2.0 in /usr/local/lib/python3.10/dist-packages (from scikit-learn->fastai>=2.6->fastbook) (1.4.2)\n",
            "Requirement already satisfied: threadpoolctl>=3.1.0 in /usr/local/lib/python3.10/dist-packages (from scikit-learn->fastai>=2.6->fastbook) (3.5.0)\n",
            "Requirement already satisfied: parso<0.9.0,>=0.8.4 in /usr/local/lib/python3.10/dist-packages (from jedi>=0.16->ipython>=4.0.0->ipywidgets<8->fastbook) (0.8.4)\n",
            "Requirement already satisfied: language-data>=1.2 in /usr/local/lib/python3.10/dist-packages (from langcodes<4.0.0,>=3.2.0->spacy<4->fastai>=2.6->fastbook) (1.3.0)\n",
            "Requirement already satisfied: pyzmq<25,>=17 in /usr/local/lib/python3.10/dist-packages (from notebook>=4.4.1->widgetsnbextension~=3.6.0->ipywidgets<8->fastbook) (24.0.1)\n",
            "Requirement already satisfied: argon2-cffi in /usr/local/lib/python3.10/dist-packages (from notebook>=4.4.1->widgetsnbextension~=3.6.0->ipywidgets<8->fastbook) (23.1.0)\n",
            "Requirement already satisfied: jupyter-core>=4.6.1 in /usr/local/lib/python3.10/dist-packages (from notebook>=4.4.1->widgetsnbextension~=3.6.0->ipywidgets<8->fastbook) (5.7.2)\n",
            "Requirement already satisfied: nbformat in /usr/local/lib/python3.10/dist-packages (from notebook>=4.4.1->widgetsnbextension~=3.6.0->ipywidgets<8->fastbook) (5.10.4)\n",
            "Requirement already satisfied: nbconvert>=5 in /usr/local/lib/python3.10/dist-packages (from notebook>=4.4.1->widgetsnbextension~=3.6.0->ipywidgets<8->fastbook) (7.16.5)\n",
            "Requirement already satisfied: nest-asyncio>=1.5 in /usr/local/lib/python3.10/dist-packages (from notebook>=4.4.1->widgetsnbextension~=3.6.0->ipywidgets<8->fastbook) (1.6.0)\n",
            "Requirement already satisfied: Send2Trash>=1.8.0 in /usr/local/lib/python3.10/dist-packages (from notebook>=4.4.1->widgetsnbextension~=3.6.0->ipywidgets<8->fastbook) (1.8.3)\n",
            "Requirement already satisfied: terminado>=0.8.3 in /usr/local/lib/python3.10/dist-packages (from notebook>=4.4.1->widgetsnbextension~=3.6.0->ipywidgets<8->fastbook) (0.18.1)\n",
            "Requirement already satisfied: prometheus-client in /usr/local/lib/python3.10/dist-packages (from notebook>=4.4.1->widgetsnbextension~=3.6.0->ipywidgets<8->fastbook) (0.21.1)\n",
            "Requirement already satisfied: nbclassic>=0.4.7 in /usr/local/lib/python3.10/dist-packages (from notebook>=4.4.1->widgetsnbextension~=3.6.0->ipywidgets<8->fastbook) (1.1.0)\n",
            "Requirement already satisfied: ptyprocess>=0.5 in /usr/local/lib/python3.10/dist-packages (from pexpect>4.3->ipython>=4.0.0->ipywidgets<8->fastbook) (0.7.0)\n",
            "Requirement already satisfied: wcwidth in /usr/local/lib/python3.10/dist-packages (from prompt-toolkit!=3.0.0,!=3.0.1,<3.1.0,>=2.0.0->ipython>=4.0.0->ipywidgets<8->fastbook) (0.2.13)\n",
            "Requirement already satisfied: annotated-types>=0.6.0 in /usr/local/lib/python3.10/dist-packages (from pydantic!=1.8,!=1.8.1,<3.0.0,>=1.7.4->spacy<4->fastai>=2.6->fastbook) (0.7.0)\n",
            "Requirement already satisfied: pydantic-core==2.27.2 in /usr/local/lib/python3.10/dist-packages (from pydantic!=1.8,!=1.8.1,<3.0.0,>=1.7.4->spacy<4->fastai>=2.6->fastbook) (2.27.2)\n",
            "Requirement already satisfied: blis<0.8.0,>=0.7.8 in /usr/local/lib/python3.10/dist-packages (from thinc<8.3.0,>=8.2.2->spacy<4->fastai>=2.6->fastbook) (0.7.11)\n",
            "Requirement already satisfied: confection<1.0.0,>=0.0.1 in /usr/local/lib/python3.10/dist-packages (from thinc<8.3.0,>=8.2.2->spacy<4->fastai>=2.6->fastbook) (0.1.5)\n",
            "Requirement already satisfied: click>=8.0.0 in /usr/local/lib/python3.10/dist-packages (from typer<1.0.0,>=0.3.0->spacy<4->fastai>=2.6->fastbook) (8.1.8)\n",
            "Requirement already satisfied: shellingham>=1.3.0 in /usr/local/lib/python3.10/dist-packages (from typer<1.0.0,>=0.3.0->spacy<4->fastai>=2.6->fastbook) (1.5.4)\n",
            "Requirement already satisfied: rich>=10.11.0 in /usr/local/lib/python3.10/dist-packages (from typer<1.0.0,>=0.3.0->spacy<4->fastai>=2.6->fastbook) (13.9.4)\n",
            "Requirement already satisfied: cloudpathlib<1.0.0,>=0.7.0 in /usr/local/lib/python3.10/dist-packages (from weasel<0.5.0,>=0.1.0->spacy<4->fastai>=2.6->fastbook) (0.20.0)\n",
            "Requirement already satisfied: smart-open<8.0.0,>=5.2.1 in /usr/local/lib/python3.10/dist-packages (from weasel<0.5.0,>=0.1.0->spacy<4->fastai>=2.6->fastbook) (7.1.0)\n",
            "Requirement already satisfied: MarkupSafe>=2.0 in /usr/local/lib/python3.10/dist-packages (from jinja2->spacy<4->fastai>=2.6->fastbook) (3.0.2)\n",
            "Requirement already satisfied: platformdirs>=2.5 in /usr/local/lib/python3.10/dist-packages (from jupyter-core>=4.6.1->notebook>=4.4.1->widgetsnbextension~=3.6.0->ipywidgets<8->fastbook) (4.3.6)\n",
            "Requirement already satisfied: marisa-trie>=1.1.0 in /usr/local/lib/python3.10/dist-packages (from language-data>=1.2->langcodes<4.0.0,>=3.2.0->spacy<4->fastai>=2.6->fastbook) (1.2.1)\n",
            "Requirement already satisfied: notebook-shim>=0.2.3 in /usr/local/lib/python3.10/dist-packages (from nbclassic>=0.4.7->notebook>=4.4.1->widgetsnbextension~=3.6.0->ipywidgets<8->fastbook) (0.2.4)\n",
            "Requirement already satisfied: beautifulsoup4 in /usr/local/lib/python3.10/dist-packages (from nbconvert>=5->notebook>=4.4.1->widgetsnbextension~=3.6.0->ipywidgets<8->fastbook) (4.12.3)\n",
            "Requirement already satisfied: bleach!=5.0.0 in /usr/local/lib/python3.10/dist-packages (from bleach[css]!=5.0.0->nbconvert>=5->notebook>=4.4.1->widgetsnbextension~=3.6.0->ipywidgets<8->fastbook) (6.2.0)\n",
            "Requirement already satisfied: defusedxml in /usr/local/lib/python3.10/dist-packages (from nbconvert>=5->notebook>=4.4.1->widgetsnbextension~=3.6.0->ipywidgets<8->fastbook) (0.7.1)\n",
            "Requirement already satisfied: jupyterlab-pygments in /usr/local/lib/python3.10/dist-packages (from nbconvert>=5->notebook>=4.4.1->widgetsnbextension~=3.6.0->ipywidgets<8->fastbook) (0.3.0)\n",
            "Requirement already satisfied: mistune<4,>=2.0.3 in /usr/local/lib/python3.10/dist-packages (from nbconvert>=5->notebook>=4.4.1->widgetsnbextension~=3.6.0->ipywidgets<8->fastbook) (3.1.0)\n",
            "Requirement already satisfied: nbclient>=0.5.0 in /usr/local/lib/python3.10/dist-packages (from nbconvert>=5->notebook>=4.4.1->widgetsnbextension~=3.6.0->ipywidgets<8->fastbook) (0.10.2)\n",
            "Requirement already satisfied: pandocfilters>=1.4.1 in /usr/local/lib/python3.10/dist-packages (from nbconvert>=5->notebook>=4.4.1->widgetsnbextension~=3.6.0->ipywidgets<8->fastbook) (1.5.1)\n",
            "Requirement already satisfied: fastjsonschema>=2.15 in /usr/local/lib/python3.10/dist-packages (from nbformat->notebook>=4.4.1->widgetsnbextension~=3.6.0->ipywidgets<8->fastbook) (2.21.1)\n",
            "Requirement already satisfied: jsonschema>=2.6 in /usr/local/lib/python3.10/dist-packages (from nbformat->notebook>=4.4.1->widgetsnbextension~=3.6.0->ipywidgets<8->fastbook) (4.23.0)\n",
            "Requirement already satisfied: markdown-it-py>=2.2.0 in /usr/local/lib/python3.10/dist-packages (from rich>=10.11.0->typer<1.0.0,>=0.3.0->spacy<4->fastai>=2.6->fastbook) (3.0.0)\n",
            "Requirement already satisfied: wrapt in /usr/local/lib/python3.10/dist-packages (from smart-open<8.0.0,>=5.2.1->weasel<0.5.0,>=0.1.0->spacy<4->fastai>=2.6->fastbook) (1.17.0)\n",
            "Requirement already satisfied: argon2-cffi-bindings in /usr/local/lib/python3.10/dist-packages (from argon2-cffi->notebook>=4.4.1->widgetsnbextension~=3.6.0->ipywidgets<8->fastbook) (21.2.0)\n",
            "Requirement already satisfied: webencodings in /usr/local/lib/python3.10/dist-packages (from bleach!=5.0.0->bleach[css]!=5.0.0->nbconvert>=5->notebook>=4.4.1->widgetsnbextension~=3.6.0->ipywidgets<8->fastbook) (0.5.1)\n",
            "Requirement already satisfied: tinycss2<1.5,>=1.1.0 in /usr/local/lib/python3.10/dist-packages (from bleach[css]!=5.0.0->nbconvert>=5->notebook>=4.4.1->widgetsnbextension~=3.6.0->ipywidgets<8->fastbook) (1.4.0)\n",
            "Requirement already satisfied: jsonschema-specifications>=2023.03.6 in /usr/local/lib/python3.10/dist-packages (from jsonschema>=2.6->nbformat->notebook>=4.4.1->widgetsnbextension~=3.6.0->ipywidgets<8->fastbook) (2024.10.1)\n",
            "Requirement already satisfied: referencing>=0.28.4 in /usr/local/lib/python3.10/dist-packages (from jsonschema>=2.6->nbformat->notebook>=4.4.1->widgetsnbextension~=3.6.0->ipywidgets<8->fastbook) (0.35.1)\n",
            "Requirement already satisfied: rpds-py>=0.7.1 in /usr/local/lib/python3.10/dist-packages (from jsonschema>=2.6->nbformat->notebook>=4.4.1->widgetsnbextension~=3.6.0->ipywidgets<8->fastbook) (0.22.3)\n",
            "Requirement already satisfied: mdurl~=0.1 in /usr/local/lib/python3.10/dist-packages (from markdown-it-py>=2.2.0->rich>=10.11.0->typer<1.0.0,>=0.3.0->spacy<4->fastai>=2.6->fastbook) (0.1.2)\n",
            "Requirement already satisfied: jupyter-server<3,>=1.8 in /usr/local/lib/python3.10/dist-packages (from notebook-shim>=0.2.3->nbclassic>=0.4.7->notebook>=4.4.1->widgetsnbextension~=3.6.0->ipywidgets<8->fastbook) (1.24.0)\n",
            "Requirement already satisfied: cffi>=1.0.1 in /usr/local/lib/python3.10/dist-packages (from argon2-cffi-bindings->argon2-cffi->notebook>=4.4.1->widgetsnbextension~=3.6.0->ipywidgets<8->fastbook) (1.17.1)\n",
            "Requirement already satisfied: soupsieve>1.2 in /usr/local/lib/python3.10/dist-packages (from beautifulsoup4->nbconvert>=5->notebook>=4.4.1->widgetsnbextension~=3.6.0->ipywidgets<8->fastbook) (2.6)\n",
            "Requirement already satisfied: pycparser in /usr/local/lib/python3.10/dist-packages (from cffi>=1.0.1->argon2-cffi-bindings->argon2-cffi->notebook>=4.4.1->widgetsnbextension~=3.6.0->ipywidgets<8->fastbook) (2.22)\n",
            "Requirement already satisfied: anyio<4,>=3.1.0 in /usr/local/lib/python3.10/dist-packages (from jupyter-server<3,>=1.8->notebook-shim>=0.2.3->nbclassic>=0.4.7->notebook>=4.4.1->widgetsnbextension~=3.6.0->ipywidgets<8->fastbook) (3.7.1)\n",
            "Requirement already satisfied: websocket-client in /usr/local/lib/python3.10/dist-packages (from jupyter-server<3,>=1.8->notebook-shim>=0.2.3->nbclassic>=0.4.7->notebook>=4.4.1->widgetsnbextension~=3.6.0->ipywidgets<8->fastbook) (1.8.0)\n",
            "Requirement already satisfied: sniffio>=1.1 in /usr/local/lib/python3.10/dist-packages (from anyio<4,>=3.1.0->jupyter-server<3,>=1.8->notebook-shim>=0.2.3->nbclassic>=0.4.7->notebook>=4.4.1->widgetsnbextension~=3.6.0->ipywidgets<8->fastbook) (1.3.1)\n",
            "Requirement already satisfied: exceptiongroup in /usr/local/lib/python3.10/dist-packages (from anyio<4,>=3.1.0->jupyter-server<3,>=1.8->notebook-shim>=0.2.3->nbclassic>=0.4.7->notebook>=4.4.1->widgetsnbextension~=3.6.0->ipywidgets<8->fastbook) (1.2.2)\n",
            "Downloading fastbook-0.0.29-py3-none-any.whl (719 kB)\n",
            "\u001b[2K   \u001b[90m━━━━━━━━━━━━━━━━━━━━━━━━━━━━━━━━━━━━━━━━\u001b[0m \u001b[32m719.8/719.8 kB\u001b[0m \u001b[31m17.6 MB/s\u001b[0m eta \u001b[36m0:00:00\u001b[0m\n",
            "\u001b[?25hDownloading datasets-3.2.0-py3-none-any.whl (480 kB)\n",
            "\u001b[2K   \u001b[90m━━━━━━━━━━━━━━━━━━━━━━━━━━━━━━━━━━━━━━━━\u001b[0m \u001b[32m480.6/480.6 kB\u001b[0m \u001b[31m26.4 MB/s\u001b[0m eta \u001b[36m0:00:00\u001b[0m\n",
            "\u001b[?25hDownloading dill-0.3.8-py3-none-any.whl (116 kB)\n",
            "\u001b[2K   \u001b[90m━━━━━━━━━━━━━━━━━━━━━━━━━━━━━━━━━━━━━━━━\u001b[0m \u001b[32m116.3/116.3 kB\u001b[0m \u001b[31m11.9 MB/s\u001b[0m eta \u001b[36m0:00:00\u001b[0m\n",
            "\u001b[?25hDownloading fsspec-2024.9.0-py3-none-any.whl (179 kB)\n",
            "\u001b[2K   \u001b[90m━━━━━━━━━━━━━━━━━━━━━━━━━━━━━━━━━━━━━━━━\u001b[0m \u001b[32m179.3/179.3 kB\u001b[0m \u001b[31m18.1 MB/s\u001b[0m eta \u001b[36m0:00:00\u001b[0m\n",
            "\u001b[?25hDownloading multiprocess-0.70.16-py310-none-any.whl (134 kB)\n",
            "\u001b[2K   \u001b[90m━━━━━━━━━━━━━━━━━━━━━━━━━━━━━━━━━━━━━━━━\u001b[0m \u001b[32m134.8/134.8 kB\u001b[0m \u001b[31m14.2 MB/s\u001b[0m eta \u001b[36m0:00:00\u001b[0m\n",
            "\u001b[?25hDownloading xxhash-3.5.0-cp310-cp310-manylinux_2_17_x86_64.manylinux2014_x86_64.whl (194 kB)\n",
            "\u001b[2K   \u001b[90m━━━━━━━━━━━━━━━━━━━━━━━━━━━━━━━━━━━━━━━━\u001b[0m \u001b[32m194.1/194.1 kB\u001b[0m \u001b[31m20.5 MB/s\u001b[0m eta \u001b[36m0:00:00\u001b[0m\n",
            "\u001b[?25hDownloading jedi-0.19.2-py2.py3-none-any.whl (1.6 MB)\n",
            "\u001b[2K   \u001b[90m━━━━━━━━━━━━━━━━━━━━━━━━━━━━━━━━━━━━━━━━\u001b[0m \u001b[32m1.6/1.6 MB\u001b[0m \u001b[31m63.3 MB/s\u001b[0m eta \u001b[36m0:00:00\u001b[0m\n",
            "\u001b[?25hInstalling collected packages: xxhash, jedi, fsspec, dill, multiprocess, datasets, fastbook\n",
            "  Attempting uninstall: fsspec\n",
            "    Found existing installation: fsspec 2024.10.0\n",
            "    Uninstalling fsspec-2024.10.0:\n",
            "      Successfully uninstalled fsspec-2024.10.0\n",
            "\u001b[31mERROR: pip's dependency resolver does not currently take into account all the packages that are installed. This behaviour is the source of the following dependency conflicts.\n",
            "gcsfs 2024.10.0 requires fsspec==2024.10.0, but you have fsspec 2024.9.0 which is incompatible.\u001b[0m\u001b[31m\n",
            "\u001b[0mSuccessfully installed datasets-3.2.0 dill-0.3.8 fastbook-0.0.29 fsspec-2024.9.0 jedi-0.19.2 multiprocess-0.70.16 xxhash-3.5.0\n"
          ]
        }
      ],
      "source": [
        "!pip install torch\n",
        "!pip install fastbook"
      ]
    },
    {
      "cell_type": "code",
      "source": [
        "# Check pytorch version\n",
        "import torch\n",
        "print(torch.__version__)"
      ],
      "metadata": {
        "colab": {
          "base_uri": "https://localhost:8080/"
        },
        "id": "9N2o2s4f0ve0",
        "outputId": "9b68d733-cc8d-4473-8e73-5e90227aab90"
      },
      "execution_count": 5,
      "outputs": [
        {
          "output_type": "stream",
          "name": "stdout",
          "text": [
            "2.5.1+cu121\n"
          ]
        }
      ]
    },
    {
      "cell_type": "code",
      "source": [
        "# 0 dimension tensor\n",
        "import torch\n",
        "\n",
        "x = torch.tensor(42)\n",
        "print(x)"
      ],
      "metadata": {
        "colab": {
          "base_uri": "https://localhost:8080/"
        },
        "id": "sla0SwZ903Od",
        "outputId": "425fb556-e6fc-46b2-8ad8-6ff8a487c2df"
      },
      "execution_count": 6,
      "outputs": [
        {
          "output_type": "stream",
          "name": "stdout",
          "text": [
            "tensor(42)\n"
          ]
        }
      ]
    },
    {
      "cell_type": "code",
      "source": [
        "# 1 dimension tensor\n",
        "import torch\n",
        "\n",
        "x = torch.tensor([42, 43])\n",
        "print(x)"
      ],
      "metadata": {
        "colab": {
          "base_uri": "https://localhost:8080/"
        },
        "id": "ncpsdQJr071R",
        "outputId": "06432a86-69f6-4e42-f4f5-bfdbcb896464"
      },
      "execution_count": 7,
      "outputs": [
        {
          "output_type": "stream",
          "name": "stdout",
          "text": [
            "tensor([42, 43])\n"
          ]
        }
      ]
    },
    {
      "cell_type": "code",
      "source": [
        "# 2 dimension tensor\n",
        "import torch\n",
        "\n",
        "x = torch.tensor([[42, 43], [44, 45]])\n",
        "print(x)"
      ],
      "metadata": {
        "colab": {
          "base_uri": "https://localhost:8080/"
        },
        "id": "Hado_LJ50-L4",
        "outputId": "6a33091c-1c80-4f7a-85c8-7bcd696f5309"
      },
      "execution_count": 8,
      "outputs": [
        {
          "output_type": "stream",
          "name": "stdout",
          "text": [
            "tensor([[42, 43],\n",
            "        [44, 45]])\n"
          ]
        }
      ]
    },
    {
      "cell_type": "code",
      "source": [
        "# 3 dimension tensor\n",
        "import torch\n",
        "\n",
        "x = torch.tensor([[[42, 43], [44, 45]], [[46, 47], [48, 49]]])\n",
        "print(x)"
      ],
      "metadata": {
        "colab": {
          "base_uri": "https://localhost:8080/"
        },
        "id": "tonv8Ig_1ASz",
        "outputId": "039ae6f1-c2ed-464c-e26c-a14a7d30456a"
      },
      "execution_count": 9,
      "outputs": [
        {
          "output_type": "stream",
          "name": "stdout",
          "text": [
            "tensor([[[42, 43],\n",
            "         [44, 45]],\n",
            "\n",
            "        [[46, 47],\n",
            "         [48, 49]]])\n"
          ]
        }
      ]
    },
    {
      "cell_type": "code",
      "source": [
        "x = torch.tensor([[[42, 43], [44, 45]], [[46, 47], [48, 49]]])\n",
        "print(x.dim())\n",
        "\n",
        "x = torch.tensor(42)\n",
        "print(x.dim())"
      ],
      "metadata": {
        "colab": {
          "base_uri": "https://localhost:8080/"
        },
        "id": "wj-PEGJQ1GIo",
        "outputId": "a46e4ea9-8c9b-4e07-82c7-f2e4e7a497bb"
      },
      "execution_count": 10,
      "outputs": [
        {
          "output_type": "stream",
          "name": "stdout",
          "text": [
            "3\n",
            "0\n"
          ]
        }
      ]
    },
    {
      "cell_type": "code",
      "source": [
        "import torch\n",
        "torch.rand(5, 3)"
      ],
      "metadata": {
        "colab": {
          "base_uri": "https://localhost:8080/"
        },
        "id": "ww0qu5_31MTf",
        "outputId": "fd181c62-27a6-4a11-cb2d-ab53fa72eca6"
      },
      "execution_count": 11,
      "outputs": [
        {
          "output_type": "execute_result",
          "data": {
            "text/plain": [
              "tensor([[0.7590, 0.9597, 0.6839],\n",
              "        [0.7800, 0.1557, 0.8371],\n",
              "        [0.7521, 0.1571, 0.2696],\n",
              "        [0.3538, 0.7816, 0.2903],\n",
              "        [0.2189, 0.1895, 0.0296]])"
            ]
          },
          "metadata": {},
          "execution_count": 11
        }
      ]
    },
    {
      "cell_type": "code",
      "source": [
        "import torch\n",
        "# One dimensional tensor containing 5 random numbers\n",
        "torch.rand(5)"
      ],
      "metadata": {
        "colab": {
          "base_uri": "https://localhost:8080/"
        },
        "id": "oGlU_wyn1REb",
        "outputId": "ef5cbb22-3ab5-4e5d-e765-01ac8938757a"
      },
      "execution_count": 12,
      "outputs": [
        {
          "output_type": "execute_result",
          "data": {
            "text/plain": [
              "tensor([0.0601, 0.4592, 0.9502, 0.9178, 0.0136])"
            ]
          },
          "metadata": {},
          "execution_count": 12
        }
      ]
    },
    {
      "cell_type": "code",
      "source": [
        "import torch\n",
        "torch.ones(2, 3)"
      ],
      "metadata": {
        "colab": {
          "base_uri": "https://localhost:8080/"
        },
        "id": "p_OFBp9Z1TOC",
        "outputId": "4d6e2ef2-ce4b-4347-d607-f1467719bd5d"
      },
      "execution_count": 13,
      "outputs": [
        {
          "output_type": "execute_result",
          "data": {
            "text/plain": [
              "tensor([[1., 1., 1.],\n",
              "        [1., 1., 1.]])"
            ]
          },
          "metadata": {},
          "execution_count": 13
        }
      ]
    },
    {
      "cell_type": "code",
      "source": [
        "import torch\n",
        "torch.ones(1, 2)"
      ],
      "metadata": {
        "colab": {
          "base_uri": "https://localhost:8080/"
        },
        "id": "fhqJ53pW1U55",
        "outputId": "0d070505-a8b7-457f-f76b-ac3af62c7fd0"
      },
      "execution_count": 14,
      "outputs": [
        {
          "output_type": "execute_result",
          "data": {
            "text/plain": [
              "tensor([[1., 1.]])"
            ]
          },
          "metadata": {},
          "execution_count": 14
        }
      ]
    },
    {
      "cell_type": "code",
      "source": [
        "import torch\n",
        "torch.zeros(1,2,3)"
      ],
      "metadata": {
        "colab": {
          "base_uri": "https://localhost:8080/"
        },
        "id": "jXdFJ38p1XX4",
        "outputId": "bae6edd1-63bf-479d-ec4c-0f1cee0b5851"
      },
      "execution_count": 15,
      "outputs": [
        {
          "output_type": "execute_result",
          "data": {
            "text/plain": [
              "tensor([[[0., 0., 0.],\n",
              "         [0., 0., 0.]]])"
            ]
          },
          "metadata": {},
          "execution_count": 15
        }
      ]
    },
    {
      "cell_type": "code",
      "source": [
        "import torch\n",
        "torch.arange(1, 10)"
      ],
      "metadata": {
        "colab": {
          "base_uri": "https://localhost:8080/"
        },
        "id": "du76w_3D1ZGv",
        "outputId": "3d2b65e1-e76c-4ed9-c6f5-2b03269b6f78"
      },
      "execution_count": 16,
      "outputs": [
        {
          "output_type": "execute_result",
          "data": {
            "text/plain": [
              "tensor([1, 2, 3, 4, 5, 6, 7, 8, 9])"
            ]
          },
          "metadata": {},
          "execution_count": 16
        }
      ]
    },
    {
      "cell_type": "code",
      "source": [
        "torch.arange(-3, 3, 2)"
      ],
      "metadata": {
        "colab": {
          "base_uri": "https://localhost:8080/"
        },
        "id": "0GRdZc061byF",
        "outputId": "90831712-c090-421d-c377-1c6cbac6afa7"
      },
      "execution_count": 17,
      "outputs": [
        {
          "output_type": "execute_result",
          "data": {
            "text/plain": [
              "tensor([-3, -1,  1])"
            ]
          },
          "metadata": {},
          "execution_count": 17
        }
      ]
    },
    {
      "cell_type": "code",
      "source": [
        "import torch\n",
        "torch.full((2, ), 42)"
      ],
      "metadata": {
        "colab": {
          "base_uri": "https://localhost:8080/"
        },
        "id": "ICQE926T1dY1",
        "outputId": "f707a2b9-7baf-45e4-9191-03608357e75b"
      },
      "execution_count": 18,
      "outputs": [
        {
          "output_type": "execute_result",
          "data": {
            "text/plain": [
              "tensor([42, 42])"
            ]
          },
          "metadata": {},
          "execution_count": 18
        }
      ]
    },
    {
      "cell_type": "code",
      "source": [
        "import torch\n",
        "torch.ones(2, 3) * 42"
      ],
      "metadata": {
        "colab": {
          "base_uri": "https://localhost:8080/"
        },
        "id": "Ep-L6b2g1fec",
        "outputId": "03b3d12a-3866-4eb5-942e-1cc387f50307"
      },
      "execution_count": 19,
      "outputs": [
        {
          "output_type": "execute_result",
          "data": {
            "text/plain": [
              "tensor([[42., 42., 42.],\n",
              "        [42., 42., 42.]])"
            ]
          },
          "metadata": {},
          "execution_count": 19
        }
      ]
    },
    {
      "cell_type": "code",
      "source": [
        "x = torch.tensor(42)\n",
        "print(x + 2)\n",
        "print(x * 3)\n",
        "print(x ** 2)\n",
        "print(x / 2)"
      ],
      "metadata": {
        "colab": {
          "base_uri": "https://localhost:8080/"
        },
        "id": "c4RMpnvc1hUM",
        "outputId": "c572a2cf-334d-43fd-fd4c-10f8804975bc"
      },
      "execution_count": 20,
      "outputs": [
        {
          "output_type": "stream",
          "name": "stdout",
          "text": [
            "tensor(44)\n",
            "tensor(126)\n",
            "tensor(1764)\n",
            "tensor(21.)\n"
          ]
        }
      ]
    },
    {
      "cell_type": "code",
      "source": [
        "x = torch.tensor([1, 2])\n",
        "print(x + 1)\n",
        "\n",
        "x = torch.tensor([[1, 2], [3, 4]])\n",
        "print(x + 1)"
      ],
      "metadata": {
        "colab": {
          "base_uri": "https://localhost:8080/"
        },
        "id": "WdA07L2n1jMC",
        "outputId": "aea62b1b-b44d-45fc-bfc5-5c45d820a75f"
      },
      "execution_count": 21,
      "outputs": [
        {
          "output_type": "stream",
          "name": "stdout",
          "text": [
            "tensor([2, 3])\n",
            "tensor([[2, 3],\n",
            "        [4, 5]])\n"
          ]
        }
      ]
    },
    {
      "cell_type": "code",
      "source": [
        "import torch\n",
        "torch.full((1,), 5) + torch.ones(3)"
      ],
      "metadata": {
        "colab": {
          "base_uri": "https://localhost:8080/"
        },
        "id": "QrgWnrvV1lhB",
        "outputId": "446f5605-ff42-449b-9941-20b7be0c0e93"
      },
      "execution_count": 22,
      "outputs": [
        {
          "output_type": "execute_result",
          "data": {
            "text/plain": [
              "tensor([6., 6., 6.])"
            ]
          },
          "metadata": {},
          "execution_count": 22
        }
      ]
    },
    {
      "cell_type": "code",
      "source": [
        "import torch\n",
        "# Error\n",
        "torch.ones(3) + torch.ones(5)"
      ],
      "metadata": {
        "colab": {
          "base_uri": "https://localhost:8080/",
          "height": 176
        },
        "id": "P-EWaJ461oFo",
        "outputId": "ab3dfffd-22ce-405f-96d6-614a4cc11152"
      },
      "execution_count": 23,
      "outputs": [
        {
          "output_type": "error",
          "ename": "RuntimeError",
          "evalue": "The size of tensor a (3) must match the size of tensor b (5) at non-singleton dimension 0",
          "traceback": [
            "\u001b[0;31m---------------------------------------------------------------------------\u001b[0m",
            "\u001b[0;31mRuntimeError\u001b[0m                              Traceback (most recent call last)",
            "\u001b[0;32m<ipython-input-23-a50fc89b26d0>\u001b[0m in \u001b[0;36m<cell line: 3>\u001b[0;34m()\u001b[0m\n\u001b[1;32m      1\u001b[0m \u001b[0;32mimport\u001b[0m \u001b[0mtorch\u001b[0m\u001b[0;34m\u001b[0m\u001b[0;34m\u001b[0m\u001b[0m\n\u001b[1;32m      2\u001b[0m \u001b[0;31m# Error\u001b[0m\u001b[0;34m\u001b[0m\u001b[0;34m\u001b[0m\u001b[0m\n\u001b[0;32m----> 3\u001b[0;31m \u001b[0mtorch\u001b[0m\u001b[0;34m.\u001b[0m\u001b[0mones\u001b[0m\u001b[0;34m(\u001b[0m\u001b[0;36m3\u001b[0m\u001b[0;34m)\u001b[0m \u001b[0;34m+\u001b[0m \u001b[0mtorch\u001b[0m\u001b[0;34m.\u001b[0m\u001b[0mones\u001b[0m\u001b[0;34m(\u001b[0m\u001b[0;36m5\u001b[0m\u001b[0;34m)\u001b[0m\u001b[0;34m\u001b[0m\u001b[0;34m\u001b[0m\u001b[0m\n\u001b[0m",
            "\u001b[0;31mRuntimeError\u001b[0m: The size of tensor a (3) must match the size of tensor b (5) at non-singleton dimension 0"
          ]
        }
      ]
    },
    {
      "cell_type": "code",
      "source": [
        "import torch\n",
        "\n",
        "torch.full((2, 2), 5) + torch.full((1, 2), 3)"
      ],
      "metadata": {
        "colab": {
          "base_uri": "https://localhost:8080/"
        },
        "id": "qnY2oIry1sjb",
        "outputId": "9ba2bf9e-f0fc-4215-f67a-73510960a2a2"
      },
      "execution_count": 24,
      "outputs": [
        {
          "output_type": "execute_result",
          "data": {
            "text/plain": [
              "tensor([[8, 8],\n",
              "        [8, 8]])"
            ]
          },
          "metadata": {},
          "execution_count": 24
        }
      ]
    },
    {
      "cell_type": "code",
      "source": [
        "import torch\n",
        "\n",
        "x = torch.full((3, 4, 2), 5)\n",
        "y = torch.full((2,), 3)\n",
        "z = x + y\n",
        "print('x =', x)\n",
        "print('y =', y)\n",
        "print('z = ',z)"
      ],
      "metadata": {
        "colab": {
          "base_uri": "https://localhost:8080/"
        },
        "id": "jLhJgJnS1vU1",
        "outputId": "d15a9bf5-904d-49d5-9877-d27469fb3cb9"
      },
      "execution_count": 25,
      "outputs": [
        {
          "output_type": "stream",
          "name": "stdout",
          "text": [
            "x = tensor([[[5, 5],\n",
            "         [5, 5],\n",
            "         [5, 5],\n",
            "         [5, 5]],\n",
            "\n",
            "        [[5, 5],\n",
            "         [5, 5],\n",
            "         [5, 5],\n",
            "         [5, 5]],\n",
            "\n",
            "        [[5, 5],\n",
            "         [5, 5],\n",
            "         [5, 5],\n",
            "         [5, 5]]])\n",
            "y = tensor([3, 3])\n",
            "z =  tensor([[[8, 8],\n",
            "         [8, 8],\n",
            "         [8, 8],\n",
            "         [8, 8]],\n",
            "\n",
            "        [[8, 8],\n",
            "         [8, 8],\n",
            "         [8, 8],\n",
            "         [8, 8]],\n",
            "\n",
            "        [[8, 8],\n",
            "         [8, 8],\n",
            "         [8, 8],\n",
            "         [8, 8]]])\n"
          ]
        }
      ]
    },
    {
      "cell_type": "code",
      "source": [
        "import torch\n",
        "\n",
        "x = torch.tensor([[3, 4]])\n",
        "print(x.shape)\n",
        "y = torch.tensor([[1, 2, 3], [4, 5, 6]])\n",
        "print(y.shape)\n",
        "x @ y\n",
        "x.matmul(y)\n",
        "x.mm(y)"
      ],
      "metadata": {
        "colab": {
          "base_uri": "https://localhost:8080/"
        },
        "id": "apvTMJnU1xbM",
        "outputId": "5732be03-92d3-4bf4-ab1c-d020a77fdc1f"
      },
      "execution_count": 26,
      "outputs": [
        {
          "output_type": "stream",
          "name": "stdout",
          "text": [
            "torch.Size([1, 2])\n",
            "torch.Size([2, 3])\n"
          ]
        },
        {
          "output_type": "execute_result",
          "data": {
            "text/plain": [
              "tensor([[19, 26, 33]])"
            ]
          },
          "metadata": {},
          "execution_count": 26
        }
      ]
    },
    {
      "cell_type": "code",
      "source": [
        "import torch\n",
        "\n",
        "x = torch.tensor([[3, 4]])\n",
        "x * x"
      ],
      "metadata": {
        "colab": {
          "base_uri": "https://localhost:8080/"
        },
        "id": "8_Y3x5OM1zwz",
        "outputId": "d75d57ca-3afe-42be-ace3-c58dac21e65c"
      },
      "execution_count": 27,
      "outputs": [
        {
          "output_type": "execute_result",
          "data": {
            "text/plain": [
              "tensor([[ 9, 16]])"
            ]
          },
          "metadata": {},
          "execution_count": 27
        }
      ]
    },
    {
      "cell_type": "code",
      "source": [
        "import torch\n",
        "\n",
        "x = torch.tensor([[3, 4]])\n",
        "print(x)\n",
        "print(x.shape)\n",
        "print(x.T)\n",
        "print(x.T.shape)"
      ],
      "metadata": {
        "colab": {
          "base_uri": "https://localhost:8080/"
        },
        "id": "DzcE7ibb12zn",
        "outputId": "7ab2237a-b652-44fe-f770-d45ca632616c"
      },
      "execution_count": 28,
      "outputs": [
        {
          "output_type": "stream",
          "name": "stdout",
          "text": [
            "tensor([[3, 4]])\n",
            "torch.Size([1, 2])\n",
            "tensor([[3],\n",
            "        [4]])\n",
            "torch.Size([2, 1])\n"
          ]
        }
      ]
    },
    {
      "cell_type": "code",
      "source": [
        "from fastbook import *\n",
        "\n",
        "\n",
        "# Draw neurons with multiple inputs and weights\n",
        "gv('''\n",
        "z[shape=box3d width=1 height=0.7]\n",
        "bias[shape=circle width=0.3]\n",
        "x_0[label=1]\n",
        "x_1[label=2]\n",
        "// Subgraph to force alignment on x-axis\n",
        "subgraph {\n",
        "    rank=same;\n",
        "    z;\n",
        "    bias;\n",
        "    alignmentNode [style=invis, width=0]; // invisible node for alignment\n",
        "    bias -> alignmentNode [style=invis]; // invisible edge\n",
        "    z -> alignmentNode [style=invis]; // invisible edge\n",
        "}\n",
        "x_0->z [label=\"3\"]\n",
        "x_1->z [label=\"4\"]\n",
        "bias->z [label=\"5\" pos=\"0,1.2!\"]\n",
        "z->a\n",
        "a->output [label=\"ReLU\"]\n",
        "''')"
      ],
      "metadata": {
        "colab": {
          "base_uri": "https://localhost:8080/",
          "height": 313
        },
        "id": "t64ZGOCP14dX",
        "outputId": "9e0b6ee2-7d0a-4588-9780-e383ad7ce1b5"
      },
      "execution_count": 29,
      "outputs": [
        {
          "output_type": "execute_result",
          "data": {
            "image/svg+xml": "<?xml version=\"1.0\" encoding=\"UTF-8\" standalone=\"no\"?>\n<!DOCTYPE svg PUBLIC \"-//W3C//DTD SVG 1.1//EN\"\n \"http://www.w3.org/Graphics/SVG/1.1/DTD/svg11.dtd\">\n<!-- Generated by graphviz version 2.43.0 (0)\n -->\n<!-- Title: G Pages: 1 -->\n<svg width=\"464pt\" height=\"219pt\"\n viewBox=\"0.00 0.00 463.58 218.87\" xmlns=\"http://www.w3.org/2000/svg\" xmlns:xlink=\"http://www.w3.org/1999/xlink\">\n<g id=\"graph0\" class=\"graph\" transform=\"scale(1 1) rotate(0) translate(4 214.87)\">\n<title>G</title>\n<polygon fill=\"white\" stroke=\"transparent\" points=\"-4,4 -4,-214.87 459.58,-214.87 459.58,4 -4,4\"/>\n<!-- z -->\n<g id=\"node1\" class=\"node\">\n<title>z</title>\n<polygon fill=\"none\" stroke=\"black\" points=\"198.64,-122 130.64,-122 126.64,-118 126.64,-72 194.64,-72 198.64,-76 198.64,-122\"/>\n<polyline fill=\"none\" stroke=\"black\" points=\"194.64,-118 126.64,-118 \"/>\n<polyline fill=\"none\" stroke=\"black\" points=\"194.64,-118 194.64,-72 \"/>\n<polyline fill=\"none\" stroke=\"black\" points=\"194.64,-118 198.64,-122 \"/>\n<text text-anchor=\"middle\" x=\"162.64\" y=\"-93.3\" font-family=\"Times,serif\" font-size=\"14.00\">z</text>\n</g>\n<!-- alignmentNode -->\n<!-- z&#45;&gt;alignmentNode -->\n<!-- a -->\n<g id=\"node6\" class=\"node\">\n<title>a</title>\n<ellipse fill=\"none\" stroke=\"black\" cx=\"292.29\" cy=\"-97\" rx=\"27\" ry=\"18\"/>\n<text text-anchor=\"middle\" x=\"292.29\" y=\"-93.3\" font-family=\"Times,serif\" font-size=\"14.00\">a</text>\n</g>\n<!-- z&#45;&gt;a -->\n<g id=\"edge6\" class=\"edge\">\n<title>z&#45;&gt;a</title>\n<path fill=\"none\" stroke=\"black\" d=\"M198.86,-97C216.22,-97 237.13,-97 254.67,-97\"/>\n<polygon fill=\"black\" stroke=\"black\" points=\"255.09,-100.5 265.09,-97 255.09,-93.5 255.09,-100.5\"/>\n</g>\n<!-- bias -->\n<g id=\"node2\" class=\"node\">\n<title>bias</title>\n<ellipse fill=\"none\" stroke=\"black\" cx=\"162.64\" cy=\"-184\" rx=\"26.74\" ry=\"26.74\"/>\n<text text-anchor=\"middle\" x=\"162.64\" y=\"-180.3\" font-family=\"Times,serif\" font-size=\"14.00\">bias</text>\n</g>\n<!-- bias&#45;&gt;z -->\n<g id=\"edge5\" class=\"edge\">\n<title>bias&#45;&gt;z</title>\n<path fill=\"none\" stroke=\"black\" d=\"M162.64,-157.07C162.64,-149.24 162.64,-140.57 162.64,-132.31\"/>\n<polygon fill=\"black\" stroke=\"black\" points=\"166.14,-132.16 162.64,-122.16 159.14,-132.16 166.14,-132.16\"/>\n<text text-anchor=\"middle\" x=\"152.14\" y=\"-135.86\" font-family=\"Times,serif\" font-size=\"14.00\">5</text>\n</g>\n<!-- bias&#45;&gt;alignmentNode -->\n<!-- x_0 -->\n<g id=\"node3\" class=\"node\">\n<title>x_0</title>\n<ellipse fill=\"none\" stroke=\"black\" cx=\"27\" cy=\"-124\" rx=\"27\" ry=\"18\"/>\n<text text-anchor=\"middle\" x=\"27\" y=\"-120.3\" font-family=\"Times,serif\" font-size=\"14.00\">1</text>\n</g>\n<!-- x_0&#45;&gt;z -->\n<g id=\"edge3\" class=\"edge\">\n<title>x_0&#45;&gt;z</title>\n<path fill=\"none\" stroke=\"black\" d=\"M53.14,-118.92C70.94,-115.32 95.32,-110.4 116.46,-106.13\"/>\n<polygon fill=\"black\" stroke=\"black\" points=\"117.42,-109.5 126.53,-104.09 116.04,-102.64 117.42,-109.5\"/>\n<text text-anchor=\"middle\" x=\"75.5\" y=\"-117.8\" font-family=\"Times,serif\" font-size=\"14.00\">3</text>\n</g>\n<!-- x_1 -->\n<g id=\"node4\" class=\"node\">\n<title>x_1</title>\n<ellipse fill=\"none\" stroke=\"black\" cx=\"27\" cy=\"-70\" rx=\"27\" ry=\"18\"/>\n<text text-anchor=\"middle\" x=\"27\" y=\"-66.3\" font-family=\"Times,serif\" font-size=\"14.00\">2</text>\n</g>\n<!-- x_1&#45;&gt;z -->\n<g id=\"edge4\" class=\"edge\">\n<title>x_1&#45;&gt;z</title>\n<path fill=\"none\" stroke=\"black\" d=\"M53.14,-75.08C70.94,-78.68 95.32,-83.6 116.46,-87.87\"/>\n<polygon fill=\"black\" stroke=\"black\" points=\"116.04,-91.36 126.53,-89.91 117.42,-84.5 116.04,-91.36\"/>\n<text text-anchor=\"middle\" x=\"75.5\" y=\"-84.8\" font-family=\"Times,serif\" font-size=\"14.00\">4</text>\n</g>\n<!-- output -->\n<g id=\"node7\" class=\"node\">\n<title>output</title>\n<ellipse fill=\"none\" stroke=\"black\" cx=\"422.44\" cy=\"-97\" rx=\"33.29\" ry=\"18\"/>\n<text text-anchor=\"middle\" x=\"422.44\" y=\"-93.3\" font-family=\"Times,serif\" font-size=\"14.00\">output</text>\n</g>\n<!-- a&#45;&gt;output -->\n<g id=\"edge7\" class=\"edge\">\n<title>a&#45;&gt;output</title>\n<path fill=\"none\" stroke=\"black\" d=\"M319.53,-97C336.54,-97 359.08,-97 378.65,-97\"/>\n<polygon fill=\"black\" stroke=\"black\" points=\"378.85,-100.5 388.85,-97 378.85,-93.5 378.85,-100.5\"/>\n<text text-anchor=\"middle\" x=\"354.29\" y=\"-100.8\" font-family=\"Times,serif\" font-size=\"14.00\">ReLU</text>\n</g>\n</g>\n</svg>\n",
            "text/plain": [
              "<graphviz.sources.Source at 0x7c766bb8a4a0>"
            ]
          },
          "metadata": {},
          "execution_count": 29
        }
      ]
    },
    {
      "cell_type": "code",
      "source": [
        "x = torch.tensor([[1],[2]])\n",
        "\n",
        "w = torch.tensor([3, 4])\n",
        "b = torch.tensor(5)\n",
        "z = w @ x + b\n",
        "a = torch.relu(z)\n",
        "a"
      ],
      "metadata": {
        "colab": {
          "base_uri": "https://localhost:8080/"
        },
        "id": "dnZfOPSZ16de",
        "outputId": "0412253c-ea06-48c9-9792-5c974615e54a"
      },
      "execution_count": 30,
      "outputs": [
        {
          "output_type": "execute_result",
          "data": {
            "text/plain": [
              "tensor([16])"
            ]
          },
          "metadata": {},
          "execution_count": 30
        }
      ]
    },
    {
      "cell_type": "code",
      "source": [
        "from fastbook import *\n",
        "\n",
        "gv('''\n",
        "   x_0[label=1]\n",
        "   x_1[label=2]\n",
        "   a_0_0[label=\"b=3\"]\n",
        "   a_0_1[label=\"b=2\"]\n",
        "   a_1_0[label=\"b=1\"]\n",
        "   x_0 -> a_0_0 [label=-3]\n",
        "   x_0 -> a_0_1 [label=4]\n",
        "   x_1 -> a_0_0 [label=5]\n",
        "   x_1 -> a_0_1 [label=-6]\n",
        "   a_0_0 -> a_1_0 [label=7]\n",
        "   a_0_1 -> a_1_0 [label=8]\n",
        "   a_1_0 -> output\n",
        "   ''')"
      ],
      "metadata": {
        "colab": {
          "base_uri": "https://localhost:8080/",
          "height": 175
        },
        "id": "TOdV-AgV18w4",
        "outputId": "cc536190-65f4-479f-c9e7-b53507bad131"
      },
      "execution_count": 31,
      "outputs": [
        {
          "output_type": "execute_result",
          "data": {
            "image/svg+xml": "<?xml version=\"1.0\" encoding=\"UTF-8\" standalone=\"no\"?>\n<!DOCTYPE svg PUBLIC \"-//W3C//DTD SVG 1.1//EN\"\n \"http://www.w3.org/Graphics/SVG/1.1/DTD/svg11.dtd\">\n<!-- Generated by graphviz version 2.43.0 (0)\n -->\n<!-- Title: G Pages: 1 -->\n<svg width=\"364pt\" height=\"115pt\"\n viewBox=\"0.00 0.00 364.29 115.35\" xmlns=\"http://www.w3.org/2000/svg\" xmlns:xlink=\"http://www.w3.org/1999/xlink\">\n<g id=\"graph0\" class=\"graph\" transform=\"scale(1 1) rotate(0) translate(4 111.35)\">\n<title>G</title>\n<polygon fill=\"white\" stroke=\"transparent\" points=\"-4,4 -4,-111.35 360.29,-111.35 360.29,4 -4,4\"/>\n<!-- x_0 -->\n<g id=\"node1\" class=\"node\">\n<title>x_0</title>\n<ellipse fill=\"none\" stroke=\"black\" cx=\"27\" cy=\"-89.35\" rx=\"27\" ry=\"18\"/>\n<text text-anchor=\"middle\" x=\"27\" y=\"-85.65\" font-family=\"Times,serif\" font-size=\"14.00\">1</text>\n</g>\n<!-- a_0_0 -->\n<g id=\"node3\" class=\"node\">\n<title>a_0_0</title>\n<ellipse fill=\"none\" stroke=\"black\" cx=\"129\" cy=\"-84.35\" rx=\"27\" ry=\"18\"/>\n<text text-anchor=\"middle\" x=\"129\" y=\"-80.65\" font-family=\"Times,serif\" font-size=\"14.00\">b=3</text>\n</g>\n<!-- x_0&#45;&gt;a_0_0 -->\n<g id=\"edge1\" class=\"edge\">\n<title>x_0&#45;&gt;a_0_0</title>\n<path fill=\"none\" stroke=\"black\" d=\"M53.68,-92.27C63.21,-92.95 74.11,-93.25 84,-92.35 86.9,-92.09 89.89,-91.74 92.89,-91.32\"/>\n<polygon fill=\"black\" stroke=\"black\" points=\"93.65,-94.74 102.98,-89.71 92.55,-87.83 93.65,-94.74\"/>\n<text text-anchor=\"middle\" x=\"78\" y=\"-96.15\" font-family=\"Times,serif\" font-size=\"14.00\">&#45;3</text>\n</g>\n<!-- a_0_1 -->\n<g id=\"node4\" class=\"node\">\n<title>a_0_1</title>\n<ellipse fill=\"none\" stroke=\"black\" cx=\"129\" cy=\"-30.35\" rx=\"27\" ry=\"18\"/>\n<text text-anchor=\"middle\" x=\"129\" y=\"-26.65\" font-family=\"Times,serif\" font-size=\"14.00\">b=2</text>\n</g>\n<!-- x_0&#45;&gt;a_0_1 -->\n<g id=\"edge2\" class=\"edge\">\n<title>x_0&#45;&gt;a_0_1</title>\n<path fill=\"none\" stroke=\"black\" d=\"M47.76,-77.7C62.55,-68.97 83,-56.91 99.55,-47.14\"/>\n<polygon fill=\"black\" stroke=\"black\" points=\"101.45,-50.08 108.28,-41.99 97.89,-44.05 101.45,-50.08\"/>\n<text text-anchor=\"middle\" x=\"78\" y=\"-67.15\" font-family=\"Times,serif\" font-size=\"14.00\">4</text>\n</g>\n<!-- x_1 -->\n<g id=\"node2\" class=\"node\">\n<title>x_1</title>\n<ellipse fill=\"none\" stroke=\"black\" cx=\"27\" cy=\"-24.35\" rx=\"27\" ry=\"18\"/>\n<text text-anchor=\"middle\" x=\"27\" y=\"-20.65\" font-family=\"Times,serif\" font-size=\"14.00\">2</text>\n</g>\n<!-- x_1&#45;&gt;a_0_0 -->\n<g id=\"edge3\" class=\"edge\">\n<title>x_1&#45;&gt;a_0_0</title>\n<path fill=\"none\" stroke=\"black\" d=\"M54.1,-26.38C63.99,-28.04 75.03,-31.02 84,-36.35 94.56,-42.64 93.73,-48.26 102,-57.35 103.35,-58.83 104.74,-60.35 106.16,-61.87\"/>\n<polygon fill=\"black\" stroke=\"black\" points=\"103.85,-64.51 113.27,-69.36 108.93,-59.7 103.85,-64.51\"/>\n<text text-anchor=\"middle\" x=\"78\" y=\"-40.15\" font-family=\"Times,serif\" font-size=\"14.00\">5</text>\n</g>\n<!-- x_1&#45;&gt;a_0_1 -->\n<g id=\"edge4\" class=\"edge\">\n<title>x_1&#45;&gt;a_0_1</title>\n<path fill=\"none\" stroke=\"black\" d=\"M45.33,-10.59C56.24,-3.61 70.71,2.63 84,-1.35 90.71,-3.37 97.35,-6.77 103.35,-10.55\"/>\n<polygon fill=\"black\" stroke=\"black\" points=\"101.4,-13.46 111.63,-16.25 105.37,-7.7 101.4,-13.46\"/>\n<text text-anchor=\"middle\" x=\"78\" y=\"-5.15\" font-family=\"Times,serif\" font-size=\"14.00\">&#45;6</text>\n</g>\n<!-- a_1_0 -->\n<g id=\"node5\" class=\"node\">\n<title>a_1_0</title>\n<ellipse fill=\"none\" stroke=\"black\" cx=\"226\" cy=\"-57.35\" rx=\"27\" ry=\"18\"/>\n<text text-anchor=\"middle\" x=\"226\" y=\"-53.65\" font-family=\"Times,serif\" font-size=\"14.00\">b=1</text>\n</g>\n<!-- a_0_0&#45;&gt;a_1_0 -->\n<g id=\"edge5\" class=\"edge\">\n<title>a_0_0&#45;&gt;a_1_0</title>\n<path fill=\"none\" stroke=\"black\" d=\"M154.46,-77.4C165.63,-74.23 179.04,-70.42 191.15,-66.97\"/>\n<polygon fill=\"black\" stroke=\"black\" points=\"192.28,-70.29 200.95,-64.19 190.37,-63.56 192.28,-70.29\"/>\n<text text-anchor=\"middle\" x=\"177.5\" y=\"-75.15\" font-family=\"Times,serif\" font-size=\"14.00\">7</text>\n</g>\n<!-- a_0_1&#45;&gt;a_1_0 -->\n<g id=\"edge6\" class=\"edge\">\n<title>a_0_1&#45;&gt;a_1_0</title>\n<path fill=\"none\" stroke=\"black\" d=\"M154.46,-37.31C165.63,-40.48 179.04,-44.29 191.15,-47.73\"/>\n<polygon fill=\"black\" stroke=\"black\" points=\"190.37,-51.15 200.95,-50.52 192.28,-44.42 190.37,-51.15\"/>\n<text text-anchor=\"middle\" x=\"177.5\" y=\"-48.15\" font-family=\"Times,serif\" font-size=\"14.00\">8</text>\n</g>\n<!-- output -->\n<g id=\"node6\" class=\"node\">\n<title>output</title>\n<ellipse fill=\"none\" stroke=\"black\" cx=\"323.15\" cy=\"-57.35\" rx=\"33.29\" ry=\"18\"/>\n<text text-anchor=\"middle\" x=\"323.15\" y=\"-53.65\" font-family=\"Times,serif\" font-size=\"14.00\">output</text>\n</g>\n<!-- a_1_0&#45;&gt;output -->\n<g id=\"edge7\" class=\"edge\">\n<title>a_1_0&#45;&gt;output</title>\n<path fill=\"none\" stroke=\"black\" d=\"M253.25,-57.35C261.48,-57.35 270.79,-57.35 279.84,-57.35\"/>\n<polygon fill=\"black\" stroke=\"black\" points=\"279.88,-60.85 289.88,-57.35 279.88,-53.85 279.88,-60.85\"/>\n</g>\n</g>\n</svg>\n",
            "text/plain": [
              "<graphviz.sources.Source at 0x7c766bb8b880>"
            ]
          },
          "metadata": {},
          "execution_count": 31
        }
      ]
    },
    {
      "cell_type": "code",
      "source": [
        "x = torch.tensor([[1],[2]])\n",
        "\n",
        "w_0 = torch.tensor([[-3, 5], [4, -6]])\n",
        "b_0 = torch.tensor([[3, 2]])\n",
        "a_0 = torch.relu(w_0 @ x + b_0)\n",
        "\n",
        "w_1 = torch.tensor([[7, 8]])\n",
        "b_1 = torch.tensor([[1]])\n",
        "a_1 = torch.relu(w_1 @ a_0 + b_1)\n",
        "a_1"
      ],
      "metadata": {
        "colab": {
          "base_uri": "https://localhost:8080/"
        },
        "id": "LCLIlF_a1-xc",
        "outputId": "73ec2f3b-10f9-4554-d061-23b50fdccdd2"
      },
      "execution_count": 32,
      "outputs": [
        {
          "output_type": "execute_result",
          "data": {
            "text/plain": [
              "tensor([[71, 64]])"
            ]
          },
          "metadata": {},
          "execution_count": 32
        }
      ]
    },
    {
      "cell_type": "code",
      "source": [
        "!pip install rggrader"
      ],
      "metadata": {
        "colab": {
          "base_uri": "https://localhost:8080/"
        },
        "collapsed": true,
        "id": "KB1jdsfU2AWW",
        "outputId": "ee70c757-ed86-403d-a85d-82e8cc7ad7e3"
      },
      "execution_count": 7,
      "outputs": [
        {
          "output_type": "stream",
          "name": "stdout",
          "text": [
            "Requirement already satisfied: rggrader in /usr/local/lib/python3.10/dist-packages (0.1.6)\n",
            "Requirement already satisfied: requests in /usr/local/lib/python3.10/dist-packages (from rggrader) (2.32.3)\n",
            "Requirement already satisfied: pandas in /usr/local/lib/python3.10/dist-packages (from rggrader) (2.2.2)\n",
            "Requirement already satisfied: Pillow in /usr/local/lib/python3.10/dist-packages (from rggrader) (11.1.0)\n",
            "Requirement already satisfied: numpy>=1.22.4 in /usr/local/lib/python3.10/dist-packages (from pandas->rggrader) (1.26.4)\n",
            "Requirement already satisfied: python-dateutil>=2.8.2 in /usr/local/lib/python3.10/dist-packages (from pandas->rggrader) (2.8.2)\n",
            "Requirement already satisfied: pytz>=2020.1 in /usr/local/lib/python3.10/dist-packages (from pandas->rggrader) (2024.2)\n",
            "Requirement already satisfied: tzdata>=2022.7 in /usr/local/lib/python3.10/dist-packages (from pandas->rggrader) (2024.2)\n",
            "Requirement already satisfied: charset-normalizer<4,>=2 in /usr/local/lib/python3.10/dist-packages (from requests->rggrader) (3.4.1)\n",
            "Requirement already satisfied: idna<4,>=2.5 in /usr/local/lib/python3.10/dist-packages (from requests->rggrader) (3.10)\n",
            "Requirement already satisfied: urllib3<3,>=1.21.1 in /usr/local/lib/python3.10/dist-packages (from requests->rggrader) (2.3.0)\n",
            "Requirement already satisfied: certifi>=2017.4.17 in /usr/local/lib/python3.10/dist-packages (from requests->rggrader) (2024.12.14)\n",
            "Requirement already satisfied: six>=1.5 in /usr/local/lib/python3.10/dist-packages (from python-dateutil>=2.8.2->pandas->rggrader) (1.17.0)\n"
          ]
        }
      ]
    },
    {
      "cell_type": "code",
      "source": [
        "# @title #### Student Identity\n",
        "student_id = \"REA6UCWBO\" # @param {type:\"string\"}\n",
        "name = \"Ida Bagus Teguh Teja Murti\" # @param {type:\"string\"}"
      ],
      "metadata": {
        "id": "4L692-Ym2Cl9"
      },
      "execution_count": 8,
      "outputs": []
    },
    {
      "cell_type": "code",
      "source": [
        "from fastbook import *\n",
        "\n",
        "gv('''\n",
        "   x_0[label=3]\n",
        "   a_0_0[label=\"b=-2, ReLU\"]\n",
        "   a_0_1[label=\"b=5, ReLU\"]\n",
        "   a_1_0[label=\"b=0, ReLU\"]\n",
        "   x_0 -> a_0_0 [label=-2]\n",
        "   x_0 -> a_0_1 [label=5]\n",
        "   a_0_0 -> a_1_0 [label=3]\n",
        "   a_0_1 -> a_1_0 [label=2]\n",
        "\n",
        "   a_1_0 -> output\n",
        "   ''')"
      ],
      "metadata": {
        "colab": {
          "base_uri": "https://localhost:8080/",
          "height": 152
        },
        "id": "2Y3vbCEu2OBD",
        "outputId": "b5ca4b07-2d06-424c-e16c-eee3ea241bba"
      },
      "execution_count": 9,
      "outputs": [
        {
          "output_type": "execute_result",
          "data": {
            "image/svg+xml": "<?xml version=\"1.0\" encoding=\"UTF-8\" standalone=\"no\"?>\n<!DOCTYPE svg PUBLIC \"-//W3C//DTD SVG 1.1//EN\"\n \"http://www.w3.org/Graphics/SVG/1.1/DTD/svg11.dtd\">\n<!-- Generated by graphviz version 2.43.0 (0)\n -->\n<!-- Title: G Pages: 1 -->\n<svg width=\"467pt\" height=\"98pt\"\n viewBox=\"0.00 0.00 466.88 98.00\" xmlns=\"http://www.w3.org/2000/svg\" xmlns:xlink=\"http://www.w3.org/1999/xlink\">\n<g id=\"graph0\" class=\"graph\" transform=\"scale(1 1) rotate(0) translate(4 94)\">\n<title>G</title>\n<polygon fill=\"white\" stroke=\"transparent\" points=\"-4,4 -4,-94 462.88,-94 462.88,4 -4,4\"/>\n<!-- x_0 -->\n<g id=\"node1\" class=\"node\">\n<title>x_0</title>\n<ellipse fill=\"none\" stroke=\"black\" cx=\"27\" cy=\"-45\" rx=\"27\" ry=\"18\"/>\n<text text-anchor=\"middle\" x=\"27\" y=\"-41.3\" font-family=\"Times,serif\" font-size=\"14.00\">3</text>\n</g>\n<!-- a_0_0 -->\n<g id=\"node2\" class=\"node\">\n<title>a_0_0</title>\n<ellipse fill=\"none\" stroke=\"black\" cx=\"155.95\" cy=\"-72\" rx=\"53.89\" ry=\"18\"/>\n<text text-anchor=\"middle\" x=\"155.95\" y=\"-68.3\" font-family=\"Times,serif\" font-size=\"14.00\">b=&#45;2, ReLU</text>\n</g>\n<!-- x_0&#45;&gt;a_0_0 -->\n<g id=\"edge1\" class=\"edge\">\n<title>x_0&#45;&gt;a_0_0</title>\n<path fill=\"none\" stroke=\"black\" d=\"M53.08,-50.33C66.54,-53.2 83.7,-56.85 100.08,-60.33\"/>\n<polygon fill=\"black\" stroke=\"black\" points=\"99.62,-63.81 110.13,-62.47 101.08,-56.96 99.62,-63.81\"/>\n<text text-anchor=\"middle\" x=\"78\" y=\"-59.8\" font-family=\"Times,serif\" font-size=\"14.00\">&#45;2</text>\n</g>\n<!-- a_0_1 -->\n<g id=\"node3\" class=\"node\">\n<title>a_0_1</title>\n<ellipse fill=\"none\" stroke=\"black\" cx=\"155.95\" cy=\"-18\" rx=\"51.19\" ry=\"18\"/>\n<text text-anchor=\"middle\" x=\"155.95\" y=\"-14.3\" font-family=\"Times,serif\" font-size=\"14.00\">b=5, ReLU</text>\n</g>\n<!-- x_0&#45;&gt;a_0_1 -->\n<g id=\"edge2\" class=\"edge\">\n<title>x_0&#45;&gt;a_0_1</title>\n<path fill=\"none\" stroke=\"black\" d=\"M52.65,-39.3C58.95,-37.87 65.72,-36.36 72,-35 81.38,-32.97 91.38,-30.87 101.06,-28.87\"/>\n<polygon fill=\"black\" stroke=\"black\" points=\"101.91,-32.27 111,-26.82 100.5,-25.41 101.91,-32.27\"/>\n<text text-anchor=\"middle\" x=\"78\" y=\"-38.8\" font-family=\"Times,serif\" font-size=\"14.00\">5</text>\n</g>\n<!-- a_1_0 -->\n<g id=\"node4\" class=\"node\">\n<title>a_1_0</title>\n<ellipse fill=\"none\" stroke=\"black\" cx=\"304.24\" cy=\"-45\" rx=\"51.19\" ry=\"18\"/>\n<text text-anchor=\"middle\" x=\"304.24\" y=\"-41.3\" font-family=\"Times,serif\" font-size=\"14.00\">b=0, ReLU</text>\n</g>\n<!-- a_0_0&#45;&gt;a_1_0 -->\n<g id=\"edge3\" class=\"edge\">\n<title>a_0_0&#45;&gt;a_1_0</title>\n<path fill=\"none\" stroke=\"black\" d=\"M203.63,-63.38C217.9,-60.75 233.72,-57.83 248.47,-55.11\"/>\n<polygon fill=\"black\" stroke=\"black\" points=\"249.29,-58.52 258.49,-53.26 248.02,-51.63 249.29,-58.52\"/>\n<text text-anchor=\"middle\" x=\"231.39\" y=\"-61.8\" font-family=\"Times,serif\" font-size=\"14.00\">3</text>\n</g>\n<!-- a_0_1&#45;&gt;a_1_0 -->\n<g id=\"edge4\" class=\"edge\">\n<title>a_0_1&#45;&gt;a_1_0</title>\n<path fill=\"none\" stroke=\"black\" d=\"M201.63,-26.25C216.45,-28.98 233.12,-32.06 248.6,-34.92\"/>\n<polygon fill=\"black\" stroke=\"black\" points=\"248.1,-38.38 258.57,-36.76 249.37,-31.5 248.1,-38.38\"/>\n<text text-anchor=\"middle\" x=\"231.39\" y=\"-35.8\" font-family=\"Times,serif\" font-size=\"14.00\">2</text>\n</g>\n<!-- output -->\n<g id=\"node5\" class=\"node\">\n<title>output</title>\n<ellipse fill=\"none\" stroke=\"black\" cx=\"425.73\" cy=\"-45\" rx=\"33.29\" ry=\"18\"/>\n<text text-anchor=\"middle\" x=\"425.73\" y=\"-41.3\" font-family=\"Times,serif\" font-size=\"14.00\">output</text>\n</g>\n<!-- a_1_0&#45;&gt;output -->\n<g id=\"edge5\" class=\"edge\">\n<title>a_1_0&#45;&gt;output</title>\n<path fill=\"none\" stroke=\"black\" d=\"M355.91,-45C364.68,-45 373.72,-45 382.25,-45\"/>\n<polygon fill=\"black\" stroke=\"black\" points=\"382.35,-48.5 392.35,-45 382.35,-41.5 382.35,-48.5\"/>\n</g>\n</g>\n</svg>\n",
            "text/plain": [
              "<graphviz.sources.Source at 0x7c34a314c4c0>"
            ]
          },
          "metadata": {},
          "execution_count": 9
        }
      ]
    },
    {
      "cell_type": "code",
      "source": [
        "import torch\n",
        "\n",
        "# Input (single input feature)\n",
        "x = torch.tensor([[3.0]])  # Shape: [1, 1]\n",
        "\n",
        "# Layer 0 weights and biases\n",
        "w_0 = torch.tensor([[-2.0], [5.0]])  # Shape: [2, 1]\n",
        "b_0 = torch.tensor([[-2.0, 5.0]])   # Shape: [1, 2]\n",
        "\n",
        "# Compute activations for layer 0\n",
        "a_0 = torch.relu(w_0 @ x + b_0.T)  # Shape: [2, 1]\n",
        "\n",
        "# Layer 1 weights and biases\n",
        "w_1 = torch.tensor([[3.0, 2.0]])   # Shape: [1, 2]\n",
        "b_1 = torch.tensor([[0.0]])        # Shape: [1, 1]\n",
        "\n",
        "# Compute final activation\n",
        "a_1 = torch.relu(w_1 @ a_0 + b_1)  # Shape: [1, 1]\n",
        "\n",
        "# Output the final result\n",
        "print(a_1)\n"
      ],
      "metadata": {
        "colab": {
          "base_uri": "https://localhost:8080/"
        },
        "id": "2Dbsfn6yHUD8",
        "outputId": "6c77c825-20fc-454a-98d8-b995c2091edc"
      },
      "execution_count": 12,
      "outputs": [
        {
          "output_type": "stream",
          "name": "stdout",
          "text": [
            "tensor([[40.]])\n"
          ]
        }
      ]
    },
    {
      "cell_type": "code",
      "source": [
        "from rggrader import submit\n",
        "\n",
        "# Put your code here\n",
        "answer = a_1\n",
        "\n",
        "assignment_id = \"10_pytorch-basic\"\n",
        "question_id = \"00_single-input-nn\"\n",
        "submit(student_id, name, assignment_id, str(answer), question_id)"
      ],
      "metadata": {
        "colab": {
          "base_uri": "https://localhost:8080/",
          "height": 35
        },
        "id": "8ooS-pQF2OUC",
        "outputId": "36e7a2cb-6f78-446a-9254-cd1972bab359"
      },
      "execution_count": 13,
      "outputs": [
        {
          "output_type": "execute_result",
          "data": {
            "text/plain": [
              "'Assignment successfully submitted'"
            ],
            "application/vnd.google.colaboratory.intrinsic+json": {
              "type": "string"
            }
          },
          "metadata": {},
          "execution_count": 13
        }
      ]
    },
    {
      "cell_type": "code",
      "source": [
        "from fastbook import *\n",
        "\n",
        "gv('''\n",
        "   x_0[label=3]\n",
        "   x_1[label=5]\n",
        "   a_0_0[label=\"b=8, ReLU\"]\n",
        "   a_0_1[label=\"b=-2, ReLU\"]\n",
        "   a_0_2[label=\"b=4, ReLU\"]\n",
        "   a_1_0[label=\"b=3, ReLU\"]\n",
        "   x_0 -> a_0_0 [label=-2]\n",
        "   x_0 -> a_0_1 [label=5]\n",
        "   x_0 -> a_0_2 [label=3]\n",
        "   x_1 -> a_0_0 [label=8]\n",
        "   x_1 -> a_0_1 [label=-2]\n",
        "   x_1 -> a_0_2 [label=4]\n",
        "   a_0_0 -> a_1_0 [label=3]\n",
        "   a_0_1 -> a_1_0 [label=2]\n",
        "   a_0_2 -> a_1_0 [label=8]\n",
        "\n",
        "   a_1_0 -> output\n",
        "   ''')"
      ],
      "metadata": {
        "colab": {
          "base_uri": "https://localhost:8080/",
          "height": 277
        },
        "id": "6ywq3H0j2TnJ",
        "outputId": "d4468998-bf47-42b2-b119-f6ee098bc052"
      },
      "execution_count": 37,
      "outputs": [
        {
          "output_type": "execute_result",
          "data": {
            "image/svg+xml": "<?xml version=\"1.0\" encoding=\"UTF-8\" standalone=\"no\"?>\n<!DOCTYPE svg PUBLIC \"-//W3C//DTD SVG 1.1//EN\"\n \"http://www.w3.org/Graphics/SVG/1.1/DTD/svg11.dtd\">\n<!-- Generated by graphviz version 2.43.0 (0)\n -->\n<!-- Title: G Pages: 1 -->\n<svg width=\"467pt\" height=\"192pt\"\n viewBox=\"0.00 0.00 466.88 192.11\" xmlns=\"http://www.w3.org/2000/svg\" xmlns:xlink=\"http://www.w3.org/1999/xlink\">\n<g id=\"graph0\" class=\"graph\" transform=\"scale(1 1) rotate(0) translate(4 188.11)\">\n<title>G</title>\n<polygon fill=\"white\" stroke=\"transparent\" points=\"-4,4 -4,-188.11 462.88,-188.11 462.88,4 -4,4\"/>\n<!-- x_0 -->\n<g id=\"node1\" class=\"node\">\n<title>x_0</title>\n<ellipse fill=\"none\" stroke=\"black\" cx=\"27\" cy=\"-152.11\" rx=\"27\" ry=\"18\"/>\n<text text-anchor=\"middle\" x=\"27\" y=\"-148.41\" font-family=\"Times,serif\" font-size=\"14.00\">3</text>\n</g>\n<!-- a_0_0 -->\n<g id=\"node3\" class=\"node\">\n<title>a_0_0</title>\n<ellipse fill=\"none\" stroke=\"black\" cx=\"155.95\" cy=\"-95.11\" rx=\"51.19\" ry=\"18\"/>\n<text text-anchor=\"middle\" x=\"155.95\" y=\"-91.41\" font-family=\"Times,serif\" font-size=\"14.00\">b=8, ReLU</text>\n</g>\n<!-- x_0&#45;&gt;a_0_0 -->\n<g id=\"edge1\" class=\"edge\">\n<title>x_0&#45;&gt;a_0_0</title>\n<path fill=\"none\" stroke=\"black\" d=\"M51.07,-143.55C61.24,-139.64 73.3,-134.84 84,-130.11 94.88,-125.3 106.52,-119.74 117.16,-114.48\"/>\n<polygon fill=\"black\" stroke=\"black\" points=\"118.82,-117.56 126.21,-109.97 115.7,-111.3 118.82,-117.56\"/>\n<text text-anchor=\"middle\" x=\"78\" y=\"-137.91\" font-family=\"Times,serif\" font-size=\"14.00\">&#45;2</text>\n</g>\n<!-- a_0_1 -->\n<g id=\"node4\" class=\"node\">\n<title>a_0_1</title>\n<ellipse fill=\"none\" stroke=\"black\" cx=\"155.95\" cy=\"-149.11\" rx=\"53.89\" ry=\"18\"/>\n<text text-anchor=\"middle\" x=\"155.95\" y=\"-145.41\" font-family=\"Times,serif\" font-size=\"14.00\">b=&#45;2, ReLU</text>\n</g>\n<!-- x_0&#45;&gt;a_0_1 -->\n<g id=\"edge2\" class=\"edge\">\n<title>x_0&#45;&gt;a_0_1</title>\n<path fill=\"none\" stroke=\"black\" d=\"M49.97,-161.8C56.88,-164.38 64.64,-166.81 72,-168.11 84.86,-170.37 98.72,-168.81 111.37,-165.79\"/>\n<polygon fill=\"black\" stroke=\"black\" points=\"112.48,-169.12 121.2,-163.11 110.64,-162.37 112.48,-169.12\"/>\n<text text-anchor=\"middle\" x=\"78\" y=\"-172.91\" font-family=\"Times,serif\" font-size=\"14.00\">5</text>\n</g>\n<!-- a_0_2 -->\n<g id=\"node5\" class=\"node\">\n<title>a_0_2</title>\n<ellipse fill=\"none\" stroke=\"black\" cx=\"155.95\" cy=\"-41.11\" rx=\"51.19\" ry=\"18\"/>\n<text text-anchor=\"middle\" x=\"155.95\" y=\"-37.41\" font-family=\"Times,serif\" font-size=\"14.00\">b=4, ReLU</text>\n</g>\n<!-- x_0&#45;&gt;a_0_2 -->\n<g id=\"edge3\" class=\"edge\">\n<title>x_0&#45;&gt;a_0_2</title>\n<path fill=\"none\" stroke=\"black\" d=\"M34.56,-134.5C41.57,-117.79 54.14,-92.92 72,-77.11 81.83,-68.4 94.09,-61.54 106.14,-56.25\"/>\n<polygon fill=\"black\" stroke=\"black\" points=\"107.78,-59.36 115.72,-52.34 105.13,-52.88 107.78,-59.36\"/>\n<text text-anchor=\"middle\" x=\"78\" y=\"-80.91\" font-family=\"Times,serif\" font-size=\"14.00\">3</text>\n</g>\n<!-- x_1 -->\n<g id=\"node2\" class=\"node\">\n<title>x_1</title>\n<ellipse fill=\"none\" stroke=\"black\" cx=\"27\" cy=\"-38.11\" rx=\"27\" ry=\"18\"/>\n<text text-anchor=\"middle\" x=\"27\" y=\"-34.41\" font-family=\"Times,serif\" font-size=\"14.00\">5</text>\n</g>\n<!-- x_1&#45;&gt;a_0_0 -->\n<g id=\"edge4\" class=\"edge\">\n<title>x_1&#45;&gt;a_0_0</title>\n<path fill=\"none\" stroke=\"black\" d=\"M53.35,-33.52C63.48,-32.93 74.87,-33.92 84,-39.11 97.19,-46.6 90.83,-57.84 102,-68.11 105.29,-71.14 108.99,-73.91 112.86,-76.44\"/>\n<polygon fill=\"black\" stroke=\"black\" points=\"111.12,-79.48 121.51,-81.56 114.69,-73.45 111.12,-79.48\"/>\n<text text-anchor=\"middle\" x=\"78\" y=\"-42.91\" font-family=\"Times,serif\" font-size=\"14.00\">8</text>\n</g>\n<!-- x_1&#45;&gt;a_0_1 -->\n<g id=\"edge5\" class=\"edge\">\n<title>x_1&#45;&gt;a_0_1</title>\n<path fill=\"none\" stroke=\"black\" d=\"M39.09,-54.59C52.25,-73.09 75.75,-103.03 102,-122.11 105.72,-124.81 109.74,-127.39 113.85,-129.8\"/>\n<polygon fill=\"black\" stroke=\"black\" points=\"112.47,-133.04 122.91,-134.82 115.86,-126.91 112.47,-133.04\"/>\n<text text-anchor=\"middle\" x=\"78\" y=\"-109.91\" font-family=\"Times,serif\" font-size=\"14.00\">&#45;2</text>\n</g>\n<!-- x_1&#45;&gt;a_0_2 -->\n<g id=\"edge6\" class=\"edge\">\n<title>x_1&#45;&gt;a_0_2</title>\n<path fill=\"none\" stroke=\"black\" d=\"M40.16,-22.05C50.77,-10.14 67.09,3.33 84,-1.11 98.06,-4.8 112.27,-11.98 124.24,-19.24\"/>\n<polygon fill=\"black\" stroke=\"black\" points=\"122.6,-22.35 132.91,-24.76 126.35,-16.44 122.6,-22.35\"/>\n<text text-anchor=\"middle\" x=\"78\" y=\"-4.91\" font-family=\"Times,serif\" font-size=\"14.00\">4</text>\n</g>\n<!-- a_1_0 -->\n<g id=\"node6\" class=\"node\">\n<title>a_1_0</title>\n<ellipse fill=\"none\" stroke=\"black\" cx=\"304.24\" cy=\"-95.11\" rx=\"51.19\" ry=\"18\"/>\n<text text-anchor=\"middle\" x=\"304.24\" y=\"-91.41\" font-family=\"Times,serif\" font-size=\"14.00\">b=3, ReLU</text>\n</g>\n<!-- a_0_0&#45;&gt;a_1_0 -->\n<g id=\"edge7\" class=\"edge\">\n<title>a_0_0&#45;&gt;a_1_0</title>\n<path fill=\"none\" stroke=\"black\" d=\"M207.7,-95.11C218.93,-95.11 230.95,-95.11 242.53,-95.11\"/>\n<polygon fill=\"black\" stroke=\"black\" points=\"242.57,-98.61 252.57,-95.11 242.57,-91.61 242.57,-98.61\"/>\n<text text-anchor=\"middle\" x=\"231.39\" y=\"-98.91\" font-family=\"Times,serif\" font-size=\"14.00\">3</text>\n</g>\n<!-- a_0_1&#45;&gt;a_1_0 -->\n<g id=\"edge8\" class=\"edge\">\n<title>a_0_1&#45;&gt;a_1_0</title>\n<path fill=\"none\" stroke=\"black\" d=\"M192.73,-135.9C212.68,-128.53 237.71,-119.3 258.89,-111.48\"/>\n<polygon fill=\"black\" stroke=\"black\" points=\"260.15,-114.74 268.32,-108 257.73,-108.18 260.15,-114.74\"/>\n<text text-anchor=\"middle\" x=\"231.39\" y=\"-125.91\" font-family=\"Times,serif\" font-size=\"14.00\">2</text>\n</g>\n<!-- a_0_2&#45;&gt;a_1_0 -->\n<g id=\"edge9\" class=\"edge\">\n<title>a_0_2&#45;&gt;a_1_0</title>\n<path fill=\"none\" stroke=\"black\" d=\"M191.99,-54.04C212,-61.43 237.29,-70.77 258.7,-78.67\"/>\n<polygon fill=\"black\" stroke=\"black\" points=\"257.63,-82.01 268.23,-82.19 260.06,-75.44 257.63,-82.01\"/>\n<text text-anchor=\"middle\" x=\"231.39\" y=\"-72.91\" font-family=\"Times,serif\" font-size=\"14.00\">8</text>\n</g>\n<!-- output -->\n<g id=\"node7\" class=\"node\">\n<title>output</title>\n<ellipse fill=\"none\" stroke=\"black\" cx=\"425.73\" cy=\"-95.11\" rx=\"33.29\" ry=\"18\"/>\n<text text-anchor=\"middle\" x=\"425.73\" y=\"-91.41\" font-family=\"Times,serif\" font-size=\"14.00\">output</text>\n</g>\n<!-- a_1_0&#45;&gt;output -->\n<g id=\"edge10\" class=\"edge\">\n<title>a_1_0&#45;&gt;output</title>\n<path fill=\"none\" stroke=\"black\" d=\"M355.91,-95.11C364.68,-95.11 373.72,-95.11 382.25,-95.11\"/>\n<polygon fill=\"black\" stroke=\"black\" points=\"382.35,-98.61 392.35,-95.11 382.35,-91.61 382.35,-98.61\"/>\n</g>\n</g>\n</svg>\n",
            "text/plain": [
              "<graphviz.sources.Source at 0x7c7599bf5210>"
            ]
          },
          "metadata": {},
          "execution_count": 37
        }
      ]
    },
    {
      "cell_type": "code",
      "source": [
        "import torch\n",
        "\n",
        "# Input tensors\n",
        "x = torch.tensor([[3.0], [5.0]])  # Shape: [2, 1]\n",
        "\n",
        "# Layer 0 weights and biases\n",
        "w_0 = torch.tensor([[-2.0, 5.0, 3.0],  # Weights from x_0\n",
        "                    [8.0, -2.0, 4.0]])  # Weights from x_1 (Shape: [2, 3])\n",
        "b_0 = torch.tensor([[8.0, -2.0, 4.0]])  # Biases for Layer 0 (Shape: [1, 3])\n",
        "\n",
        "# Compute activations for Layer 0\n",
        "a_0 = torch.relu(w_0.T @ x + b_0.T)  # Shape: [3, 1]\n",
        "\n",
        "# Layer 1 weights and biases\n",
        "w_1 = torch.tensor([[3.0, 2.0, 8.0]])  # Weights for Layer 1 (Shape: [1, 3])\n",
        "b_1 = torch.tensor([[3.0]])            # Bias for Layer 1 (Shape: [1, 1])\n",
        "\n",
        "# Compute activations for Layer 1\n",
        "a_1 = torch.relu(w_1 @ a_0 + b_1)  # Shape: [1, 1]\n",
        "\n",
        "# Output the final result\n",
        "print(a_1)\n"
      ],
      "metadata": {
        "colab": {
          "base_uri": "https://localhost:8080/"
        },
        "id": "STZrs-QJ2VDw",
        "outputId": "dafcfa48-836d-48f7-c582-5e5a17e903c3"
      },
      "execution_count": 14,
      "outputs": [
        {
          "output_type": "stream",
          "name": "stdout",
          "text": [
            "tensor([[399.]])\n"
          ]
        }
      ]
    },
    {
      "cell_type": "code",
      "source": [
        "from rggrader import submit\n",
        "\n",
        "# Put your code here\n",
        "answer = a_1\n",
        "\n",
        "assignment_id = \"10_pytorch-basic\"\n",
        "question_id = \"01_multi-input-nn\"\n",
        "submit(student_id, name, assignment_id, str(answer), question_id)"
      ],
      "metadata": {
        "id": "VapZBWkAKWiu",
        "outputId": "8d2a999f-4679-401d-9c85-63a82103f4ac",
        "colab": {
          "base_uri": "https://localhost:8080/",
          "height": 35
        }
      },
      "execution_count": 15,
      "outputs": [
        {
          "output_type": "execute_result",
          "data": {
            "text/plain": [
              "'Assignment successfully submitted'"
            ],
            "application/vnd.google.colaboratory.intrinsic+json": {
              "type": "string"
            }
          },
          "metadata": {},
          "execution_count": 15
        }
      ]
    }
  ]
}