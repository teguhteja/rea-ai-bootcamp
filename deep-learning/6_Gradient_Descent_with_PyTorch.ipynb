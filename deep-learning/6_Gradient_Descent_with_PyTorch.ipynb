{
  "nbformat": 4,
  "nbformat_minor": 0,
  "metadata": {
    "colab": {
      "provenance": []
    },
    "kernelspec": {
      "name": "python3",
      "display_name": "Python 3"
    },
    "language_info": {
      "name": "python"
    }
  },
  "cells": [
    {
      "cell_type": "code",
      "source": [
        "!pip install torch\n",
        "!pip install fastbook\n",
        "# !pip install fsspec==2024.10.0\n",
        "# !pip install datasets==3.2.0 gcsfs==2024.9.0"
      ],
      "metadata": {
        "colab": {
          "base_uri": "https://localhost:8080/"
        },
        "id": "XqbrKklMLQns",
        "outputId": "97d700b6-1152-425f-d5d2-8a6b234b4393"
      },
      "execution_count": 13,
      "outputs": [
        {
          "output_type": "stream",
          "name": "stdout",
          "text": [
            "Requirement already satisfied: torch in /usr/local/lib/python3.10/dist-packages (2.5.1+cu121)\n",
            "Requirement already satisfied: filelock in /usr/local/lib/python3.10/dist-packages (from torch) (3.16.1)\n",
            "Requirement already satisfied: typing-extensions>=4.8.0 in /usr/local/lib/python3.10/dist-packages (from torch) (4.12.2)\n",
            "Requirement already satisfied: networkx in /usr/local/lib/python3.10/dist-packages (from torch) (3.4.2)\n",
            "Requirement already satisfied: jinja2 in /usr/local/lib/python3.10/dist-packages (from torch) (3.1.5)\n",
            "Requirement already satisfied: fsspec in /usr/local/lib/python3.10/dist-packages (from torch) (2024.6.1)\n",
            "Requirement already satisfied: sympy==1.13.1 in /usr/local/lib/python3.10/dist-packages (from torch) (1.13.1)\n",
            "Requirement already satisfied: mpmath<1.4,>=1.1.0 in /usr/local/lib/python3.10/dist-packages (from sympy==1.13.1->torch) (1.3.0)\n",
            "Requirement already satisfied: MarkupSafe>=2.0 in /usr/local/lib/python3.10/dist-packages (from jinja2->torch) (3.0.2)\n",
            "Requirement already satisfied: fastbook in /usr/local/lib/python3.10/dist-packages (0.0.29)\n",
            "Requirement already satisfied: pip in /usr/local/lib/python3.10/dist-packages (from fastbook) (24.1.2)\n",
            "Requirement already satisfied: packaging in /usr/local/lib/python3.10/dist-packages (from fastbook) (24.2)\n",
            "Requirement already satisfied: fastai>=2.6 in /usr/local/lib/python3.10/dist-packages (from fastbook) (2.7.18)\n",
            "Requirement already satisfied: graphviz in /usr/local/lib/python3.10/dist-packages (from fastbook) (0.20.3)\n",
            "Requirement already satisfied: pandas in /usr/local/lib/python3.10/dist-packages (from fastbook) (2.2.2)\n",
            "Requirement already satisfied: requests in /usr/local/lib/python3.10/dist-packages (from fastbook) (2.32.3)\n",
            "Requirement already satisfied: transformers in /usr/local/lib/python3.10/dist-packages (from fastbook) (4.47.1)\n",
            "Requirement already satisfied: datasets in /usr/local/lib/python3.10/dist-packages (from fastbook) (3.2.0)\n",
            "Requirement already satisfied: ipywidgets<8 in /usr/local/lib/python3.10/dist-packages (from fastbook) (7.7.1)\n",
            "Requirement already satisfied: sentencepiece in /usr/local/lib/python3.10/dist-packages (from fastbook) (0.2.0)\n",
            "Requirement already satisfied: fastdownload<2,>=0.0.5 in /usr/local/lib/python3.10/dist-packages (from fastai>=2.6->fastbook) (0.0.7)\n",
            "Requirement already satisfied: fastcore<1.8,>=1.5.29 in /usr/local/lib/python3.10/dist-packages (from fastai>=2.6->fastbook) (1.7.28)\n",
            "Requirement already satisfied: torchvision>=0.11 in /usr/local/lib/python3.10/dist-packages (from fastai>=2.6->fastbook) (0.20.1+cu121)\n",
            "Requirement already satisfied: matplotlib in /usr/local/lib/python3.10/dist-packages (from fastai>=2.6->fastbook) (3.10.0)\n",
            "Requirement already satisfied: pyyaml in /usr/local/lib/python3.10/dist-packages (from fastai>=2.6->fastbook) (6.0.2)\n",
            "Requirement already satisfied: fastprogress>=0.2.4 in /usr/local/lib/python3.10/dist-packages (from fastai>=2.6->fastbook) (1.0.3)\n",
            "Requirement already satisfied: pillow>=9.0.0 in /usr/local/lib/python3.10/dist-packages (from fastai>=2.6->fastbook) (11.1.0)\n",
            "Requirement already satisfied: scikit-learn in /usr/local/lib/python3.10/dist-packages (from fastai>=2.6->fastbook) (1.6.0)\n",
            "Requirement already satisfied: scipy in /usr/local/lib/python3.10/dist-packages (from fastai>=2.6->fastbook) (1.13.1)\n",
            "Requirement already satisfied: spacy<4 in /usr/local/lib/python3.10/dist-packages (from fastai>=2.6->fastbook) (3.7.5)\n",
            "Requirement already satisfied: torch<2.6,>=1.10 in /usr/local/lib/python3.10/dist-packages (from fastai>=2.6->fastbook) (2.5.1+cu121)\n",
            "Requirement already satisfied: ipykernel>=4.5.1 in /usr/local/lib/python3.10/dist-packages (from ipywidgets<8->fastbook) (5.5.6)\n",
            "Requirement already satisfied: ipython-genutils~=0.2.0 in /usr/local/lib/python3.10/dist-packages (from ipywidgets<8->fastbook) (0.2.0)\n",
            "Requirement already satisfied: traitlets>=4.3.1 in /usr/local/lib/python3.10/dist-packages (from ipywidgets<8->fastbook) (5.7.1)\n",
            "Requirement already satisfied: widgetsnbextension~=3.6.0 in /usr/local/lib/python3.10/dist-packages (from ipywidgets<8->fastbook) (3.6.10)\n",
            "Requirement already satisfied: ipython>=4.0.0 in /usr/local/lib/python3.10/dist-packages (from ipywidgets<8->fastbook) (7.34.0)\n",
            "Requirement already satisfied: jupyterlab-widgets>=1.0.0 in /usr/local/lib/python3.10/dist-packages (from ipywidgets<8->fastbook) (3.0.13)\n",
            "Requirement already satisfied: filelock in /usr/local/lib/python3.10/dist-packages (from datasets->fastbook) (3.16.1)\n",
            "Requirement already satisfied: numpy>=1.17 in /usr/local/lib/python3.10/dist-packages (from datasets->fastbook) (1.26.4)\n",
            "Requirement already satisfied: pyarrow>=15.0.0 in /usr/local/lib/python3.10/dist-packages (from datasets->fastbook) (17.0.0)\n",
            "Requirement already satisfied: dill<0.3.9,>=0.3.0 in /usr/local/lib/python3.10/dist-packages (from datasets->fastbook) (0.3.8)\n",
            "Requirement already satisfied: tqdm>=4.66.3 in /usr/local/lib/python3.10/dist-packages (from datasets->fastbook) (4.67.1)\n",
            "Requirement already satisfied: xxhash in /usr/local/lib/python3.10/dist-packages (from datasets->fastbook) (3.5.0)\n",
            "Requirement already satisfied: multiprocess<0.70.17 in /usr/local/lib/python3.10/dist-packages (from datasets->fastbook) (0.70.16)\n",
            "Requirement already satisfied: fsspec<=2024.9.0,>=2023.1.0 in /usr/local/lib/python3.10/dist-packages (from fsspec[http]<=2024.9.0,>=2023.1.0->datasets->fastbook) (2024.6.1)\n",
            "Requirement already satisfied: aiohttp in /usr/local/lib/python3.10/dist-packages (from datasets->fastbook) (3.11.11)\n",
            "Requirement already satisfied: huggingface-hub>=0.23.0 in /usr/local/lib/python3.10/dist-packages (from datasets->fastbook) (0.27.1)\n",
            "Requirement already satisfied: charset-normalizer<4,>=2 in /usr/local/lib/python3.10/dist-packages (from requests->fastbook) (3.4.1)\n",
            "Requirement already satisfied: idna<4,>=2.5 in /usr/local/lib/python3.10/dist-packages (from requests->fastbook) (3.10)\n",
            "Requirement already satisfied: urllib3<3,>=1.21.1 in /usr/local/lib/python3.10/dist-packages (from requests->fastbook) (2.3.0)\n",
            "Requirement already satisfied: certifi>=2017.4.17 in /usr/local/lib/python3.10/dist-packages (from requests->fastbook) (2024.12.14)\n",
            "Requirement already satisfied: python-dateutil>=2.8.2 in /usr/local/lib/python3.10/dist-packages (from pandas->fastbook) (2.8.2)\n",
            "Requirement already satisfied: pytz>=2020.1 in /usr/local/lib/python3.10/dist-packages (from pandas->fastbook) (2024.2)\n",
            "Requirement already satisfied: tzdata>=2022.7 in /usr/local/lib/python3.10/dist-packages (from pandas->fastbook) (2024.2)\n",
            "Requirement already satisfied: regex!=2019.12.17 in /usr/local/lib/python3.10/dist-packages (from transformers->fastbook) (2024.11.6)\n",
            "Requirement already satisfied: tokenizers<0.22,>=0.21 in /usr/local/lib/python3.10/dist-packages (from transformers->fastbook) (0.21.0)\n",
            "Requirement already satisfied: safetensors>=0.4.1 in /usr/local/lib/python3.10/dist-packages (from transformers->fastbook) (0.5.1)\n",
            "Requirement already satisfied: aiohappyeyeballs>=2.3.0 in /usr/local/lib/python3.10/dist-packages (from aiohttp->datasets->fastbook) (2.4.4)\n",
            "Requirement already satisfied: aiosignal>=1.1.2 in /usr/local/lib/python3.10/dist-packages (from aiohttp->datasets->fastbook) (1.3.2)\n",
            "Requirement already satisfied: async-timeout<6.0,>=4.0 in /usr/local/lib/python3.10/dist-packages (from aiohttp->datasets->fastbook) (4.0.3)\n",
            "Requirement already satisfied: attrs>=17.3.0 in /usr/local/lib/python3.10/dist-packages (from aiohttp->datasets->fastbook) (24.3.0)\n",
            "Requirement already satisfied: frozenlist>=1.1.1 in /usr/local/lib/python3.10/dist-packages (from aiohttp->datasets->fastbook) (1.5.0)\n",
            "Requirement already satisfied: multidict<7.0,>=4.5 in /usr/local/lib/python3.10/dist-packages (from aiohttp->datasets->fastbook) (6.1.0)\n",
            "Requirement already satisfied: propcache>=0.2.0 in /usr/local/lib/python3.10/dist-packages (from aiohttp->datasets->fastbook) (0.2.1)\n",
            "Requirement already satisfied: yarl<2.0,>=1.17.0 in /usr/local/lib/python3.10/dist-packages (from aiohttp->datasets->fastbook) (1.18.3)\n",
            "Requirement already satisfied: typing-extensions>=3.7.4.3 in /usr/local/lib/python3.10/dist-packages (from huggingface-hub>=0.23.0->datasets->fastbook) (4.12.2)\n",
            "Requirement already satisfied: jupyter-client in /usr/local/lib/python3.10/dist-packages (from ipykernel>=4.5.1->ipywidgets<8->fastbook) (6.1.12)\n",
            "Requirement already satisfied: tornado>=4.2 in /usr/local/lib/python3.10/dist-packages (from ipykernel>=4.5.1->ipywidgets<8->fastbook) (6.3.3)\n",
            "Requirement already satisfied: setuptools>=18.5 in /usr/local/lib/python3.10/dist-packages (from ipython>=4.0.0->ipywidgets<8->fastbook) (75.1.0)\n",
            "Requirement already satisfied: jedi>=0.16 in /usr/local/lib/python3.10/dist-packages (from ipython>=4.0.0->ipywidgets<8->fastbook) (0.19.2)\n",
            "Requirement already satisfied: decorator in /usr/local/lib/python3.10/dist-packages (from ipython>=4.0.0->ipywidgets<8->fastbook) (4.4.2)\n",
            "Requirement already satisfied: pickleshare in /usr/local/lib/python3.10/dist-packages (from ipython>=4.0.0->ipywidgets<8->fastbook) (0.7.5)\n",
            "Requirement already satisfied: prompt-toolkit!=3.0.0,!=3.0.1,<3.1.0,>=2.0.0 in /usr/local/lib/python3.10/dist-packages (from ipython>=4.0.0->ipywidgets<8->fastbook) (3.0.48)\n",
            "Requirement already satisfied: pygments in /usr/local/lib/python3.10/dist-packages (from ipython>=4.0.0->ipywidgets<8->fastbook) (2.18.0)\n",
            "Requirement already satisfied: backcall in /usr/local/lib/python3.10/dist-packages (from ipython>=4.0.0->ipywidgets<8->fastbook) (0.2.0)\n",
            "Requirement already satisfied: matplotlib-inline in /usr/local/lib/python3.10/dist-packages (from ipython>=4.0.0->ipywidgets<8->fastbook) (0.1.7)\n",
            "Requirement already satisfied: pexpect>4.3 in /usr/local/lib/python3.10/dist-packages (from ipython>=4.0.0->ipywidgets<8->fastbook) (4.9.0)\n",
            "Requirement already satisfied: six>=1.5 in /usr/local/lib/python3.10/dist-packages (from python-dateutil>=2.8.2->pandas->fastbook) (1.17.0)\n",
            "Requirement already satisfied: spacy-legacy<3.1.0,>=3.0.11 in /usr/local/lib/python3.10/dist-packages (from spacy<4->fastai>=2.6->fastbook) (3.0.12)\n",
            "Requirement already satisfied: spacy-loggers<2.0.0,>=1.0.0 in /usr/local/lib/python3.10/dist-packages (from spacy<4->fastai>=2.6->fastbook) (1.0.5)\n",
            "Requirement already satisfied: murmurhash<1.1.0,>=0.28.0 in /usr/local/lib/python3.10/dist-packages (from spacy<4->fastai>=2.6->fastbook) (1.0.11)\n",
            "Requirement already satisfied: cymem<2.1.0,>=2.0.2 in /usr/local/lib/python3.10/dist-packages (from spacy<4->fastai>=2.6->fastbook) (2.0.10)\n",
            "Requirement already satisfied: preshed<3.1.0,>=3.0.2 in /usr/local/lib/python3.10/dist-packages (from spacy<4->fastai>=2.6->fastbook) (3.0.9)\n",
            "Requirement already satisfied: thinc<8.3.0,>=8.2.2 in /usr/local/lib/python3.10/dist-packages (from spacy<4->fastai>=2.6->fastbook) (8.2.5)\n",
            "Requirement already satisfied: wasabi<1.2.0,>=0.9.1 in /usr/local/lib/python3.10/dist-packages (from spacy<4->fastai>=2.6->fastbook) (1.1.3)\n",
            "Requirement already satisfied: srsly<3.0.0,>=2.4.3 in /usr/local/lib/python3.10/dist-packages (from spacy<4->fastai>=2.6->fastbook) (2.5.0)\n",
            "Requirement already satisfied: catalogue<2.1.0,>=2.0.6 in /usr/local/lib/python3.10/dist-packages (from spacy<4->fastai>=2.6->fastbook) (2.0.10)\n",
            "Requirement already satisfied: weasel<0.5.0,>=0.1.0 in /usr/local/lib/python3.10/dist-packages (from spacy<4->fastai>=2.6->fastbook) (0.4.1)\n",
            "Requirement already satisfied: typer<1.0.0,>=0.3.0 in /usr/local/lib/python3.10/dist-packages (from spacy<4->fastai>=2.6->fastbook) (0.15.1)\n",
            "Requirement already satisfied: pydantic!=1.8,!=1.8.1,<3.0.0,>=1.7.4 in /usr/local/lib/python3.10/dist-packages (from spacy<4->fastai>=2.6->fastbook) (2.10.4)\n",
            "Requirement already satisfied: jinja2 in /usr/local/lib/python3.10/dist-packages (from spacy<4->fastai>=2.6->fastbook) (3.1.5)\n",
            "Requirement already satisfied: langcodes<4.0.0,>=3.2.0 in /usr/local/lib/python3.10/dist-packages (from spacy<4->fastai>=2.6->fastbook) (3.5.0)\n",
            "Requirement already satisfied: networkx in /usr/local/lib/python3.10/dist-packages (from torch<2.6,>=1.10->fastai>=2.6->fastbook) (3.4.2)\n",
            "Requirement already satisfied: sympy==1.13.1 in /usr/local/lib/python3.10/dist-packages (from torch<2.6,>=1.10->fastai>=2.6->fastbook) (1.13.1)\n",
            "Requirement already satisfied: mpmath<1.4,>=1.1.0 in /usr/local/lib/python3.10/dist-packages (from sympy==1.13.1->torch<2.6,>=1.10->fastai>=2.6->fastbook) (1.3.0)\n",
            "Requirement already satisfied: notebook>=4.4.1 in /usr/local/lib/python3.10/dist-packages (from widgetsnbextension~=3.6.0->ipywidgets<8->fastbook) (6.5.5)\n",
            "Requirement already satisfied: contourpy>=1.0.1 in /usr/local/lib/python3.10/dist-packages (from matplotlib->fastai>=2.6->fastbook) (1.3.1)\n",
            "Requirement already satisfied: cycler>=0.10 in /usr/local/lib/python3.10/dist-packages (from matplotlib->fastai>=2.6->fastbook) (0.12.1)\n",
            "Requirement already satisfied: fonttools>=4.22.0 in /usr/local/lib/python3.10/dist-packages (from matplotlib->fastai>=2.6->fastbook) (4.55.3)\n",
            "Requirement already satisfied: kiwisolver>=1.3.1 in /usr/local/lib/python3.10/dist-packages (from matplotlib->fastai>=2.6->fastbook) (1.4.8)\n",
            "Requirement already satisfied: pyparsing>=2.3.1 in /usr/local/lib/python3.10/dist-packages (from matplotlib->fastai>=2.6->fastbook) (3.2.1)\n",
            "Requirement already satisfied: joblib>=1.2.0 in /usr/local/lib/python3.10/dist-packages (from scikit-learn->fastai>=2.6->fastbook) (1.4.2)\n",
            "Requirement already satisfied: threadpoolctl>=3.1.0 in /usr/local/lib/python3.10/dist-packages (from scikit-learn->fastai>=2.6->fastbook) (3.5.0)\n",
            "Requirement already satisfied: parso<0.9.0,>=0.8.4 in /usr/local/lib/python3.10/dist-packages (from jedi>=0.16->ipython>=4.0.0->ipywidgets<8->fastbook) (0.8.4)\n",
            "Requirement already satisfied: language-data>=1.2 in /usr/local/lib/python3.10/dist-packages (from langcodes<4.0.0,>=3.2.0->spacy<4->fastai>=2.6->fastbook) (1.3.0)\n",
            "Requirement already satisfied: pyzmq<25,>=17 in /usr/local/lib/python3.10/dist-packages (from notebook>=4.4.1->widgetsnbextension~=3.6.0->ipywidgets<8->fastbook) (24.0.1)\n",
            "Requirement already satisfied: argon2-cffi in /usr/local/lib/python3.10/dist-packages (from notebook>=4.4.1->widgetsnbextension~=3.6.0->ipywidgets<8->fastbook) (23.1.0)\n",
            "Requirement already satisfied: jupyter-core>=4.6.1 in /usr/local/lib/python3.10/dist-packages (from notebook>=4.4.1->widgetsnbextension~=3.6.0->ipywidgets<8->fastbook) (5.7.2)\n",
            "Requirement already satisfied: nbformat in /usr/local/lib/python3.10/dist-packages (from notebook>=4.4.1->widgetsnbextension~=3.6.0->ipywidgets<8->fastbook) (5.10.4)\n",
            "Requirement already satisfied: nbconvert>=5 in /usr/local/lib/python3.10/dist-packages (from notebook>=4.4.1->widgetsnbextension~=3.6.0->ipywidgets<8->fastbook) (7.16.5)\n",
            "Requirement already satisfied: nest-asyncio>=1.5 in /usr/local/lib/python3.10/dist-packages (from notebook>=4.4.1->widgetsnbextension~=3.6.0->ipywidgets<8->fastbook) (1.6.0)\n",
            "Requirement already satisfied: Send2Trash>=1.8.0 in /usr/local/lib/python3.10/dist-packages (from notebook>=4.4.1->widgetsnbextension~=3.6.0->ipywidgets<8->fastbook) (1.8.3)\n",
            "Requirement already satisfied: terminado>=0.8.3 in /usr/local/lib/python3.10/dist-packages (from notebook>=4.4.1->widgetsnbextension~=3.6.0->ipywidgets<8->fastbook) (0.18.1)\n",
            "Requirement already satisfied: prometheus-client in /usr/local/lib/python3.10/dist-packages (from notebook>=4.4.1->widgetsnbextension~=3.6.0->ipywidgets<8->fastbook) (0.21.1)\n",
            "Requirement already satisfied: nbclassic>=0.4.7 in /usr/local/lib/python3.10/dist-packages (from notebook>=4.4.1->widgetsnbextension~=3.6.0->ipywidgets<8->fastbook) (1.1.0)\n",
            "Requirement already satisfied: ptyprocess>=0.5 in /usr/local/lib/python3.10/dist-packages (from pexpect>4.3->ipython>=4.0.0->ipywidgets<8->fastbook) (0.7.0)\n",
            "Requirement already satisfied: wcwidth in /usr/local/lib/python3.10/dist-packages (from prompt-toolkit!=3.0.0,!=3.0.1,<3.1.0,>=2.0.0->ipython>=4.0.0->ipywidgets<8->fastbook) (0.2.13)\n",
            "Requirement already satisfied: annotated-types>=0.6.0 in /usr/local/lib/python3.10/dist-packages (from pydantic!=1.8,!=1.8.1,<3.0.0,>=1.7.4->spacy<4->fastai>=2.6->fastbook) (0.7.0)\n",
            "Requirement already satisfied: pydantic-core==2.27.2 in /usr/local/lib/python3.10/dist-packages (from pydantic!=1.8,!=1.8.1,<3.0.0,>=1.7.4->spacy<4->fastai>=2.6->fastbook) (2.27.2)\n",
            "Requirement already satisfied: blis<0.8.0,>=0.7.8 in /usr/local/lib/python3.10/dist-packages (from thinc<8.3.0,>=8.2.2->spacy<4->fastai>=2.6->fastbook) (0.7.11)\n",
            "Requirement already satisfied: confection<1.0.0,>=0.0.1 in /usr/local/lib/python3.10/dist-packages (from thinc<8.3.0,>=8.2.2->spacy<4->fastai>=2.6->fastbook) (0.1.5)\n",
            "Requirement already satisfied: click>=8.0.0 in /usr/local/lib/python3.10/dist-packages (from typer<1.0.0,>=0.3.0->spacy<4->fastai>=2.6->fastbook) (8.1.8)\n",
            "Requirement already satisfied: shellingham>=1.3.0 in /usr/local/lib/python3.10/dist-packages (from typer<1.0.0,>=0.3.0->spacy<4->fastai>=2.6->fastbook) (1.5.4)\n",
            "Requirement already satisfied: rich>=10.11.0 in /usr/local/lib/python3.10/dist-packages (from typer<1.0.0,>=0.3.0->spacy<4->fastai>=2.6->fastbook) (13.9.4)\n",
            "Requirement already satisfied: cloudpathlib<1.0.0,>=0.7.0 in /usr/local/lib/python3.10/dist-packages (from weasel<0.5.0,>=0.1.0->spacy<4->fastai>=2.6->fastbook) (0.20.0)\n",
            "Requirement already satisfied: smart-open<8.0.0,>=5.2.1 in /usr/local/lib/python3.10/dist-packages (from weasel<0.5.0,>=0.1.0->spacy<4->fastai>=2.6->fastbook) (7.1.0)\n",
            "Requirement already satisfied: MarkupSafe>=2.0 in /usr/local/lib/python3.10/dist-packages (from jinja2->spacy<4->fastai>=2.6->fastbook) (3.0.2)\n",
            "Requirement already satisfied: platformdirs>=2.5 in /usr/local/lib/python3.10/dist-packages (from jupyter-core>=4.6.1->notebook>=4.4.1->widgetsnbextension~=3.6.0->ipywidgets<8->fastbook) (4.3.6)\n",
            "Requirement already satisfied: marisa-trie>=1.1.0 in /usr/local/lib/python3.10/dist-packages (from language-data>=1.2->langcodes<4.0.0,>=3.2.0->spacy<4->fastai>=2.6->fastbook) (1.2.1)\n",
            "Requirement already satisfied: notebook-shim>=0.2.3 in /usr/local/lib/python3.10/dist-packages (from nbclassic>=0.4.7->notebook>=4.4.1->widgetsnbextension~=3.6.0->ipywidgets<8->fastbook) (0.2.4)\n",
            "Requirement already satisfied: beautifulsoup4 in /usr/local/lib/python3.10/dist-packages (from nbconvert>=5->notebook>=4.4.1->widgetsnbextension~=3.6.0->ipywidgets<8->fastbook) (4.12.3)\n",
            "Requirement already satisfied: bleach!=5.0.0 in /usr/local/lib/python3.10/dist-packages (from bleach[css]!=5.0.0->nbconvert>=5->notebook>=4.4.1->widgetsnbextension~=3.6.0->ipywidgets<8->fastbook) (6.2.0)\n",
            "Requirement already satisfied: defusedxml in /usr/local/lib/python3.10/dist-packages (from nbconvert>=5->notebook>=4.4.1->widgetsnbextension~=3.6.0->ipywidgets<8->fastbook) (0.7.1)\n",
            "Requirement already satisfied: jupyterlab-pygments in /usr/local/lib/python3.10/dist-packages (from nbconvert>=5->notebook>=4.4.1->widgetsnbextension~=3.6.0->ipywidgets<8->fastbook) (0.3.0)\n",
            "Requirement already satisfied: mistune<4,>=2.0.3 in /usr/local/lib/python3.10/dist-packages (from nbconvert>=5->notebook>=4.4.1->widgetsnbextension~=3.6.0->ipywidgets<8->fastbook) (3.1.0)\n",
            "Requirement already satisfied: nbclient>=0.5.0 in /usr/local/lib/python3.10/dist-packages (from nbconvert>=5->notebook>=4.4.1->widgetsnbextension~=3.6.0->ipywidgets<8->fastbook) (0.10.2)\n",
            "Requirement already satisfied: pandocfilters>=1.4.1 in /usr/local/lib/python3.10/dist-packages (from nbconvert>=5->notebook>=4.4.1->widgetsnbextension~=3.6.0->ipywidgets<8->fastbook) (1.5.1)\n",
            "Requirement already satisfied: fastjsonschema>=2.15 in /usr/local/lib/python3.10/dist-packages (from nbformat->notebook>=4.4.1->widgetsnbextension~=3.6.0->ipywidgets<8->fastbook) (2.21.1)\n",
            "Requirement already satisfied: jsonschema>=2.6 in /usr/local/lib/python3.10/dist-packages (from nbformat->notebook>=4.4.1->widgetsnbextension~=3.6.0->ipywidgets<8->fastbook) (4.23.0)\n",
            "Requirement already satisfied: markdown-it-py>=2.2.0 in /usr/local/lib/python3.10/dist-packages (from rich>=10.11.0->typer<1.0.0,>=0.3.0->spacy<4->fastai>=2.6->fastbook) (3.0.0)\n",
            "Requirement already satisfied: wrapt in /usr/local/lib/python3.10/dist-packages (from smart-open<8.0.0,>=5.2.1->weasel<0.5.0,>=0.1.0->spacy<4->fastai>=2.6->fastbook) (1.17.0)\n",
            "Requirement already satisfied: argon2-cffi-bindings in /usr/local/lib/python3.10/dist-packages (from argon2-cffi->notebook>=4.4.1->widgetsnbextension~=3.6.0->ipywidgets<8->fastbook) (21.2.0)\n",
            "Requirement already satisfied: webencodings in /usr/local/lib/python3.10/dist-packages (from bleach!=5.0.0->bleach[css]!=5.0.0->nbconvert>=5->notebook>=4.4.1->widgetsnbextension~=3.6.0->ipywidgets<8->fastbook) (0.5.1)\n",
            "Requirement already satisfied: tinycss2<1.5,>=1.1.0 in /usr/local/lib/python3.10/dist-packages (from bleach[css]!=5.0.0->nbconvert>=5->notebook>=4.4.1->widgetsnbextension~=3.6.0->ipywidgets<8->fastbook) (1.4.0)\n",
            "Requirement already satisfied: jsonschema-specifications>=2023.03.6 in /usr/local/lib/python3.10/dist-packages (from jsonschema>=2.6->nbformat->notebook>=4.4.1->widgetsnbextension~=3.6.0->ipywidgets<8->fastbook) (2024.10.1)\n",
            "Requirement already satisfied: referencing>=0.28.4 in /usr/local/lib/python3.10/dist-packages (from jsonschema>=2.6->nbformat->notebook>=4.4.1->widgetsnbextension~=3.6.0->ipywidgets<8->fastbook) (0.35.1)\n",
            "Requirement already satisfied: rpds-py>=0.7.1 in /usr/local/lib/python3.10/dist-packages (from jsonschema>=2.6->nbformat->notebook>=4.4.1->widgetsnbextension~=3.6.0->ipywidgets<8->fastbook) (0.22.3)\n",
            "Requirement already satisfied: mdurl~=0.1 in /usr/local/lib/python3.10/dist-packages (from markdown-it-py>=2.2.0->rich>=10.11.0->typer<1.0.0,>=0.3.0->spacy<4->fastai>=2.6->fastbook) (0.1.2)\n",
            "Requirement already satisfied: jupyter-server<3,>=1.8 in /usr/local/lib/python3.10/dist-packages (from notebook-shim>=0.2.3->nbclassic>=0.4.7->notebook>=4.4.1->widgetsnbextension~=3.6.0->ipywidgets<8->fastbook) (1.24.0)\n",
            "Requirement already satisfied: cffi>=1.0.1 in /usr/local/lib/python3.10/dist-packages (from argon2-cffi-bindings->argon2-cffi->notebook>=4.4.1->widgetsnbextension~=3.6.0->ipywidgets<8->fastbook) (1.17.1)\n",
            "Requirement already satisfied: soupsieve>1.2 in /usr/local/lib/python3.10/dist-packages (from beautifulsoup4->nbconvert>=5->notebook>=4.4.1->widgetsnbextension~=3.6.0->ipywidgets<8->fastbook) (2.6)\n",
            "Requirement already satisfied: pycparser in /usr/local/lib/python3.10/dist-packages (from cffi>=1.0.1->argon2-cffi-bindings->argon2-cffi->notebook>=4.4.1->widgetsnbextension~=3.6.0->ipywidgets<8->fastbook) (2.22)\n",
            "Requirement already satisfied: anyio<4,>=3.1.0 in /usr/local/lib/python3.10/dist-packages (from jupyter-server<3,>=1.8->notebook-shim>=0.2.3->nbclassic>=0.4.7->notebook>=4.4.1->widgetsnbextension~=3.6.0->ipywidgets<8->fastbook) (3.7.1)\n",
            "Requirement already satisfied: websocket-client in /usr/local/lib/python3.10/dist-packages (from jupyter-server<3,>=1.8->notebook-shim>=0.2.3->nbclassic>=0.4.7->notebook>=4.4.1->widgetsnbextension~=3.6.0->ipywidgets<8->fastbook) (1.8.0)\n",
            "Requirement already satisfied: sniffio>=1.1 in /usr/local/lib/python3.10/dist-packages (from anyio<4,>=3.1.0->jupyter-server<3,>=1.8->notebook-shim>=0.2.3->nbclassic>=0.4.7->notebook>=4.4.1->widgetsnbextension~=3.6.0->ipywidgets<8->fastbook) (1.3.1)\n",
            "Requirement already satisfied: exceptiongroup in /usr/local/lib/python3.10/dist-packages (from anyio<4,>=3.1.0->jupyter-server<3,>=1.8->notebook-shim>=0.2.3->nbclassic>=0.4.7->notebook>=4.4.1->widgetsnbextension~=3.6.0->ipywidgets<8->fastbook) (1.2.2)\n"
          ]
        }
      ]
    },
    {
      "cell_type": "code",
      "execution_count": 5,
      "metadata": {
        "colab": {
          "base_uri": "https://localhost:8080/",
          "height": 457
        },
        "id": "ciRZzYonLFZ-",
        "outputId": "b5ade116-2a71-48d6-c0a5-cd05de62f104"
      },
      "outputs": [
        {
          "output_type": "display_data",
          "data": {
            "text/plain": [
              "<Figure size 640x480 with 1 Axes>"
            ],
            "image/png": "[encoded data removed]"
          },
          "metadata": {}
        }
      ],
      "source": [
        "import torch\n",
        "\n",
        "x = torch.tensor(5, requires_grad=True, dtype=torch.float32)\n",
        "# quadratic function\n",
        "y = x**2 + 2*x + 1\n",
        "\n",
        "# plot the function from x = 0 to x = 10\n",
        "import matplotlib.pyplot as plt\n",
        "import numpy as np\n",
        "x_plt = np.linspace(-10, 10, 100)\n",
        "y_plt = x_plt**2 + 2*x_plt + 1\n",
        "plt.plot(x_plt, y_plt)\n",
        "plt.title('y = x^2 + 2x + 1')\n",
        "\n",
        "# Plot the x, y\n",
        "plt.plot(x.detach().numpy(), y.detach().numpy(), 'o')\n",
        "plt.show()"
      ]
    },
    {
      "cell_type": "code",
      "source": [
        "from fastbook import *\n",
        "\n",
        "gv('''\n",
        "   x -> y[label=\"x^2 + 2x+1\"]\n",
        "   ''')"
      ],
      "metadata": {
        "colab": {
          "base_uri": "https://localhost:8080/",
          "height": 80
        },
        "id": "fs2i5TNfLIeX",
        "outputId": "a302e578-f1d1-4f56-c00a-ad993f3510ad"
      },
      "execution_count": 4,
      "outputs": [
        {
          "output_type": "execute_result",
          "data": {
            "image/svg+xml": "<?xml version=\"1.0\" encoding=\"UTF-8\" standalone=\"no\"?>\n<!DOCTYPE svg PUBLIC \"-//W3C//DTD SVG 1.1//EN\"\n \"http://www.w3.org/Graphics/SVG/1.1/DTD/svg11.dtd\">\n<!-- Generated by graphviz version 2.43.0 (0)\n -->\n<!-- Title: G Pages: 1 -->\n<svg width=\"217pt\" height=\"44pt\"\n viewBox=\"0.00 0.00 217.00 44.00\" xmlns=\"http://www.w3.org/2000/svg\" xmlns:xlink=\"http://www.w3.org/1999/xlink\">\n<g id=\"graph0\" class=\"graph\" transform=\"scale(1 1) rotate(0) translate(4 40)\">\n<title>G</title>\n<polygon fill=\"white\" stroke=\"transparent\" points=\"-4,4 -4,-40 213,-40 213,4 -4,4\"/>\n<!-- x -->\n<g id=\"node1\" class=\"node\">\n<title>x</title>\n<ellipse fill=\"none\" stroke=\"black\" cx=\"27\" cy=\"-18\" rx=\"27\" ry=\"18\"/>\n<text text-anchor=\"middle\" x=\"27\" y=\"-14.3\" font-family=\"Times,serif\" font-size=\"14.00\">x</text>\n</g>\n<!-- y -->\n<g id=\"node2\" class=\"node\">\n<title>y</title>\n<ellipse fill=\"none\" stroke=\"black\" cx=\"182\" cy=\"-18\" rx=\"27\" ry=\"18\"/>\n<text text-anchor=\"middle\" x=\"182\" y=\"-14.3\" font-family=\"Times,serif\" font-size=\"14.00\">y</text>\n</g>\n<!-- x&#45;&gt;y -->\n<g id=\"edge1\" class=\"edge\">\n<title>x&#45;&gt;y</title>\n<path fill=\"none\" stroke=\"black\" d=\"M54.3,-18C79.23,-18 116.88,-18 144.67,-18\"/>\n<polygon fill=\"black\" stroke=\"black\" points=\"144.79,-21.5 154.79,-18 144.79,-14.5 144.79,-21.5\"/>\n<text text-anchor=\"middle\" x=\"104.5\" y=\"-21.8\" font-family=\"Times,serif\" font-size=\"14.00\">x^2 + 2x+1</text>\n</g>\n</g>\n</svg>\n",
            "text/plain": [
              "<graphviz.sources.Source at 0x7eb4f74661a0>"
            ]
          },
          "metadata": {},
          "execution_count": 4
        }
      ]
    },
    {
      "cell_type": "code",
      "source": [
        "x = torch.tensor(5, requires_grad=True, dtype=torch.float32)\n",
        "y = x**2 + 2*x + 1\n",
        "\n",
        "# compute gradient\n",
        "y.backward()\n",
        "\n",
        "# print gradient\n",
        "print(x.grad)"
      ],
      "metadata": {
        "colab": {
          "base_uri": "https://localhost:8080/"
        },
        "id": "iJcxWuPULK2D",
        "outputId": "383350cc-67e0-4e8b-8537-02179ab4b886"
      },
      "execution_count": 10,
      "outputs": [
        {
          "output_type": "stream",
          "name": "stdout",
          "text": [
            "tensor(12.)\n"
          ]
        }
      ]
    },
    {
      "cell_type": "code",
      "source": [
        "x = torch.tensor(5, requires_grad=False, dtype=torch.float32)\n",
        "y = x**2 + 2*x + 1\n",
        "\n",
        "# compute gradient\n",
        "y.backward()\n",
        "\n",
        "# Error\n",
        "print(x.grad)"
      ],
      "metadata": {
        "colab": {
          "base_uri": "https://localhost:8080/",
          "height": 356
        },
        "id": "38nePjqKMjcP",
        "outputId": "4cf088c1-5529-48a4-ca9a-0bd405cb88da"
      },
      "execution_count": 14,
      "outputs": [
        {
          "output_type": "error",
          "ename": "RuntimeError",
          "evalue": "element 0 of tensors does not require grad and does not have a grad_fn",
          "traceback": [
            "\u001b[0;31m---------------------------------------------------------------------------\u001b[0m",
            "\u001b[0;31mRuntimeError\u001b[0m                              Traceback (most recent call last)",
            "\u001b[0;32m<ipython-input-14-157f134aa1dd>\u001b[0m in \u001b[0;36m<cell line: 5>\u001b[0;34m()\u001b[0m\n\u001b[1;32m      3\u001b[0m \u001b[0;34m\u001b[0m\u001b[0m\n\u001b[1;32m      4\u001b[0m \u001b[0;31m# compute gradient\u001b[0m\u001b[0;34m\u001b[0m\u001b[0;34m\u001b[0m\u001b[0m\n\u001b[0;32m----> 5\u001b[0;31m \u001b[0my\u001b[0m\u001b[0;34m.\u001b[0m\u001b[0mbackward\u001b[0m\u001b[0;34m(\u001b[0m\u001b[0;34m)\u001b[0m\u001b[0;34m\u001b[0m\u001b[0;34m\u001b[0m\u001b[0m\n\u001b[0m\u001b[1;32m      6\u001b[0m \u001b[0;34m\u001b[0m\u001b[0m\n\u001b[1;32m      7\u001b[0m \u001b[0;31m# Error\u001b[0m\u001b[0;34m\u001b[0m\u001b[0;34m\u001b[0m\u001b[0m\n",
            "\u001b[0;32m/usr/local/lib/python3.10/dist-packages/torch/_tensor.py\u001b[0m in \u001b[0;36mbackward\u001b[0;34m(self, gradient, retain_graph, create_graph, inputs)\u001b[0m\n\u001b[1;32m    579\u001b[0m                 \u001b[0minputs\u001b[0m\u001b[0;34m=\u001b[0m\u001b[0minputs\u001b[0m\u001b[0;34m,\u001b[0m\u001b[0;34m\u001b[0m\u001b[0;34m\u001b[0m\u001b[0m\n\u001b[1;32m    580\u001b[0m             )\n\u001b[0;32m--> 581\u001b[0;31m         torch.autograd.backward(\n\u001b[0m\u001b[1;32m    582\u001b[0m             \u001b[0mself\u001b[0m\u001b[0;34m,\u001b[0m \u001b[0mgradient\u001b[0m\u001b[0;34m,\u001b[0m \u001b[0mretain_graph\u001b[0m\u001b[0;34m,\u001b[0m \u001b[0mcreate_graph\u001b[0m\u001b[0;34m,\u001b[0m \u001b[0minputs\u001b[0m\u001b[0;34m=\u001b[0m\u001b[0minputs\u001b[0m\u001b[0;34m\u001b[0m\u001b[0;34m\u001b[0m\u001b[0m\n\u001b[1;32m    583\u001b[0m         )\n",
            "\u001b[0;32m/usr/local/lib/python3.10/dist-packages/torch/autograd/__init__.py\u001b[0m in \u001b[0;36mbackward\u001b[0;34m(tensors, grad_tensors, retain_graph, create_graph, grad_variables, inputs)\u001b[0m\n\u001b[1;32m    345\u001b[0m     \u001b[0;31m# some Python versions print out the first line of a multi-line function\u001b[0m\u001b[0;34m\u001b[0m\u001b[0;34m\u001b[0m\u001b[0m\n\u001b[1;32m    346\u001b[0m     \u001b[0;31m# calls in the traceback and some print out the last line\u001b[0m\u001b[0;34m\u001b[0m\u001b[0;34m\u001b[0m\u001b[0m\n\u001b[0;32m--> 347\u001b[0;31m     _engine_run_backward(\n\u001b[0m\u001b[1;32m    348\u001b[0m         \u001b[0mtensors\u001b[0m\u001b[0;34m,\u001b[0m\u001b[0;34m\u001b[0m\u001b[0;34m\u001b[0m\u001b[0m\n\u001b[1;32m    349\u001b[0m         \u001b[0mgrad_tensors_\u001b[0m\u001b[0;34m,\u001b[0m\u001b[0;34m\u001b[0m\u001b[0;34m\u001b[0m\u001b[0m\n",
            "\u001b[0;32m/usr/local/lib/python3.10/dist-packages/torch/autograd/graph.py\u001b[0m in \u001b[0;36m_engine_run_backward\u001b[0;34m(t_outputs, *args, **kwargs)\u001b[0m\n\u001b[1;32m    823\u001b[0m         \u001b[0munregister_hooks\u001b[0m \u001b[0;34m=\u001b[0m \u001b[0m_register_logging_hooks_on_whole_graph\u001b[0m\u001b[0;34m(\u001b[0m\u001b[0mt_outputs\u001b[0m\u001b[0;34m)\u001b[0m\u001b[0;34m\u001b[0m\u001b[0;34m\u001b[0m\u001b[0m\n\u001b[1;32m    824\u001b[0m     \u001b[0;32mtry\u001b[0m\u001b[0;34m:\u001b[0m\u001b[0;34m\u001b[0m\u001b[0;34m\u001b[0m\u001b[0m\n\u001b[0;32m--> 825\u001b[0;31m         return Variable._execution_engine.run_backward(  # Calls into the C++ engine to run the backward pass\n\u001b[0m\u001b[1;32m    826\u001b[0m             \u001b[0mt_outputs\u001b[0m\u001b[0;34m,\u001b[0m \u001b[0;34m*\u001b[0m\u001b[0margs\u001b[0m\u001b[0;34m,\u001b[0m \u001b[0;34m**\u001b[0m\u001b[0mkwargs\u001b[0m\u001b[0;34m\u001b[0m\u001b[0;34m\u001b[0m\u001b[0m\n\u001b[1;32m    827\u001b[0m         )  # Calls into the C++ engine to run the backward pass\n",
            "\u001b[0;31mRuntimeError\u001b[0m: element 0 of tensors does not require grad and does not have a grad_fn"
          ]
        }
      ]
    },
    {
      "cell_type": "code",
      "source": [
        "# Randomly choose x\n",
        "x = torch.tensor(5, requires_grad=True, dtype=torch.float32)\n",
        "alpha = 0.1\n",
        "\n",
        "for i in range(10):\n",
        "    y = x**2 + 2*x + 1\n",
        "    y.backward()\n",
        "\n",
        "    with torch.no_grad():\n",
        "        x -= alpha * x.grad\n",
        "        # gradient is accumulated, so we need to zero it\n",
        "        x.grad.zero_()\n",
        "\n",
        "    print(x.detach().numpy(), y.detach().numpy())\n",
        ""
      ],
      "metadata": {
        "colab": {
          "base_uri": "https://localhost:8080/"
        },
        "id": "PZioTxBuMmGj",
        "outputId": "03a8480b-8b54-498c-d972-a019c7a3f337"
      },
      "execution_count": 12,
      "outputs": [
        {
          "output_type": "stream",
          "name": "stdout",
          "text": [
            "3.8 36.0\n",
            "2.84 23.039999\n",
            "2.072 14.7456\n",
            "1.4576 9.437184\n",
            "0.96607995 6.039798\n",
            "0.57286394 3.8654704\n",
            "0.25829116 2.473901\n",
            "0.006632924 1.5832967\n",
            "-0.19469367 1.0133098\n",
            "-0.35575494 0.6485183\n"
          ]
        }
      ]
    },
    {
      "cell_type": "code",
      "source": [
        "# Randomly choose x\n",
        "x = torch.tensor(5, requires_grad=True, dtype=torch.float32)\n",
        "alpha = 0.1\n",
        "\n",
        "x_plt = np.linspace(-10, 10, 100)\n",
        "y_plt = x_plt**2 + 2*x_plt + 1\n",
        "plt.plot(x_plt, y_plt)\n",
        "plt.title('y = x^2 + 2x + 1')\n",
        "\n",
        "# Plot the\n",
        "for i in range(50):\n",
        "    y = x**2 + 2*x + 1\n",
        "    plt.plot(x.detach().numpy(), y.detach().numpy(), 'o')\n",
        "\n",
        "    y.backward()\n",
        "\n",
        "    gradient = None\n",
        "    with torch.no_grad():\n",
        "        gradient = x.grad.item()\n",
        "        x -= alpha * x.grad\n",
        "        # gradient is accumulated, so we need to zero it\n",
        "        x.grad.zero_()\n",
        "\n",
        "    print(x.detach().numpy(), y.detach().numpy(), gradient)\n",
        "\n",
        "plt.show()"
      ],
      "metadata": {
        "colab": {
          "base_uri": "https://localhost:8080/",
          "height": 1000
        },
        "id": "l05zZI8kMrBd",
        "outputId": "8014220f-18ed-4e2a-f089-1891aa9d52a4"
      },
      "execution_count": 15,
      "outputs": [
        {
          "output_type": "stream",
          "name": "stdout",
          "text": [
            "3.8 36.0 12.0\n",
            "2.84 23.039999 9.600000381469727\n",
            "2.072 14.7456 7.679999828338623\n",
            "1.4576 9.437184 6.144000053405762\n",
            "0.96607995 6.039798 4.915200233459473\n",
            "0.57286394 3.8654704 3.932159900665283\n",
            "0.25829116 2.473901 3.1457278728485107\n",
            "0.006632924 1.5832967 2.5165822505950928\n",
            "-0.19469367 1.0133098 2.01326584815979\n",
            "-0.35575494 0.6485183 1.6106126308441162\n",
            "-0.48460394 0.4150517 1.2884900569915771\n",
            "-0.58768314 0.2656331 1.0307921171188354\n",
            "-0.6701465 0.1700052 0.8246337175369263\n",
            "-0.73611724 0.10880327 0.6597069501876831\n",
            "-0.7888938 0.06963408 0.5277655124664307\n",
            "-0.83111507 0.044565797 0.4222123622894287\n",
            "-0.86489207 0.028522134 0.33776986598968506\n",
            "-0.89191365 0.01825416 0.27021586894989014\n",
            "-0.91353095 0.01168263 0.2161726951599121\n",
            "-0.93082476 0.007476926 0.17293810844421387\n",
            "-0.9446598 0.0047852397 0.1383504867553711\n",
            "-0.9557279 0.0030625463 0.11068034172058105\n",
            "-0.9645823 0.0019600391 0.08854424953460693\n",
            "-0.97166586 0.0012544394 0.07083535194396973\n",
            "-0.9773327 0.00080281496 0.05666828155517578\n",
            "-0.9818662 0.00051379204 0.045334577560424805\n",
            "-0.98549294 0.00032883883 0.036267638206481934\n",
            "-0.9883944 0.000210464 0.029014110565185547\n",
            "-0.9907155 0.0001347065 0.023211240768432617\n",
            "-0.9925724 8.6188316e-05 0.018568992614746094\n",
            "-0.99405795 5.51939e-05 0.014855146408081055\n",
            "-0.99524635 3.528595e-05 0.011884093284606934\n",
            "-0.9961971 2.259016e-05 0.009507298469543457\n",
            "-0.99695766 1.4483929e-05 0.007605791091918945\n",
            "-0.9975661 9.23872e-06 0.0060846805572509766\n",
            "-0.9980529 5.90086e-06 0.0048677921295166016\n",
            "-0.9984423 3.8146973e-06 0.003894209861755371\n",
            "-0.99875385 2.4437904e-06 0.003115415573120117\n",
            "-0.99900305 1.5497208e-06 0.0024923086166381836\n",
            "-0.99920243 1.013279e-06 0.001993894577026367\n",
            "-0.99936193 6.556511e-07 0.001595139503479004\n",
            "-0.99948955 4.172325e-07 0.0012761354446411133\n",
            "-0.99959165 2.3841858e-07 0.0010209083557128906\n",
            "-0.9996733 1.7881393e-07 0.0008167028427124023\n",
            "-0.99973863 1.1920929e-07 0.000653386116027832\n",
            "-0.9997909 5.9604645e-08 0.0005227327346801758\n",
            "-0.99983275 5.9604645e-08 0.0004181861877441406\n",
            "-0.9998662 0.0 0.0003345012664794922\n",
            "-0.99989295 0.0 0.0002676248550415039\n",
            "-0.99991435 0.0 0.00021409988403320312\n"
          ]
        },
        {
          "output_type": "display_data",
          "data": {
            "text/plain": [
              "<Figure size 640x480 with 1 Axes>"
            ],
            "image/png": "[encoded data removed]"
          },
          "metadata": {}
        }
      ]
    },
    {
      "cell_type": "code",
      "source": [
        "# Randomly choose x\n",
        "x = torch.tensor(5, requires_grad=True, dtype=torch.float32)\n",
        "alpha = 0.1\n",
        "optimizer = torch.optim.SGD([x], lr=alpha)\n",
        "\n",
        "for i in range(10):\n",
        "    y = x**2 + 2*x + 1\n",
        "    y.backward()\n",
        "\n",
        "    optimizer.step()\n",
        "    optimizer.zero_grad()\n",
        "\n",
        "    print(x.detach().numpy(), y.detach().numpy())\n",
        ""
      ],
      "metadata": {
        "colab": {
          "base_uri": "https://localhost:8080/"
        },
        "id": "kHk0qlqpM0rs",
        "outputId": "ee44aebe-8814-4ed5-ee1b-5a9c13699a3a"
      },
      "execution_count": 16,
      "outputs": [
        {
          "output_type": "stream",
          "name": "stdout",
          "text": [
            "3.8 36.0\n",
            "2.84 23.039999\n",
            "2.072 14.7456\n",
            "1.4576 9.437184\n",
            "0.96607995 6.039798\n",
            "0.57286394 3.8654704\n",
            "0.25829116 2.473901\n",
            "0.0066329264 1.5832967\n",
            "-0.19469365 1.0133098\n",
            "-0.3557549 0.6485183\n"
          ]
        }
      ]
    },
    {
      "cell_type": "code",
      "source": [
        "x = torch.tensor([[0], [1]], dtype=torch.float32)\n",
        "y = torch.tensor([1, 0], dtype=torch.float32)\n",
        "\n",
        "w = torch.tensor([[3]], requires_grad=True, dtype=torch.float32)\n",
        "b = torch.tensor([[1]], requires_grad=True, dtype=torch.float32)\n",
        "\n",
        "a = torch.sigmoid(w@x.T + b)\n",
        "\n",
        "print(\"a = \", a)\n",
        "\n",
        "loss = torch.square(a - y)\n",
        "print(\"loss = \", loss.detach().numpy())\n",
        "\n",
        "loss = torch.mean(loss)\n",
        "print(\"sum loss = \", loss.detach().numpy())\n",
        "\n",
        "loss.backward()\n",
        "\n",
        "print(\"w_grad = \", w.grad)\n",
        "print(\"b_grad = \", b.grad)"
      ],
      "metadata": {
        "colab": {
          "base_uri": "https://localhost:8080/"
        },
        "id": "jGdK9OejM3k0",
        "outputId": "967cd4c7-9248-4678-8d9b-19e2e9960c03"
      },
      "execution_count": 17,
      "outputs": [
        {
          "output_type": "stream",
          "name": "stdout",
          "text": [
            "a =  tensor([[0.7311, 0.9820]], grad_fn=<SigmoidBackward0>)\n",
            "loss =  [[0.07232948 0.96435106]]\n",
            "sum loss =  0.5183403\n",
            "w_grad =  tensor([[0.0173]])\n",
            "b_grad =  tensor([[-0.0355]])\n"
          ]
        }
      ]
    },
    {
      "cell_type": "code",
      "source": [
        "import torch\n",
        "\n",
        "x = torch.tensor([[0], [1]], dtype=torch.float32)\n",
        "y = torch.tensor([1, 0], dtype=torch.float32)\n",
        "\n",
        "w = torch.tensor([[3]], requires_grad=True, dtype=torch.float32)\n",
        "b = torch.tensor([[1]], requires_grad=True, dtype=torch.float32)\n",
        "\n",
        "optimizer = torch.optim.SGD([w, b], lr=10)\n",
        "\n",
        "for i in range(5):\n",
        "    print(\"Iteration \", i)\n",
        "    print(\"w = \", w.detach().numpy())\n",
        "    print(\"b = \", b.detach().numpy())\n",
        "\n",
        "    a = torch.sigmoid(w@x.T + b)\n",
        "\n",
        "    print(\"a = \", a)\n",
        "\n",
        "    loss = torch.square(a - y)\n",
        "    print(\"loss = \", loss.detach().numpy())\n",
        "\n",
        "    loss = torch.mean(loss)\n",
        "    print(\"mean loss = \", loss.detach().numpy())\n",
        "\n",
        "    loss.backward()\n",
        "\n",
        "    print(\"w_grad = \", w.grad)\n",
        "    print(\"b_grad = \", b.grad)\n",
        "\n",
        "    # Update w, b\n",
        "    optimizer.step()\n",
        "    optimizer.zero_grad()\n",
        "\n",
        "    print()"
      ],
      "metadata": {
        "colab": {
          "base_uri": "https://localhost:8080/"
        },
        "id": "olSqhLQ5M6Sg",
        "outputId": "e513ce11-e89b-40ad-f144-414efd780cf5"
      },
      "execution_count": 18,
      "outputs": [
        {
          "output_type": "stream",
          "name": "stdout",
          "text": [
            "Iteration  0\n",
            "w =  [[3.]]\n",
            "b =  [[1.]]\n",
            "a =  tensor([[0.7311, 0.9820]], grad_fn=<SigmoidBackward0>)\n",
            "loss =  [[0.07232948 0.96435106]]\n",
            "mean loss =  0.5183403\n",
            "w_grad =  tensor([[0.0173]])\n",
            "b_grad =  tensor([[-0.0355]])\n",
            "\n",
            "Iteration  1\n",
            "w =  [[2.8265495]]\n",
            "b =  [[1.3553203]]\n",
            "a =  tensor([[0.7950, 0.9850]], grad_fn=<SigmoidBackward0>)\n",
            "loss =  [[0.0420258  0.97014576]]\n",
            "mean loss =  0.50608575\n",
            "w_grad =  tensor([[0.0146]])\n",
            "b_grad =  tensor([[-0.0188]])\n",
            "\n",
            "Iteration  2\n",
            "w =  [[2.6806376]]\n",
            "b =  [[1.5435126]]\n",
            "a =  tensor([[0.8240, 0.9856]], grad_fn=<SigmoidBackward0>)\n",
            "loss =  [[0.03098487 0.97135484]]\n",
            "mean loss =  0.50116986\n",
            "w_grad =  tensor([[0.0140]])\n",
            "b_grad =  tensor([[-0.0115]])\n",
            "\n",
            "Iteration  3\n",
            "w =  [[2.5405037]]\n",
            "b =  [[1.6586862]]\n",
            "a =  tensor([[0.8401, 0.9852]], grad_fn=<SigmoidBackward0>)\n",
            "loss =  [[0.02558029 0.970647  ]]\n",
            "mean loss =  0.49811363\n",
            "w_grad =  tensor([[0.0144]])\n",
            "b_grad =  tensor([[-0.0071]])\n",
            "\n",
            "Iteration  4\n",
            "w =  [[2.3969855]]\n",
            "b =  [[1.7300582]]\n",
            "a =  tensor([[0.8494, 0.9841]], grad_fn=<SigmoidBackward0>)\n",
            "loss =  [[0.02267439 0.96850324]]\n",
            "mean loss =  0.4955888\n",
            "w_grad =  tensor([[0.0154]])\n",
            "b_grad =  tensor([[-0.0039]])\n",
            "\n"
          ]
        }
      ]
    },
    {
      "cell_type": "code",
      "source": [
        "import torch\n",
        "\n",
        "x = torch.tensor([[0], [1]], dtype=torch.float32)\n",
        "y = torch.tensor([1, 0], dtype=torch.float32)\n",
        "\n",
        "class NotGate(torch.nn.Module):\n",
        "    def __init__(self):\n",
        "        super().__init__()\n",
        "        self.w = torch.nn.Parameter(torch.tensor([[3.]]))\n",
        "        self.b = torch.nn.Parameter(torch.tensor([[1.]]))\n",
        "\n",
        "    def forward(self, x):\n",
        "        return torch.sigmoid(self.w@x.T + self.b)\n",
        "\n",
        "model = NotGate()\n",
        "optimizer = torch.optim.SGD(model.parameters(), lr=10)\n",
        "\n",
        "for i in range(5):\n",
        "    print(\"Iteration \", i)\n",
        "    print(\"w = \", model.w.detach().numpy())\n",
        "    print(\"b = \", model.b.detach().numpy())\n",
        "\n",
        "    model.train()\n",
        "    a = model(x)\n",
        "\n",
        "    print(\"a = \", a)\n",
        "\n",
        "    loss = torch.square(a - y)\n",
        "    print(\"loss = \", loss.detach().numpy())\n",
        "\n",
        "    loss = torch.mean(loss)\n",
        "    print(\"mean loss = \", loss.detach().numpy())\n",
        "\n",
        "    loss.backward()\n",
        "\n",
        "    print(\"w_grad = \", model.w.grad)\n",
        "    print(\"b_grad = \", model.b.grad)\n",
        "\n",
        "    # Update w, b\n",
        "    optimizer.step()\n",
        "    optimizer.zero_grad()\n",
        "\n",
        "    print()"
      ],
      "metadata": {
        "colab": {
          "base_uri": "https://localhost:8080/"
        },
        "id": "nBenIci-M8EN",
        "outputId": "2c5ca134-13d2-467d-92db-ac9778f79e0c"
      },
      "execution_count": 20,
      "outputs": [
        {
          "output_type": "stream",
          "name": "stdout",
          "text": [
            "Iteration  0\n",
            "w =  [[3.]]\n",
            "b =  [[1.]]\n",
            "a =  tensor([[0.7311, 0.9820]], grad_fn=<SigmoidBackward0>)\n",
            "loss =  [[0.07232948 0.96435106]]\n",
            "mean loss =  0.5183403\n",
            "w_grad =  tensor([[0.0173]])\n",
            "b_grad =  tensor([[-0.0355]])\n",
            "\n",
            "Iteration  1\n",
            "w =  [[2.8265495]]\n",
            "b =  [[1.3553203]]\n",
            "a =  tensor([[0.7950, 0.9850]], grad_fn=<SigmoidBackward0>)\n",
            "loss =  [[0.0420258  0.97014576]]\n",
            "mean loss =  0.50608575\n",
            "w_grad =  tensor([[0.0146]])\n",
            "b_grad =  tensor([[-0.0188]])\n",
            "\n",
            "Iteration  2\n",
            "w =  [[2.6806376]]\n",
            "b =  [[1.5435126]]\n",
            "a =  tensor([[0.8240, 0.9856]], grad_fn=<SigmoidBackward0>)\n",
            "loss =  [[0.03098487 0.97135484]]\n",
            "mean loss =  0.50116986\n",
            "w_grad =  tensor([[0.0140]])\n",
            "b_grad =  tensor([[-0.0115]])\n",
            "\n",
            "Iteration  3\n",
            "w =  [[2.5405037]]\n",
            "b =  [[1.6586862]]\n",
            "a =  tensor([[0.8401, 0.9852]], grad_fn=<SigmoidBackward0>)\n",
            "loss =  [[0.02558029 0.970647  ]]\n",
            "mean loss =  0.49811363\n",
            "w_grad =  tensor([[0.0144]])\n",
            "b_grad =  tensor([[-0.0071]])\n",
            "\n",
            "Iteration  4\n",
            "w =  [[2.3969855]]\n",
            "b =  [[1.7300582]]\n",
            "a =  tensor([[0.8494, 0.9841]], grad_fn=<SigmoidBackward0>)\n",
            "loss =  [[0.02267439 0.96850324]]\n",
            "mean loss =  0.4955888\n",
            "w_grad =  tensor([[0.0154]])\n",
            "b_grad =  tensor([[-0.0039]])\n",
            "\n"
          ]
        }
      ]
    },
    {
      "cell_type": "code",
      "source": [
        "from fastbook import *\n",
        "\n",
        "gv('''\n",
        "x -> NotGate -> y\n",
        "''')"
      ],
      "metadata": {
        "colab": {
          "base_uri": "https://localhost:8080/",
          "height": 80
        },
        "id": "mOZbI_WgNBTp",
        "outputId": "2f97e4fa-6af7-4ea7-d9b9-8797bd8f91d8"
      },
      "execution_count": 21,
      "outputs": [
        {
          "output_type": "execute_result",
          "data": {
            "image/svg+xml": "<?xml version=\"1.0\" encoding=\"UTF-8\" standalone=\"no\"?>\n<!DOCTYPE svg PUBLIC \"-//W3C//DTD SVG 1.1//EN\"\n \"http://www.w3.org/Graphics/SVG/1.1/DTD/svg11.dtd\">\n<!-- Generated by graphviz version 2.43.0 (0)\n -->\n<!-- Title: G Pages: 1 -->\n<svg width=\"269pt\" height=\"44pt\"\n viewBox=\"0.00 0.00 268.59 44.00\" xmlns=\"http://www.w3.org/2000/svg\" xmlns:xlink=\"http://www.w3.org/1999/xlink\">\n<g id=\"graph0\" class=\"graph\" transform=\"scale(1 1) rotate(0) translate(4 40)\">\n<title>G</title>\n<polygon fill=\"white\" stroke=\"transparent\" points=\"-4,4 -4,-40 264.59,-40 264.59,4 -4,4\"/>\n<!-- x -->\n<g id=\"node1\" class=\"node\">\n<title>x</title>\n<ellipse fill=\"none\" stroke=\"black\" cx=\"27\" cy=\"-18\" rx=\"27\" ry=\"18\"/>\n<text text-anchor=\"middle\" x=\"27\" y=\"-14.3\" font-family=\"Times,serif\" font-size=\"14.00\">x</text>\n</g>\n<!-- NotGate -->\n<g id=\"node2\" class=\"node\">\n<title>NotGate</title>\n<ellipse fill=\"none\" stroke=\"black\" cx=\"130.3\" cy=\"-18\" rx=\"40.09\" ry=\"18\"/>\n<text text-anchor=\"middle\" x=\"130.3\" y=\"-14.3\" font-family=\"Times,serif\" font-size=\"14.00\">NotGate</text>\n</g>\n<!-- x&#45;&gt;NotGate -->\n<g id=\"edge1\" class=\"edge\">\n<title>x&#45;&gt;NotGate</title>\n<path fill=\"none\" stroke=\"black\" d=\"M54.09,-18C61.92,-18 70.8,-18 79.63,-18\"/>\n<polygon fill=\"black\" stroke=\"black\" points=\"79.91,-21.5 89.91,-18 79.91,-14.5 79.91,-21.5\"/>\n</g>\n<!-- y -->\n<g id=\"node3\" class=\"node\">\n<title>y</title>\n<ellipse fill=\"none\" stroke=\"black\" cx=\"233.59\" cy=\"-18\" rx=\"27\" ry=\"18\"/>\n<text text-anchor=\"middle\" x=\"233.59\" y=\"-14.3\" font-family=\"Times,serif\" font-size=\"14.00\">y</text>\n</g>\n<!-- NotGate&#45;&gt;y -->\n<g id=\"edge2\" class=\"edge\">\n<title>NotGate&#45;&gt;y</title>\n<path fill=\"none\" stroke=\"black\" d=\"M170.75,-18C179.19,-18 188.06,-18 196.37,-18\"/>\n<polygon fill=\"black\" stroke=\"black\" points=\"196.51,-21.5 206.51,-18 196.51,-14.5 196.51,-21.5\"/>\n</g>\n</g>\n</svg>\n",
            "text/plain": [
              "<graphviz.sources.Source at 0x7eb433544760>"
            ]
          },
          "metadata": {},
          "execution_count": 21
        }
      ]
    },
    {
      "cell_type": "code",
      "source": [
        "import torch\n",
        "\n",
        "x = torch.tensor([[0], [1]], dtype=torch.float32)\n",
        "y = torch.tensor([1, 0], dtype=torch.float32)\n",
        "\n",
        "class NotGate(torch.nn.Module):\n",
        "    def __init__(self):\n",
        "        super().__init__()\n",
        "        self.linear = torch.nn.Linear(in_features=1, out_features=1)\n",
        "\n",
        "    def forward(self, x):\n",
        "        return torch.sigmoid(self.linear(x))\n",
        "\n",
        "model = NotGate()\n",
        "optimizer = torch.optim.SGD(model.parameters(), lr=10)\n",
        "\n",
        "for i in range(5):\n",
        "    print(\"Iteration \", i)\n",
        "    print(\"w = \", model.linear.weight.detach().numpy())\n",
        "    print(\"b = \", model.linear.bias.detach().numpy())\n",
        "\n",
        "    model.train()\n",
        "    a = model(x)\n",
        "\n",
        "    print(\"a = \", a)\n",
        "\n",
        "    loss = torch.square(a - y)\n",
        "    print(\"loss = \", loss.detach().numpy())\n",
        "\n",
        "    loss = torch.mean(loss)\n",
        "    print(\"mean loss = \", loss.detach().numpy())\n",
        "\n",
        "    loss.backward()\n",
        "\n",
        "    print(\"w_grad = \", model.linear.weight.grad)\n",
        "    print(\"b_grad = \", model.linear.bias.grad)\n",
        "\n",
        "    # Update w, b\n",
        "    optimizer.step()\n",
        "    optimizer.zero_grad()\n",
        "\n",
        "    print()"
      ],
      "metadata": {
        "colab": {
          "base_uri": "https://localhost:8080/"
        },
        "id": "p07poUlRNJiE",
        "outputId": "6b175d93-8307-432b-9dec-1c428b8cae6f"
      },
      "execution_count": 22,
      "outputs": [
        {
          "output_type": "stream",
          "name": "stdout",
          "text": [
            "Iteration  0\n",
            "w =  [[0.7645385]]\n",
            "b =  [0.8300079]\n",
            "a =  tensor([[0.6964],\n",
            "        [0.8313]], grad_fn=<SigmoidBackward0>)\n",
            "loss =  [[0.09219932 0.4849125 ]\n",
            " [0.02847493 0.6909846 ]]\n",
            "mean loss =  0.32414284\n",
            "w_grad =  tensor([[0.0465]])\n",
            "b_grad =  tensor([0.0880])\n",
            "\n",
            "Iteration  1\n",
            "w =  [[0.2998866]]\n",
            "b =  [-0.04982847]\n",
            "a =  tensor([[0.4875],\n",
            "        [0.5622]], grad_fn=<SigmoidBackward0>)\n",
            "loss =  [[0.26260963 0.23770061]\n",
            " [0.19167687 0.31605852]]\n",
            "mean loss =  0.25201142\n",
            "w_grad =  tensor([[0.0153]])\n",
            "b_grad =  tensor([0.0122])\n",
            "\n",
            "Iteration  2\n",
            "w =  [[0.1468149]]\n",
            "b =  [-0.17178324]\n",
            "a =  tensor([[0.4572],\n",
            "        [0.4938]], grad_fn=<SigmoidBackward0>)\n",
            "loss =  [[0.2946758  0.2089948 ]\n",
            " [0.2562807  0.24379723]]\n",
            "mean loss =  0.2509371\n",
            "w_grad =  tensor([[-0.0016]])\n",
            "b_grad =  tensor([-0.0122])\n",
            "\n",
            "Iteration  3\n",
            "w =  [[0.16241682]]\n",
            "b =  [-0.04986634]\n",
            "a =  tensor([[0.4875],\n",
            "        [0.5281]], grad_fn=<SigmoidBackward0>)\n",
            "loss =  [[0.2626194  0.23769131]\n",
            " [0.22268212 0.278898  ]]\n",
            "mean loss =  0.25047272\n",
            "w_grad =  tensor([[0.0070]])\n",
            "b_grad =  tensor([0.0039])\n",
            "\n",
            "Iteration  4\n",
            "w =  [[0.09236903]]\n",
            "b =  [-0.08877337]\n",
            "a =  tensor([[0.4778],\n",
            "        [0.5009]], grad_fn=<SigmoidBackward0>)\n",
            "loss =  [[0.27267066 0.2283131 ]\n",
            " [0.2491019  0.2508997 ]]\n",
            "mean loss =  0.25024635\n",
            "w_grad =  tensor([[0.0002]])\n",
            "b_grad =  tensor([-0.0053])\n",
            "\n"
          ]
        }
      ]
    },
    {
      "cell_type": "code",
      "source": [
        "from fastbook import *\n",
        "\n",
        "gv('''\n",
        "   x_0[label=3]\n",
        "   x_1[label=5]\n",
        "   a_0_0[label=\"b=8, ReLU\"]\n",
        "   a_0_1[label=\"b=-2, ReLU\"]\n",
        "   a_0_2[label=\"b=4, ReLU\"]\n",
        "   a_1_0[label=\"b=3, ReLU\"]\n",
        "   x_0 -> a_0_0 [label=-2]\n",
        "   x_0 -> a_0_1 [label=5]\n",
        "   x_0 -> a_0_2 [label=3]\n",
        "   x_1 -> a_0_0 [label=8]\n",
        "   x_1 -> a_0_1 [label=-2]\n",
        "   x_1 -> a_0_2 [label=4]\n",
        "   a_0_0 -> a_1_0 [label=3]\n",
        "   a_0_1 -> a_1_0 [label=2]\n",
        "   a_0_2 -> a_1_0 [label=8]\n",
        "\n",
        "   a_1_0 -> output\n",
        "   ''')"
      ],
      "metadata": {
        "colab": {
          "base_uri": "https://localhost:8080/",
          "height": 277
        },
        "id": "49zybZlDNL1t",
        "outputId": "c5dd3bb4-ff0e-4b18-d245-e0435a987757"
      },
      "execution_count": 23,
      "outputs": [
        {
          "output_type": "execute_result",
          "data": {
            "image/svg+xml": "<?xml version=\"1.0\" encoding=\"UTF-8\" standalone=\"no\"?>\n<!DOCTYPE svg PUBLIC \"-//W3C//DTD SVG 1.1//EN\"\n \"http://www.w3.org/Graphics/SVG/1.1/DTD/svg11.dtd\">\n<!-- Generated by graphviz version 2.43.0 (0)\n -->\n<!-- Title: G Pages: 1 -->\n<svg width=\"467pt\" height=\"192pt\"\n viewBox=\"0.00 0.00 466.88 192.11\" xmlns=\"http://www.w3.org/2000/svg\" xmlns:xlink=\"http://www.w3.org/1999/xlink\">\n<g id=\"graph0\" class=\"graph\" transform=\"scale(1 1) rotate(0) translate(4 188.11)\">\n<title>G</title>\n<polygon fill=\"white\" stroke=\"transparent\" points=\"-4,4 -4,-188.11 462.88,-188.11 462.88,4 -4,4\"/>\n<!-- x_0 -->\n<g id=\"node1\" class=\"node\">\n<title>x_0</title>\n<ellipse fill=\"none\" stroke=\"black\" cx=\"27\" cy=\"-152.11\" rx=\"27\" ry=\"18\"/>\n<text text-anchor=\"middle\" x=\"27\" y=\"-148.41\" font-family=\"Times,serif\" font-size=\"14.00\">3</text>\n</g>\n<!-- a_0_0 -->\n<g id=\"node3\" class=\"node\">\n<title>a_0_0</title>\n<ellipse fill=\"none\" stroke=\"black\" cx=\"155.95\" cy=\"-95.11\" rx=\"51.19\" ry=\"18\"/>\n<text text-anchor=\"middle\" x=\"155.95\" y=\"-91.41\" font-family=\"Times,serif\" font-size=\"14.00\">b=8, ReLU</text>\n</g>\n<!-- x_0&#45;&gt;a_0_0 -->\n<g id=\"edge1\" class=\"edge\">\n<title>x_0&#45;&gt;a_0_0</title>\n<path fill=\"none\" stroke=\"black\" d=\"M51.07,-143.55C61.24,-139.64 73.3,-134.84 84,-130.11 94.88,-125.3 106.52,-119.74 117.16,-114.48\"/>\n<polygon fill=\"black\" stroke=\"black\" points=\"118.82,-117.56 126.21,-109.97 115.7,-111.3 118.82,-117.56\"/>\n<text text-anchor=\"middle\" x=\"78\" y=\"-137.91\" font-family=\"Times,serif\" font-size=\"14.00\">&#45;2</text>\n</g>\n<!-- a_0_1 -->\n<g id=\"node4\" class=\"node\">\n<title>a_0_1</title>\n<ellipse fill=\"none\" stroke=\"black\" cx=\"155.95\" cy=\"-149.11\" rx=\"53.89\" ry=\"18\"/>\n<text text-anchor=\"middle\" x=\"155.95\" y=\"-145.41\" font-family=\"Times,serif\" font-size=\"14.00\">b=&#45;2, ReLU</text>\n</g>\n<!-- x_0&#45;&gt;a_0_1 -->\n<g id=\"edge2\" class=\"edge\">\n<title>x_0&#45;&gt;a_0_1</title>\n<path fill=\"none\" stroke=\"black\" d=\"M49.97,-161.8C56.88,-164.38 64.64,-166.81 72,-168.11 84.86,-170.37 98.72,-168.81 111.37,-165.79\"/>\n<polygon fill=\"black\" stroke=\"black\" points=\"112.48,-169.12 121.2,-163.11 110.64,-162.37 112.48,-169.12\"/>\n<text text-anchor=\"middle\" x=\"78\" y=\"-172.91\" font-family=\"Times,serif\" font-size=\"14.00\">5</text>\n</g>\n<!-- a_0_2 -->\n<g id=\"node5\" class=\"node\">\n<title>a_0_2</title>\n<ellipse fill=\"none\" stroke=\"black\" cx=\"155.95\" cy=\"-41.11\" rx=\"51.19\" ry=\"18\"/>\n<text text-anchor=\"middle\" x=\"155.95\" y=\"-37.41\" font-family=\"Times,serif\" font-size=\"14.00\">b=4, ReLU</text>\n</g>\n<!-- x_0&#45;&gt;a_0_2 -->\n<g id=\"edge3\" class=\"edge\">\n<title>x_0&#45;&gt;a_0_2</title>\n<path fill=\"none\" stroke=\"black\" d=\"M34.56,-134.5C41.57,-117.79 54.14,-92.92 72,-77.11 81.83,-68.4 94.09,-61.54 106.14,-56.25\"/>\n<polygon fill=\"black\" stroke=\"black\" points=\"107.78,-59.36 115.72,-52.34 105.13,-52.88 107.78,-59.36\"/>\n<text text-anchor=\"middle\" x=\"78\" y=\"-80.91\" font-family=\"Times,serif\" font-size=\"14.00\">3</text>\n</g>\n<!-- x_1 -->\n<g id=\"node2\" class=\"node\">\n<title>x_1</title>\n<ellipse fill=\"none\" stroke=\"black\" cx=\"27\" cy=\"-38.11\" rx=\"27\" ry=\"18\"/>\n<text text-anchor=\"middle\" x=\"27\" y=\"-34.41\" font-family=\"Times,serif\" font-size=\"14.00\">5</text>\n</g>\n<!-- x_1&#45;&gt;a_0_0 -->\n<g id=\"edge4\" class=\"edge\">\n<title>x_1&#45;&gt;a_0_0</title>\n<path fill=\"none\" stroke=\"black\" d=\"M53.35,-33.52C63.48,-32.93 74.87,-33.92 84,-39.11 97.19,-46.6 90.83,-57.84 102,-68.11 105.29,-71.14 108.99,-73.91 112.86,-76.44\"/>\n<polygon fill=\"black\" stroke=\"black\" points=\"111.12,-79.48 121.51,-81.56 114.69,-73.45 111.12,-79.48\"/>\n<text text-anchor=\"middle\" x=\"78\" y=\"-42.91\" font-family=\"Times,serif\" font-size=\"14.00\">8</text>\n</g>\n<!-- x_1&#45;&gt;a_0_1 -->\n<g id=\"edge5\" class=\"edge\">\n<title>x_1&#45;&gt;a_0_1</title>\n<path fill=\"none\" stroke=\"black\" d=\"M39.09,-54.59C52.25,-73.09 75.75,-103.03 102,-122.11 105.72,-124.81 109.74,-127.39 113.85,-129.8\"/>\n<polygon fill=\"black\" stroke=\"black\" points=\"112.47,-133.04 122.91,-134.82 115.86,-126.91 112.47,-133.04\"/>\n<text text-anchor=\"middle\" x=\"78\" y=\"-109.91\" font-family=\"Times,serif\" font-size=\"14.00\">&#45;2</text>\n</g>\n<!-- x_1&#45;&gt;a_0_2 -->\n<g id=\"edge6\" class=\"edge\">\n<title>x_1&#45;&gt;a_0_2</title>\n<path fill=\"none\" stroke=\"black\" d=\"M40.16,-22.05C50.77,-10.14 67.09,3.33 84,-1.11 98.06,-4.8 112.27,-11.98 124.24,-19.24\"/>\n<polygon fill=\"black\" stroke=\"black\" points=\"122.6,-22.35 132.91,-24.76 126.35,-16.44 122.6,-22.35\"/>\n<text text-anchor=\"middle\" x=\"78\" y=\"-4.91\" font-family=\"Times,serif\" font-size=\"14.00\">4</text>\n</g>\n<!-- a_1_0 -->\n<g id=\"node6\" class=\"node\">\n<title>a_1_0</title>\n<ellipse fill=\"none\" stroke=\"black\" cx=\"304.24\" cy=\"-95.11\" rx=\"51.19\" ry=\"18\"/>\n<text text-anchor=\"middle\" x=\"304.24\" y=\"-91.41\" font-family=\"Times,serif\" font-size=\"14.00\">b=3, ReLU</text>\n</g>\n<!-- a_0_0&#45;&gt;a_1_0 -->\n<g id=\"edge7\" class=\"edge\">\n<title>a_0_0&#45;&gt;a_1_0</title>\n<path fill=\"none\" stroke=\"black\" d=\"M207.7,-95.11C218.93,-95.11 230.95,-95.11 242.53,-95.11\"/>\n<polygon fill=\"black\" stroke=\"black\" points=\"242.57,-98.61 252.57,-95.11 242.57,-91.61 242.57,-98.61\"/>\n<text text-anchor=\"middle\" x=\"231.39\" y=\"-98.91\" font-family=\"Times,serif\" font-size=\"14.00\">3</text>\n</g>\n<!-- a_0_1&#45;&gt;a_1_0 -->\n<g id=\"edge8\" class=\"edge\">\n<title>a_0_1&#45;&gt;a_1_0</title>\n<path fill=\"none\" stroke=\"black\" d=\"M192.73,-135.9C212.68,-128.53 237.71,-119.3 258.89,-111.48\"/>\n<polygon fill=\"black\" stroke=\"black\" points=\"260.15,-114.74 268.32,-108 257.73,-108.18 260.15,-114.74\"/>\n<text text-anchor=\"middle\" x=\"231.39\" y=\"-125.91\" font-family=\"Times,serif\" font-size=\"14.00\">2</text>\n</g>\n<!-- a_0_2&#45;&gt;a_1_0 -->\n<g id=\"edge9\" class=\"edge\">\n<title>a_0_2&#45;&gt;a_1_0</title>\n<path fill=\"none\" stroke=\"black\" d=\"M191.99,-54.04C212,-61.43 237.29,-70.77 258.7,-78.67\"/>\n<polygon fill=\"black\" stroke=\"black\" points=\"257.63,-82.01 268.23,-82.19 260.06,-75.44 257.63,-82.01\"/>\n<text text-anchor=\"middle\" x=\"231.39\" y=\"-72.91\" font-family=\"Times,serif\" font-size=\"14.00\">8</text>\n</g>\n<!-- output -->\n<g id=\"node7\" class=\"node\">\n<title>output</title>\n<ellipse fill=\"none\" stroke=\"black\" cx=\"425.73\" cy=\"-95.11\" rx=\"33.29\" ry=\"18\"/>\n<text text-anchor=\"middle\" x=\"425.73\" y=\"-91.41\" font-family=\"Times,serif\" font-size=\"14.00\">output</text>\n</g>\n<!-- a_1_0&#45;&gt;output -->\n<g id=\"edge10\" class=\"edge\">\n<title>a_1_0&#45;&gt;output</title>\n<path fill=\"none\" stroke=\"black\" d=\"M355.91,-95.11C364.68,-95.11 373.72,-95.11 382.25,-95.11\"/>\n<polygon fill=\"black\" stroke=\"black\" points=\"382.35,-98.61 392.35,-95.11 382.35,-91.61 382.35,-98.61\"/>\n</g>\n</g>\n</svg>\n",
            "text/plain": [
              "<graphviz.sources.Source at 0x7eb433451360>"
            ]
          },
          "metadata": {},
          "execution_count": 23
        }
      ]
    },
    {
      "cell_type": "code",
      "source": [
        "class ComplexNetwork(torch.nn.Module):\n",
        "    def __init__(self):\n",
        "        super().__init__()\n",
        "        self.linear1 = torch.nn.Linear(in_features=2, out_features=3)\n",
        "        self.linear2 = torch.nn.Linear(in_features=3, out_features=1)\n",
        "\n",
        "    def forward(self, x):\n",
        "        x = torch.relu(self.linear1(x))\n",
        "        x = torch.relu(self.linear2(x))\n",
        "        return x\n",
        "\n",
        "model = ComplexNetwork()\n",
        "optimizer = torch.optim.SGD(model.parameters(), lr=0.1)\n",
        "\n",
        "x = torch.tensor([[3, 5]], dtype=torch.float32)\n",
        "y = torch.tensor([[10]], dtype=torch.float32)\n",
        "\n",
        "for i in range(5):\n",
        "    model.train()\n",
        "    y_hat = model(x)\n",
        "\n",
        "    loss = torch.square(y_hat - y)\n",
        "    loss = torch.mean(loss)\n",
        "\n",
        "    loss.backward()\n",
        "\n",
        "    optimizer.step()\n",
        "    optimizer.zero_grad()\n",
        "\n",
        "    print(\"Iteration \", i)\n",
        "    print(\"w1 = \", model.linear1.weight.detach().numpy())\n",
        "    print(\"b1 = \", model.linear1.bias.detach().numpy())\n",
        "    print(\"w2 = \", model.linear2.weight.detach().numpy())\n",
        "    print(\"b2 = \", model.linear2.bias.detach().numpy())\n",
        "\n",
        "    print(\"loss = \", loss.detach().numpy())\n"
      ],
      "metadata": {
        "colab": {
          "base_uri": "https://localhost:8080/"
        },
        "id": "_pDNvAgLNO71",
        "outputId": "a1785e59-8b52-4928-8d7b-4a5c287df934"
      },
      "execution_count": 24,
      "outputs": [
        {
          "output_type": "stream",
          "name": "stdout",
          "text": [
            "Iteration  0\n",
            "w1 =  [[ 0.4325895   1.6466315 ]\n",
            " [-0.15492962  0.14268756]\n",
            " [ 0.08863842  1.1367664 ]]\n",
            "b1 =  [ 0.82276    -0.5187534   0.75891346]\n",
            "w2 =  [[6.3349686 0.4265515 3.1383448]]\n",
            "b2 =  [2.123862]\n",
            "loss =  85.14404\n",
            "Iteration  1\n",
            "w1 =  [[-2.9896396e+02 -4.9734763e+02]\n",
            " [-1.5492962e-01  1.4268756e-01]\n",
            " [-1.4823248e+02 -2.4606509e+02]]\n",
            "b1 =  [-98.97609    -0.5187534 -48.681458 ]\n",
            "w2 =  [[-156.77332      0.4265515 -102.54752  ]]\n",
            "b2 =  [-13.629784]\n",
            "loss =  6204.4336\n",
            "Iteration  2\n",
            "w1 =  [[-2.9896396e+02 -4.9734763e+02]\n",
            " [-1.5492962e-01  1.4268756e-01]\n",
            " [-1.4823248e+02 -2.4606509e+02]]\n",
            "b1 =  [-98.97609    -0.5187534 -48.681458 ]\n",
            "w2 =  [[-156.77332      0.4265515 -102.54752  ]]\n",
            "b2 =  [-13.629784]\n",
            "loss =  100.0\n",
            "Iteration  3\n",
            "w1 =  [[-2.9896396e+02 -4.9734763e+02]\n",
            " [-1.5492962e-01  1.4268756e-01]\n",
            " [-1.4823248e+02 -2.4606509e+02]]\n",
            "b1 =  [-98.97609    -0.5187534 -48.681458 ]\n",
            "w2 =  [[-156.77332      0.4265515 -102.54752  ]]\n",
            "b2 =  [-13.629784]\n",
            "loss =  100.0\n",
            "Iteration  4\n",
            "w1 =  [[-2.9896396e+02 -4.9734763e+02]\n",
            " [-1.5492962e-01  1.4268756e-01]\n",
            " [-1.4823248e+02 -2.4606509e+02]]\n",
            "b1 =  [-98.97609    -0.5187534 -48.681458 ]\n",
            "w2 =  [[-156.77332      0.4265515 -102.54752  ]]\n",
            "b2 =  [-13.629784]\n",
            "loss =  100.0\n"
          ]
        }
      ]
    },
    {
      "cell_type": "code",
      "source": [],
      "metadata": {
        "id": "GFmJm-LINRHl"
      },
      "execution_count": null,
      "outputs": []
    }
  ]
}