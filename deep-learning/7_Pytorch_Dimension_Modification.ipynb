{
  "nbformat": 4,
  "nbformat_minor": 0,
  "metadata": {
    "colab": {
      "provenance": []
    },
    "kernelspec": {
      "name": "python3",
      "display_name": "Python 3"
    },
    "language_info": {
      "name": "python"
    }
  },
  "cells": [
    {
      "cell_type": "code",
      "execution_count": 1,
      "metadata": {
        "colab": {
          "base_uri": "https://localhost:8080/"
        },
        "id": "C4ftDApuQAgd",
        "outputId": "0115f2bc-7c02-4bee-b07d-b9e31e3d63ba"
      },
      "outputs": [
        {
          "output_type": "stream",
          "name": "stdout",
          "text": [
            "torch.Size([4])\n",
            "tensor([1, 2, 3, 4])\n",
            "\n",
            "torch.Size([1, 4])\n",
            "tensor([[1, 2, 3, 4]])\n",
            "\n",
            "torch.Size([1, 1, 4])\n",
            "tensor([[[1, 2, 3, 4]]])\n",
            "\n"
          ]
        }
      ],
      "source": [
        "# Unsqueeze demo\n",
        "import torch\n",
        "\n",
        "# Unsqueeze\n",
        "x = torch.tensor([1, 2, 3, 4])\n",
        "print(x.shape)\n",
        "print(x)\n",
        "print()\n",
        "\n",
        "x = x.unsqueeze(0)\n",
        "print(x.shape)\n",
        "print(x)\n",
        "print()\n",
        "\n",
        "x = x.unsqueeze(1)\n",
        "print(x.shape)\n",
        "print(x)\n",
        "print()"
      ]
    },
    {
      "cell_type": "code",
      "source": [
        "import torch\n",
        "\n",
        "# Unsqueeze\n",
        "x = torch.tensor([1, 2, 3, 4])\n",
        "print(x.shape)\n",
        "print(x)\n",
        "print()\n",
        "\n",
        "x = x.unsqueeze(0)\n",
        "print(x.shape)\n",
        "print(x)\n",
        "print()\n",
        "\n",
        "x = x.unsqueeze(2)\n",
        "print(x.shape)\n",
        "print(x)\n",
        "print()"
      ],
      "metadata": {
        "colab": {
          "base_uri": "https://localhost:8080/"
        },
        "id": "w4EpZpUmQTQj",
        "outputId": "f16e140b-fd85-48fe-c54d-b2f67a59c79f"
      },
      "execution_count": 2,
      "outputs": [
        {
          "output_type": "stream",
          "name": "stdout",
          "text": [
            "torch.Size([4])\n",
            "tensor([1, 2, 3, 4])\n",
            "\n",
            "torch.Size([1, 4])\n",
            "tensor([[1, 2, 3, 4]])\n",
            "\n",
            "torch.Size([1, 4, 1])\n",
            "tensor([[[1],\n",
            "         [2],\n",
            "         [3],\n",
            "         [4]]])\n",
            "\n"
          ]
        }
      ]
    },
    {
      "cell_type": "code",
      "source": [
        "# Squeeze demo\n",
        "import torch\n",
        "\n",
        "x = torch.tensor([[[1, 2, 3, 4]]])\n",
        "\n",
        "print(x.shape)\n",
        "print(x)\n",
        "print()\n",
        "\n",
        "x = x.squeeze(0)\n",
        "print(x.shape)\n",
        "print(x)\n",
        "print()"
      ],
      "metadata": {
        "colab": {
          "base_uri": "https://localhost:8080/"
        },
        "id": "HJ2JUcb9QZjB",
        "outputId": "ca434bb3-57cd-441f-b467-dcee9fa1dd9f"
      },
      "execution_count": 3,
      "outputs": [
        {
          "output_type": "stream",
          "name": "stdout",
          "text": [
            "torch.Size([1, 1, 4])\n",
            "tensor([[[1, 2, 3, 4]]])\n",
            "\n",
            "torch.Size([1, 4])\n",
            "tensor([[1, 2, 3, 4]])\n",
            "\n"
          ]
        }
      ]
    },
    {
      "cell_type": "code",
      "source": [
        "import torch\n",
        "\n",
        "x = torch.tensor([[[1, 2, 3, 4]]])\n",
        "\n",
        "print(x.shape)\n",
        "print(x)\n",
        "print()\n",
        "\n",
        "x = x.squeeze()\n",
        "print(x.shape)\n",
        "print(x)\n",
        "print()"
      ],
      "metadata": {
        "colab": {
          "base_uri": "https://localhost:8080/"
        },
        "id": "zc0jwf1yQZ2Z",
        "outputId": "3cc83608-635d-4654-b233-dabbf6c29e0c"
      },
      "execution_count": 4,
      "outputs": [
        {
          "output_type": "stream",
          "name": "stdout",
          "text": [
            "torch.Size([1, 1, 4])\n",
            "tensor([[[1, 2, 3, 4]]])\n",
            "\n",
            "torch.Size([4])\n",
            "tensor([1, 2, 3, 4])\n",
            "\n"
          ]
        }
      ]
    },
    {
      "cell_type": "code",
      "source": [
        "import torch\n",
        "\n",
        "x = torch.ones(2, 1, 2)\n",
        "\n",
        "print(x.shape)\n",
        "print(x)\n",
        "print()\n",
        "\n",
        "x = x.squeeze(1)\n",
        "\n",
        "print(x.shape)\n",
        "print(x)\n",
        "print()"
      ],
      "metadata": {
        "colab": {
          "base_uri": "https://localhost:8080/"
        },
        "id": "53WFFg-xQb4y",
        "outputId": "edadcee1-6d82-4bbe-f7b3-cb2bf8751752"
      },
      "execution_count": 5,
      "outputs": [
        {
          "output_type": "stream",
          "name": "stdout",
          "text": [
            "torch.Size([2, 1, 2])\n",
            "tensor([[[1., 1.]],\n",
            "\n",
            "        [[1., 1.]]])\n",
            "\n",
            "torch.Size([2, 2])\n",
            "tensor([[1., 1.],\n",
            "        [1., 1.]])\n",
            "\n"
          ]
        }
      ]
    },
    {
      "cell_type": "code",
      "source": [
        "import torch\n",
        "\n",
        "x = torch.ones(2, 1, 2)\n",
        "\n",
        "print(x.shape)\n",
        "print(x)\n",
        "print()\n",
        "\n",
        "x = x.squeeze(2)\n",
        "\n",
        "print(x.shape)\n",
        "print(x)\n",
        "print()"
      ],
      "metadata": {
        "colab": {
          "base_uri": "https://localhost:8080/"
        },
        "id": "GDJsgzkgQePd",
        "outputId": "1060bdbc-3248-43fe-98fa-ed881ce22f9d"
      },
      "execution_count": 6,
      "outputs": [
        {
          "output_type": "stream",
          "name": "stdout",
          "text": [
            "torch.Size([2, 1, 2])\n",
            "tensor([[[1., 1.]],\n",
            "\n",
            "        [[1., 1.]]])\n",
            "\n",
            "torch.Size([2, 1, 2])\n",
            "tensor([[[1., 1.]],\n",
            "\n",
            "        [[1., 1.]]])\n",
            "\n"
          ]
        }
      ]
    },
    {
      "cell_type": "code",
      "source": [
        "## Reshape demo\n",
        "import torch\n",
        "\n",
        "x = torch.tensor([[1, 2, 3, 4], [5, 6, 7, 8]])\n",
        "print(x.shape)\n",
        "print(x)\n",
        "print()\n",
        "\n",
        "x = x.reshape(4, 2)\n",
        "print(x.shape)\n",
        "print(x)\n",
        "print()"
      ],
      "metadata": {
        "colab": {
          "base_uri": "https://localhost:8080/"
        },
        "id": "rv7OP-uqQnX-",
        "outputId": "13c3dba2-5a81-41fb-b10a-a868c46b4e97"
      },
      "execution_count": 7,
      "outputs": [
        {
          "output_type": "stream",
          "name": "stdout",
          "text": [
            "torch.Size([2, 4])\n",
            "tensor([[1, 2, 3, 4],\n",
            "        [5, 6, 7, 8]])\n",
            "\n",
            "torch.Size([4, 2])\n",
            "tensor([[1, 2],\n",
            "        [3, 4],\n",
            "        [5, 6],\n",
            "        [7, 8]])\n",
            "\n"
          ]
        }
      ]
    },
    {
      "cell_type": "code",
      "source": [
        "import torch\n",
        "\n",
        "x = torch.tensor([[1, 2, 3, 4], [5, 6, 7, 8]])\n",
        "\n",
        "x = x.reshape(2, 2, 2)\n",
        "print(x.shape)\n",
        "print(x)\n",
        "print()\n",
        "\n",
        "x = x.reshape(2, 2, 2, 1)\n",
        "print(x.shape)\n",
        "print(x)\n",
        "print()\n",
        "\n",
        "x = x.reshape(8, 1)\n",
        "print(x.shape)\n",
        "print(x)\n",
        "print()"
      ],
      "metadata": {
        "colab": {
          "base_uri": "https://localhost:8080/"
        },
        "id": "YnfRLKjQQo2m",
        "outputId": "43e3b774-628f-46e1-fac4-570042b48bc6"
      },
      "execution_count": 8,
      "outputs": [
        {
          "output_type": "stream",
          "name": "stdout",
          "text": [
            "torch.Size([2, 2, 2])\n",
            "tensor([[[1, 2],\n",
            "         [3, 4]],\n",
            "\n",
            "        [[5, 6],\n",
            "         [7, 8]]])\n",
            "\n",
            "torch.Size([2, 2, 2, 1])\n",
            "tensor([[[[1],\n",
            "          [2]],\n",
            "\n",
            "         [[3],\n",
            "          [4]]],\n",
            "\n",
            "\n",
            "        [[[5],\n",
            "          [6]],\n",
            "\n",
            "         [[7],\n",
            "          [8]]]])\n",
            "\n",
            "torch.Size([8, 1])\n",
            "tensor([[1],\n",
            "        [2],\n",
            "        [3],\n",
            "        [4],\n",
            "        [5],\n",
            "        [6],\n",
            "        [7],\n",
            "        [8]])\n",
            "\n"
          ]
        }
      ]
    },
    {
      "cell_type": "code",
      "source": [
        "# Flatten demo\n",
        "\n",
        "import torch\n",
        "\n",
        "x = torch.tensor([[1, 2, 3, 4], [5, 6, 7, 8]])\n",
        "x = x.flatten()\n",
        "print(x.shape)\n",
        "print(x)\n",
        "print()"
      ],
      "metadata": {
        "colab": {
          "base_uri": "https://localhost:8080/"
        },
        "id": "S82BDCnkQrg1",
        "outputId": "aa8cacb1-c918-4db5-cecf-ef2eaaf3c78a"
      },
      "execution_count": 9,
      "outputs": [
        {
          "output_type": "stream",
          "name": "stdout",
          "text": [
            "torch.Size([8])\n",
            "tensor([1, 2, 3, 4, 5, 6, 7, 8])\n",
            "\n"
          ]
        }
      ]
    },
    {
      "cell_type": "code",
      "source": [
        "# Multi-dimension tensor\n",
        "\n",
        "import torch\n",
        "x = torch.ones(2, 2, 2, 2)\n",
        "print(x.shape)\n",
        "print(x)\n",
        "print()\n",
        "\n",
        "x = x.flatten()\n",
        "print(x.shape)\n",
        "print(x)\n",
        "print()"
      ],
      "metadata": {
        "colab": {
          "base_uri": "https://localhost:8080/"
        },
        "id": "rZ0Z0F2VQvAv",
        "outputId": "8357af39-69b9-4d04-d46b-12d080a01a7d"
      },
      "execution_count": 10,
      "outputs": [
        {
          "output_type": "stream",
          "name": "stdout",
          "text": [
            "torch.Size([2, 2, 2, 2])\n",
            "tensor([[[[1., 1.],\n",
            "          [1., 1.]],\n",
            "\n",
            "         [[1., 1.],\n",
            "          [1., 1.]]],\n",
            "\n",
            "\n",
            "        [[[1., 1.],\n",
            "          [1., 1.]],\n",
            "\n",
            "         [[1., 1.],\n",
            "          [1., 1.]]]])\n",
            "\n",
            "torch.Size([16])\n",
            "tensor([1., 1., 1., 1., 1., 1., 1., 1., 1., 1., 1., 1., 1., 1., 1., 1.])\n",
            "\n"
          ]
        }
      ]
    },
    {
      "cell_type": "code",
      "source": [
        "# Permute demo\n",
        "\n",
        "import torch\n",
        "\n",
        "x = torch.ones(2, 3, 4)\n",
        "print(x.shape)\n",
        "print(x)\n",
        "print()\n",
        "\n",
        "x = x.permute(2, 0, 1)\n",
        "print(x.shape)\n",
        "print(x)\n",
        "print()"
      ],
      "metadata": {
        "colab": {
          "base_uri": "https://localhost:8080/"
        },
        "id": "Z8pobUAlQxx8",
        "outputId": "ea527cc9-ef44-42f6-a070-e9ff60352fef"
      },
      "execution_count": 11,
      "outputs": [
        {
          "output_type": "stream",
          "name": "stdout",
          "text": [
            "torch.Size([2, 3, 4])\n",
            "tensor([[[1., 1., 1., 1.],\n",
            "         [1., 1., 1., 1.],\n",
            "         [1., 1., 1., 1.]],\n",
            "\n",
            "        [[1., 1., 1., 1.],\n",
            "         [1., 1., 1., 1.],\n",
            "         [1., 1., 1., 1.]]])\n",
            "\n",
            "torch.Size([4, 2, 3])\n",
            "tensor([[[1., 1., 1.],\n",
            "         [1., 1., 1.]],\n",
            "\n",
            "        [[1., 1., 1.],\n",
            "         [1., 1., 1.]],\n",
            "\n",
            "        [[1., 1., 1.],\n",
            "         [1., 1., 1.]],\n",
            "\n",
            "        [[1., 1., 1.],\n",
            "         [1., 1., 1.]]])\n",
            "\n"
          ]
        }
      ]
    },
    {
      "cell_type": "code",
      "source": [],
      "metadata": {
        "id": "lQo84s9mQ0dw"
      },
      "execution_count": null,
      "outputs": []
    }
  ]
}