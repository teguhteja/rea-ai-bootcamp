{
 "cells": [
  {
   "cell_type": "code",
   "execution_count": 1,
   "metadata": {},
   "outputs": [
    {
     "name": "stdout",
     "output_type": "stream",
     "text": [
      "Requirement already satisfied: rggrader in /home/teguhteja/miniconda3/lib/python3.12/site-packages (0.1.6)\n",
      "Requirement already satisfied: requests in /home/teguhteja/miniconda3/lib/python3.12/site-packages (from rggrader) (2.32.3)\n",
      "Requirement already satisfied: pandas in /home/teguhteja/miniconda3/lib/python3.12/site-packages (from rggrader) (2.2.2)\n",
      "Requirement already satisfied: Pillow in /home/teguhteja/miniconda3/lib/python3.12/site-packages (from rggrader) (10.3.0)\n",
      "Requirement already satisfied: numpy>=1.26.0 in /home/teguhteja/miniconda3/lib/python3.12/site-packages (from pandas->rggrader) (1.26.4)\n",
      "Requirement already satisfied: python-dateutil>=2.8.2 in /home/teguhteja/miniconda3/lib/python3.12/site-packages (from pandas->rggrader) (2.9.0)\n",
      "Requirement already satisfied: pytz>=2020.1 in /home/teguhteja/miniconda3/lib/python3.12/site-packages (from pandas->rggrader) (2024.1)\n",
      "Requirement already satisfied: tzdata>=2022.7 in /home/teguhteja/miniconda3/lib/python3.12/site-packages (from pandas->rggrader) (2024.1)\n",
      "Requirement already satisfied: charset-normalizer<4,>=2 in /home/teguhteja/miniconda3/lib/python3.12/site-packages (from requests->rggrader) (2.0.4)\n",
      "Requirement already satisfied: idna<4,>=2.5 in /home/teguhteja/miniconda3/lib/python3.12/site-packages (from requests->rggrader) (3.7)\n",
      "Requirement already satisfied: urllib3<3,>=1.21.1 in /home/teguhteja/miniconda3/lib/python3.12/site-packages (from requests->rggrader) (2.1.0)\n",
      "Requirement already satisfied: certifi>=2017.4.17 in /home/teguhteja/miniconda3/lib/python3.12/site-packages (from requests->rggrader) (2024.2.2)\n",
      "Requirement already satisfied: six>=1.5 in /home/teguhteja/miniconda3/lib/python3.12/site-packages (from python-dateutil>=2.8.2->pandas->rggrader) (1.16.0)\n",
      "Note: you may need to restart the kernel to use updated packages.\n"
     ]
    }
   ],
   "source": [
    "%pip install rggrader"
   ]
  },
  {
   "cell_type": "code",
   "execution_count": 2,
   "metadata": {},
   "outputs": [],
   "source": [
    "from rggrader import submit\n",
    "\n",
    "# @title #### Student Identity\n",
    "student_id = \"REA6UCWBO\" # @param {type:\"string\"}\n",
    "name = \"Ida Bagus Teguh Teja Murti\" # @param {type:\"string\"}"
   ]
  },
  {
   "cell_type": "markdown",
   "metadata": {},
   "source": [
    "To deduce the transformation matrix for a 180-degree rotation, consider how points on the Cartesian plane are transformed:\n",
    "\n",
    "- A 180-degree rotation flips the coordinates across the origin, which means:\n",
    "  - \\( x \\to -x \\)\n",
    "  - \\( y \\to -y \\)\n",
    "\n",
    "Thus, the transformation matrix is:\n",
    "\n",
    "\n",
    "\\begin{bmatrix}\n",
    "-1 & 0 \\\\\n",
    "0 & -1\n",
    "\\end{bmatrix}\n",
    "\n",
    "\n",
    "This can be implemented in Python as follows:\n",
    "\n",
    "```python\n",
    "# Required data\n",
    "assignment_id = \"14_linear-algebra\"\n",
    "question_id = \"01_180_rotation_matrix\"\n",
    "\n",
    "# Transformation matrix for 180 degrees rotation\n",
    "matrix = [[-1, 0], [0, -1]]\n",
    "\n",
    "# Simulated submission function\n",
    "def submit(student_id, name, assignment_id, matrix_str, question_id):\n",
    "    print(f\"Submission Details:\")\n",
    "    print(f\"Student ID: {student_id}\")\n",
    "    print(f\"Name: {name}\")\n",
    "    print(f\"Assignment ID: {assignment_id}\")\n",
    "    print(f\"Question ID: {question_id}\")\n",
    "    print(f\"Matrix: {matrix_str}\")\n",
    "\n",
    "# Example usage\n",
    "student_id = \"12345\"\n",
    "name = \"John Doe\"\n",
    "matrix_str = str(matrix)\n",
    "submit(student_id, name, assignment_id, matrix_str, question_id)\n",
    "```\n",
    "\n",
    "### Explanation\n",
    "1. **Matrix Definition**: The transformation matrix for a 180-degree rotation is \\([[-1, 0], [0, -1]]\\).\n",
    "2. **Submit Function**: Simulates a function that accepts assignment details and submits them for evaluation.\n",
    "3. **Submission**: Converts the matrix to a string using `str(matrix)` before passing it to the submission function.\n",
    "\n",
    "This implementation is a straightforward solution for deducing and submitting the transformation matrix for a 180-degree rotation."
   ]
  },
  {
   "cell_type": "code",
   "execution_count": 3,
   "metadata": {},
   "outputs": [
    {
     "data": {
      "text/plain": [
       "'Assignment successfully submitted'"
      ]
     },
     "execution_count": 3,
     "metadata": {},
     "output_type": "execute_result"
    }
   ],
   "source": [
    "assignment_id = \"14_linear-algebra\"\n",
    "question_id = \"01_180_rotation_matrix\"\n",
    "matrix = [[-1, 0], [0, -1]]\n",
    "submit(student_id, name, assignment_id, str(matrix), question_id)"
   ]
  },
  {
   "cell_type": "markdown",
   "metadata": {},
   "source": [
    "To deduce the transformation matrix for a 90-degree clockwise rotation, observe how the coordinates transform under this rotation:\n",
    "\n",
    "- A 90-degree clockwise rotation swaps the coordinates \\( (x, y) \\to (y, -x) \\).  \n",
    "- The corresponding transformation matrix is:\n",
    "\n",
    "\\[\n",
    "\\begin{bmatrix}\n",
    "0 & 1 \\\\\n",
    "-1 & 0\n",
    "\\end{bmatrix}\n",
    "\\]\n",
    "\n",
    "Here’s the corrected implementation in Python:\n",
    "\n",
    "```python\n",
    "# Required data\n",
    "assignment_id = \"14_linear-algebra\"\n",
    "question_id = \"02_90_rotation_matrix\"\n",
    "\n",
    "# Transformation matrix for 90 degrees clockwise rotation\n",
    "matrix = [[0, 1], [-1, 0]]\n",
    "\n",
    "# Simulated submission function\n",
    "def submit(student_id, name, assignment_id, matrix_str, question_id):\n",
    "    print(f\"Submission Details:\")\n",
    "    print(f\"Student ID: {student_id}\")\n",
    "    print(f\"Name: {name}\")\n",
    "    print(f\"Assignment ID: {assignment_id}\")\n",
    "    print(f\"Question ID: {question_id}\")\n",
    "    print(f\"Matrix: {matrix_str}\")\n",
    "\n",
    "# Example usage\n",
    "student_id = \"12345\"\n",
    "name = \"Jane Doe\"\n",
    "matrix_str = str(matrix)\n",
    "submit(student_id, name, assignment_id, matrix_str, question_id)\n",
    "```\n",
    "\n",
    "### Explanation\n",
    "1. **Matrix Definition**: The transformation matrix for a 90-degree clockwise rotation is:\n",
    "   \\[\n",
    "   \\begin{bmatrix}\n",
    "   0 & 1 \\\\\n",
    "   -1 & 0\n",
    "   \\end{bmatrix}\n",
    "   \\]\n",
    "   It represents the new positions of the basis vectors after rotation.\n",
    "   \n",
    "2. **Matrix Assignment**: Replace the placeholder `matrix = [[0, 0], [0, 0]]` with the correct matrix.\n",
    "\n",
    "3. **Submit Function**: Ensure `matrix` is converted to a string using `str(matrix)` before submission.\n",
    "\n",
    "### Output Example\n",
    "When you run the code, it will print:\n",
    "```\n",
    "Submission Details:\n",
    "Student ID: 12345\n",
    "Name: Jane Doe\n",
    "Assignment ID: 14_linear-algebra\n",
    "Question ID: 02_90_rotation_matrix\n",
    "Matrix: [[0, 1], [-1, 0]]\n",
    "``` \n",
    "\n",
    "This ensures the transformation matrix is correctly deduced and submitted."
   ]
  },
  {
   "cell_type": "code",
   "execution_count": 4,
   "metadata": {},
   "outputs": [
    {
     "data": {
      "text/plain": [
       "'Assignment successfully submitted'"
      ]
     },
     "execution_count": 4,
     "metadata": {},
     "output_type": "execute_result"
    }
   ],
   "source": [
    "assignment_id = \"14_linear-algebra\"\n",
    "question_id = \"02_90_rotation_matrix\"\n",
    "matrix = [[0, 1], [-1, 0]]\n",
    "submit(student_id, name, assignment_id, str(matrix), question_id)"
   ]
  },
  {
   "cell_type": "code",
   "execution_count": null,
   "metadata": {},
   "outputs": [],
   "source": []
  }
 ],
 "metadata": {
  "kernelspec": {
   "display_name": "base",
   "language": "python",
   "name": "python3"
  },
  "language_info": {
   "codemirror_mode": {
    "name": "ipython",
    "version": 3
   },
   "file_extension": ".py",
   "mimetype": "text/x-python",
   "name": "python",
   "nbconvert_exporter": "python",
   "pygments_lexer": "ipython3",
   "version": "3.12.2"
  }
 },
 "nbformat": 4,
 "nbformat_minor": 2
}
