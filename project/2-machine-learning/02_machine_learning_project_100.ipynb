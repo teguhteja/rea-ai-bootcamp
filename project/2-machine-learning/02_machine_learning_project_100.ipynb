{
  "cells": [
    {
      "cell_type": "markdown",
      "id": "3ccb0b85-67c6-4dfe-a6f9-138bb5e778ab",
      "metadata": {
        "id": "3ccb0b85-67c6-4dfe-a6f9-138bb5e778ab"
      },
      "source": [
        "# Project: Machine Learning"
      ]
    },
    {
      "cell_type": "markdown",
      "id": "911a145c-7d01-4210-9699-0e1fef80ff19",
      "metadata": {
        "id": "911a145c-7d01-4210-9699-0e1fef80ff19"
      },
      "source": [
        "**Instructions for Students:**\n",
        "\n",
        "Please carefully follow these steps to complete and submit your project:\n",
        "\n",
        "1. **Make a copy of the Project**: Please make a copy of this project either to your own Google Drive or download locally. Work on the copy of the project. The master project is **Read-Only**, meaning you can edit, but it will not be saved when you close the master project. To avoid total loss of your work, remember to make a copy.\n",
        "\n",
        "2. **Completing the Project**: You are required to work on and complete all tasks in the provided project. Be disciplined and ensure that you thoroughly engage with each task.\n",
        "   \n",
        "3. **Creating a Google Drive Folder**: Each of you must create a new folder on your Google Drive. This will be the repository for all your completed project files, aiding you in keeping your work organized and accessible.\n",
        "   \n",
        "4. **Uploading Completed Project**: Upon completion of your project, make sure to upload all necessary files, involving codes, reports, and related documents into the created Google Drive folder. Save this link in the 'Student Identity' section and also provide it as the last parameter in the `submit` function that has been provided.\n",
        "   \n",
        "5. **Sharing Folder Link**: You're required to share the link to your project Google Drive folder. This is crucial for the submission and evaluation of your project.\n",
        "   \n",
        "6. **Setting Permission to Public**: Please make sure your Google Drive folder is set to public. This allows your instructor to access your solutions and assess your work correctly.\n",
        "\n",
        "Adhering to these procedures will facilitate a smooth project evaluation process for you and the reviewers."
      ]
    },
    {
      "cell_type": "markdown",
      "id": "d3b9e0f7-75d2-476a-9b29-07c1a3800925",
      "metadata": {
        "id": "d3b9e0f7-75d2-476a-9b29-07c1a3800925"
      },
      "source": [
        "## Project Description\n",
        "\n",
        "In this Machine Learning Project, you will create your own supervised Machine Learning (ML) model. We will use the full FIFA21 Dataset and we will identify players that are above average.\n",
        "\n",
        "We will use the column \"Overall\" with a treshold of 75 to define players that are 'Valuable'. This will become our target output which we need for a supervised ML model. Because we use the \"Overall\" as our target output, you cannot use \"Overall\" in your features, this will be explained further below.\n",
        "\n",
        "This project will provide a comprehensive overview of your abilities in machine learning, from understanding the problem, choosing the right model, training, and optimizing it."
      ]
    },
    {
      "cell_type": "markdown",
      "id": "84fea308-2c09-472c-a5ec-e4ba0900d496",
      "metadata": {
        "id": "84fea308-2c09-472c-a5ec-e4ba0900d496"
      },
      "source": [
        "## Grading Criteria\n",
        "\n",
        "Your score will be awarded based on the following criteria:\n",
        "* 100: The model has an accuracy of more than 90% and an F1 score of more than 80%. This model is excellent and demonstrates a strong understanding of the task.\n",
        "* 90: The model has an accuracy of more than 85% and an F1 score of more than 75%. This model is very good, with some room for improvement.\n",
        "* 80: The model has an accuracy of more than 80% and an F1 score between 70% and 75%. This model is fairly good but needs improvement in balancing precision and recall.\n",
        "* 70: The model has an accuracy of more than 70% and an F1 score between 60% and 70%. This model is below average and needs significant improvement.\n",
        "* 60 or below: The model has an accuracy of less than 70% or an F1 score of less than 60%, or the student did not submit the accuracy and F1 score. This model is poor and needs considerable improvement."
      ]
    },
    {
      "cell_type": "markdown",
      "id": "915df21b-3a7e-444a-999d-c830acdbe7f2",
      "metadata": {
        "id": "915df21b-3a7e-444a-999d-c830acdbe7f2"
      },
      "source": [
        "Rmember to make a copy of this notebook in your Google Drive and work in your own copy.\n",
        "\n",
        "Happy modeling!\n",
        "\n",
        ">Note: If you get the accuracy of 100% and F1 score of 100%, while it may earn you good grades, it's an indication of overfitting."
      ]
    },
    {
      "cell_type": "markdown",
      "id": "8018f21d-d661-4ae4-a50d-9fb66feb291d",
      "metadata": {
        "id": "8018f21d-d661-4ae4-a50d-9fb66feb291d"
      },
      "source": [
        "## Student Identity"
      ]
    },
    {
      "cell_type": "code",
      "execution_count": null,
      "id": "9fc57472-0432-474a-b1f7-c825edfc007a",
      "metadata": {
        "id": "9fc57472-0432-474a-b1f7-c825edfc007a",
        "colab": {
          "base_uri": "https://localhost:8080/"
        },
        "outputId": "f998ead4-4175-477b-deb9-31981e9356c8"
      },
      "outputs": [
        {
          "output_type": "stream",
          "name": "stdout",
          "text": [
            "Collecting rggrader\n",
            "  Downloading rggrader-0.1.6-py3-none-any.whl.metadata (485 bytes)\n",
            "Requirement already satisfied: requests in /usr/local/lib/python3.10/dist-packages (from rggrader) (2.32.3)\n",
            "Requirement already satisfied: pandas in /usr/local/lib/python3.10/dist-packages (from rggrader) (2.2.2)\n",
            "Requirement already satisfied: Pillow in /usr/local/lib/python3.10/dist-packages (from rggrader) (11.1.0)\n",
            "Requirement already satisfied: numpy>=1.22.4 in /usr/local/lib/python3.10/dist-packages (from pandas->rggrader) (1.26.4)\n",
            "Requirement already satisfied: python-dateutil>=2.8.2 in /usr/local/lib/python3.10/dist-packages (from pandas->rggrader) (2.8.2)\n",
            "Requirement already satisfied: pytz>=2020.1 in /usr/local/lib/python3.10/dist-packages (from pandas->rggrader) (2024.2)\n",
            "Requirement already satisfied: tzdata>=2022.7 in /usr/local/lib/python3.10/dist-packages (from pandas->rggrader) (2024.2)\n",
            "Requirement already satisfied: charset-normalizer<4,>=2 in /usr/local/lib/python3.10/dist-packages (from requests->rggrader) (3.4.1)\n",
            "Requirement already satisfied: idna<4,>=2.5 in /usr/local/lib/python3.10/dist-packages (from requests->rggrader) (3.10)\n",
            "Requirement already satisfied: urllib3<3,>=1.21.1 in /usr/local/lib/python3.10/dist-packages (from requests->rggrader) (2.3.0)\n",
            "Requirement already satisfied: certifi>=2017.4.17 in /usr/local/lib/python3.10/dist-packages (from requests->rggrader) (2024.12.14)\n",
            "Requirement already satisfied: six>=1.5 in /usr/local/lib/python3.10/dist-packages (from python-dateutil>=2.8.2->pandas->rggrader) (1.17.0)\n",
            "Downloading rggrader-0.1.6-py3-none-any.whl (2.5 kB)\n",
            "Installing collected packages: rggrader\n",
            "Successfully installed rggrader-0.1.6\n"
          ]
        }
      ],
      "source": [
        "# @title #### Student Identity\n",
        "student_id = \"REA6UCWBO\" # @param {type:\"string\"}\n",
        "name = \"Ida Bagus Teguh Teja Murti\" # @param {type:\"string\"}\n",
        "drive_link = \"https://colab.research.google.com/drive/1uCtzZEddZL4a2yGhUKeOWvSCQQy9iHhj?usp=sharing\"  # @param {type:\"string\"}\n",
        "\n",
        "assignment_id = \"00_ml_project\"\n",
        "\n",
        "# Import grader package\n",
        "!pip install rggrader\n",
        "from rggrader import submit, submit_image"
      ]
    },
    {
      "cell_type": "code",
      "execution_count": null,
      "id": "62606ca1-5868-4c65-93ef-1d6ee8d8d59a",
      "metadata": {
        "id": "62606ca1-5868-4c65-93ef-1d6ee8d8d59a"
      },
      "outputs": [],
      "source": [
        "# Write any package/module installation that you need\n",
        "# pip install goes here, this helps declutter your output below\n",
        "\n"
      ]
    },
    {
      "cell_type": "markdown",
      "id": "b0837717-de95-4193-9898-e2f4cadfcfc6",
      "metadata": {
        "id": "b0837717-de95-4193-9898-e2f4cadfcfc6"
      },
      "source": [
        "## Load the dataset and clean it\n",
        "\n",
        "In this task, you will prepare and load your dataset. You need to download the full FIFA 21 Dataset from the link here: [Kaggle FIFA Player Stats Database](https://www.kaggle.com/datasets/bryanb/fifa-player-stats-database?resource=download&select=FIFA21_official_data.csv).\n",
        "\n",
        ">Note: Make sure you download FIFA 21 dataset.\n",
        ">\n",
        ">![FIFA21 Dataset](https://storage.googleapis.com/rg-ai-bootcamp/projects/fifa21_dataset-min.png)\n",
        "\n",
        "After you download the dataset, you will then import the dataset then you will clean the data. For example there may be some empty cell in the dataset which you need to fill. Maybe there are also data that you need to convert to numeric value for analysis. Identify the data that is incomplete and fix them.\n",
        "\n",
        "In the code block below, you can use the comments to guide you on what to do."
      ]
    },
    {
      "cell_type": "code",
      "source": [
        "#!/bin/bash\n",
        "!curl -L -o fifa-player-stats-database.zip\\\n",
        "  https://www.kaggle.com/api/v1/datasets/download/bryanb/fifa-player-stats-database\n",
        "!unzip fifa-player-stats-database.zip -d fifa-player-stats-database\n",
        "!mv ./fifa-player-stats-database/FIFA21_official_data.csv ./"
      ],
      "metadata": {
        "colab": {
          "base_uri": "https://localhost:8080/"
        },
        "id": "ejj7MsyZRwcj",
        "outputId": "7a20c835-fb52-4313-ff5f-3c2434117a3f"
      },
      "id": "ejj7MsyZRwcj",
      "execution_count": null,
      "outputs": [
        {
          "output_type": "stream",
          "name": "stdout",
          "text": [
            "  % Total    % Received % Xferd  Average Speed   Time    Time     Time  Current\n",
            "                                 Dload  Upload   Total   Spent    Left  Speed\n",
            "  0     0    0     0    0     0      0      0 --:--:-- --:--:-- --:--:--     0\n",
            "100 13.2M  100 13.2M    0     0  25.1M      0 --:--:-- --:--:-- --:--:-- 71.2M\n",
            "Archive:  fifa-player-stats-database.zip\n",
            "  inflating: fifa-player-stats-database/FIFA17_official_data.csv  \n",
            "  inflating: fifa-player-stats-database/FIFA18_official_data.csv  \n",
            "  inflating: fifa-player-stats-database/FIFA19_official_data.csv  \n",
            "  inflating: fifa-player-stats-database/FIFA20_official_data.csv  \n",
            "  inflating: fifa-player-stats-database/FIFA21_official_data.csv  \n",
            "  inflating: fifa-player-stats-database/FIFA22_official_data.csv  \n",
            "  inflating: fifa-player-stats-database/FIFA23_official_data.csv  \n"
          ]
        }
      ]
    },
    {
      "cell_type": "code",
      "execution_count": null,
      "id": "3b0e5e58-277e-41ef-9b1c-951e5d150191",
      "metadata": {
        "id": "3b0e5e58-277e-41ef-9b1c-951e5d150191",
        "colab": {
          "base_uri": "https://localhost:8080/"
        },
        "outputId": "0b69e0eb-ef23-4cbb-884e-fe3a951b8840"
      },
      "outputs": [
        {
          "output_type": "stream",
          "name": "stdout",
          "text": [
            "ID                        0\n",
            "Name                      0\n",
            "Age                       0\n",
            "Photo                     0\n",
            "Nationality               0\n",
            "                       ... \n",
            "GKReflexes                0\n",
            "Best Position             0\n",
            "Best Overall Rating       0\n",
            "Release Clause         1629\n",
            "DefensiveAwareness      942\n",
            "Length: 65, dtype: int64\n"
          ]
        },
        {
          "output_type": "stream",
          "name": "stderr",
          "text": [
            "<ipython-input-30-687679e1ceb3>:14: FutureWarning: A value is trying to be set on a copy of a DataFrame or Series through chained assignment using an inplace method.\n",
            "The behavior will change in pandas 3.0. This inplace method will never work because the intermediate object on which we are setting values always behaves as a copy.\n",
            "\n",
            "For example, when doing 'df[col].method(value, inplace=True)', try using 'df.method({col: value}, inplace=True)' or df[col] = df[col].method(value) instead, to perform the operation inplace on the original object.\n",
            "\n",
            "\n",
            "  df[col].fillna(df[col].mean(), inplace=True)\n",
            "<ipython-input-30-687679e1ceb3>:18: FutureWarning: A value is trying to be set on a copy of a DataFrame or Series through chained assignment using an inplace method.\n",
            "The behavior will change in pandas 3.0. This inplace method will never work because the intermediate object on which we are setting values always behaves as a copy.\n",
            "\n",
            "For example, when doing 'df[col].method(value, inplace=True)', try using 'df.method({col: value}, inplace=True)' or df[col] = df[col].method(value) instead, to perform the operation inplace on the original object.\n",
            "\n",
            "\n",
            "  df[col].fillna(df[col].mode()[0], inplace=True)\n"
          ]
        },
        {
          "output_type": "stream",
          "name": "stdout",
          "text": [
            "Data cleaning complete. Cleaned data saved.\n"
          ]
        }
      ],
      "source": [
        "import pandas as pd\n",
        "\n",
        "# Load your data\n",
        "# Make sure to specify the correct path to the dataset file\n",
        "df = pd.read_csv('./FIFA21_official_data.csv')\n",
        "\n",
        "# Check your data for empty cells\n",
        "print(df.isnull().sum())\n",
        "\n",
        "# Fill the empty cells with data or drop the column\n",
        "# This is a decision you need to make based on the context of your analysis\n",
        "# Example: Fill numeric columns with the mean\n",
        "for col in df.select_dtypes(include='number').columns:\n",
        "    df[col].fillna(df[col].mean(), inplace=True)\n",
        "\n",
        "# Example: Fill categorical columns with the mode\n",
        "for col in df.select_dtypes(include='object').columns:\n",
        "    df[col].fillna(df[col].mode()[0], inplace=True)\n",
        "\n",
        "# Alternatively, if a column has too many missing values, you might decide to drop it\n",
        "# df.drop(columns=['column_name'], inplace=True)\n",
        "\n",
        "# Convert data to numeric values where necessary\n",
        "# Example: Convert a 'price' column to floats\n",
        "# df['price'] = pd.to_numeric(df['price'].str.replace('[^0-9.]', ''), errors='coerce')\n",
        "\n",
        "# Save the cleaned dataset\n",
        "df.to_csv('./FIFA21_cleaned_data.csv', index=False)\n",
        "\n",
        "print(\"Data cleaning complete. Cleaned data saved.\")\n"
      ]
    },
    {
      "cell_type": "markdown",
      "id": "30ce0c59-0e94-480a-81ae-528e68356a15",
      "metadata": {
        "id": "30ce0c59-0e94-480a-81ae-528e68356a15"
      },
      "source": [
        "## Build and Train your model\n",
        "\n",
        "In this task you will analyze the data and select the features that is best at predicting if the Player is a 'Valuable' player or not.\n",
        "\n",
        "The first step is to **define the target output** that you will use for training. Here's an example of how to create a target output:\n",
        "- `df['OK Player'] = df['Overall'].apply(lambda x: 1 if x >= 50 else 0) #Define the OK Player using treshold of 50.`\n",
        "\n",
        "Next you will **identify the features** that will best predict a 'Valuable' player. You are required to **submit the features you selected** in the Submission section below.\n",
        "\n",
        "> **Because we use the \"Overall\" as our target output, the use of \"Overall\" in your features is not allowed. You will automatically get 0 if you submit \"Overall\" in your features. The use of \"Best Overall Rating\" is also not allowed and will automatically get you a score of 0.**\n",
        "\n",
        "Once you identify the features, you will then **split the data** into Training set and Testing/Validation set.\n",
        "\n",
        "Depending on the features you selected, **you may need to scale the features**.\n",
        "\n",
        "Now you will **train your model, choose the algorithm** you are going to use carefully to make sure it gives the best result.\n",
        "\n",
        "Once you have trained your model, you need to test the model effectiveness. **Make predictions against your Testing/Validation set** and evaluate your model. You are required to **submit the Accuracy Score and F1 score** in the Submission section below.\n",
        "\n",
        "In the code block below, you can use the comments to guide you on what to do.\n",
        "\n",
        "We have also provided 3 variables that you must use in your code, `ml_features`, `ml_accuracy` and `ml_f1_score`. You can move the variables around your code, assign values to them, but you cannot delete them."
      ]
    },
    {
      "cell_type": "code",
      "source": [
        "import pandas as pd\n",
        "from sklearn.model_selection import train_test_split\n",
        "from sklearn.preprocessing import StandardScaler\n",
        "from sklearn.ensemble import RandomForestClassifier\n",
        "from sklearn.metrics import accuracy_score, f1_score\n",
        "import numpy as np\n",
        "\n"
      ],
      "metadata": {
        "id": "uwauB1NnOvaE"
      },
      "id": "uwauB1NnOvaE",
      "execution_count": null,
      "outputs": []
    },
    {
      "cell_type": "code",
      "source": [
        "# Load your data\n",
        "df = pd.read_csv('./FIFA21_cleaned_data.csv')\n",
        "\n",
        "# Define the target output (Valuable Player with threshold of 75)\n",
        "df['Valuable Player'] = df['Overall'].apply(lambda x: 1 if x >= 75 else 0)\n",
        "\n",
        "# Identify the features you will use in your model\n",
        "# Avoid using 'Overall' and 'Best Overall Rating'\n",
        "ml_features = ['Age', 'Potential', 'International Reputation', 'Weak Foot', 'Skill Moves',\n",
        "               'Work Rate', 'Position', 'Joined', 'Contract Valid Until', 'Height', 'Weight']"
      ],
      "metadata": {
        "id": "rLsWpb1sPFlB"
      },
      "id": "rLsWpb1sPFlB",
      "execution_count": null,
      "outputs": []
    },
    {
      "cell_type": "code",
      "source": [
        "# Assuming 'Joined' is a date column in your DataFrame\n",
        "# Convert 'Joined' to datetime\n",
        "df['Joined'] = pd.to_datetime(df['Joined'], errors='coerce')\n",
        "\n",
        "# Example: Extract year from 'Joined' and use it as a feature\n",
        "df['Joined_Year'] = df['Joined'].dt.year\n",
        "\n",
        "# You can also calculate the number of days since a reference date\n",
        "reference_date = pd.to_datetime('2020-01-01')  # Example reference date\n",
        "df['Days_Since_Joined'] = (df['Joined'] - reference_date).dt.days\n",
        "\n",
        "# Now update ml_features to include 'Joined_Year' and 'Days_Since_Joined' instead of 'Joined'\n",
        "ml_features.remove('Joined')\n",
        "ml_features.extend(['Joined_Year', 'Days_Since_Joined'])\n",
        "\n",
        "# Convert 'Contract Valid Until' to datetime and then to a more useful numeric feature\n",
        "df['Contract Valid Until'] = pd.to_datetime(df['Contract Valid Until'], errors='coerce')\n",
        "\n",
        "# Extract year from 'Contract Valid Until' as a feature (or any other relevant extraction)\n",
        "df['Contract Year'] = df['Contract Valid Until'].dt.year\n",
        "\n",
        "# You can also calculate the number of days until the contract expires from a reference date\n",
        "reference_date = pd.to_datetime('2020-01-01')  # Example reference date\n",
        "df['Days Until Contract Expires'] = (df['Contract Valid Until'] - reference_date).dt.days\n",
        "\n",
        "# Now update ml_features to include these new columns instead of 'Contract Valid Until'\n",
        "if 'Contract Valid Until' in ml_features:\n",
        "    ml_features.remove('Contract Valid Until')\n",
        "ml_features.extend(['Contract Year', 'Days Until Contract Expires'])"
      ],
      "metadata": {
        "id": "LcKzcHG3O0jk"
      },
      "id": "LcKzcHG3O0jk",
      "execution_count": null,
      "outputs": []
    },
    {
      "cell_type": "code",
      "source": [
        "# Assuming you have already converted categorical columns with pd.get_dummies\n",
        "df = pd.get_dummies(df, columns=['Work Rate', 'Position'])\n",
        "\n",
        "# Include dummy variables and the new date-derived features in the feature list\n",
        "ml_features = [col for col in df.columns if col in ml_features or col.startswith('Work Rate_') or col.startswith('Position_')]\n",
        "\n",
        "# Ensure all selected features are numeric\n",
        "X = df[ml_features].select_dtypes(include=[np.number])"
      ],
      "metadata": {
        "id": "VQC2szomP1Mc"
      },
      "id": "VQC2szomP1Mc",
      "execution_count": null,
      "outputs": []
    },
    {
      "cell_type": "code",
      "execution_count": null,
      "id": "1aa3c3f7-c6c5-4419-9b25-e8d7a8ec345a",
      "metadata": {
        "id": "1aa3c3f7-c6c5-4419-9b25-e8d7a8ec345a",
        "colab": {
          "base_uri": "https://localhost:8080/"
        },
        "outputId": "fba2daa9-7ebc-4c1b-fade-ca93f26c73f8"
      },
      "outputs": [
        {
          "output_type": "stream",
          "name": "stdout",
          "text": [
            "Accuracy: 0.9801285797779077\n",
            "F1 Score: 0.9249448123620309\n"
          ]
        }
      ],
      "source": [
        "# Split data into training set and test set\n",
        "y = df['Valuable Player']\n",
        "X_train, X_test, y_train, y_test = train_test_split(X, y, test_size=0.2, random_state=42)\n",
        "\n",
        "# Scale the features (if needed, optional)\n",
        "scaler = StandardScaler()\n",
        "X_train_scaled = scaler.fit_transform(X_train)\n",
        "X_test_scaled = scaler.transform(X_test)\n",
        "\n",
        "# Train the model\n",
        "model = RandomForestClassifier(n_estimators=100, random_state=42)\n",
        "model.fit(X_train_scaled, y_train)\n",
        "\n",
        "# Make predictions using the test set\n",
        "y_pred = model.predict(X_test_scaled)\n",
        "\n",
        "# Evaluate the model\n",
        "ml_accuracy = accuracy_score(y_test, y_pred)\n",
        "ml_f1_score = f1_score(y_test, y_pred)\n",
        "\n",
        "# Print the results\n",
        "print(\"Accuracy:\", ml_accuracy)\n",
        "print(\"F1 Score:\", ml_f1_score)\n"
      ]
    },
    {
      "cell_type": "markdown",
      "id": "5d59af48-18c0-4e40-80ff-33a85030b205",
      "metadata": {
        "id": "5d59af48-18c0-4e40-80ff-33a85030b205"
      },
      "source": [
        "## Submission\n",
        "\n",
        "Once you are satisfied with the performance of your model, then you run the code block below to submit your project.\n"
      ]
    },
    {
      "cell_type": "code",
      "execution_count": null,
      "id": "010d7f7f-711d-4f41-82a3-3c2562e59709",
      "metadata": {
        "id": "010d7f7f-711d-4f41-82a3-3c2562e59709",
        "colab": {
          "base_uri": "https://localhost:8080/",
          "height": 107
        },
        "outputId": "340d9481-21d3-4be1-b5e7-335c2019f6f6"
      },
      "outputs": [
        {
          "output_type": "stream",
          "name": "stdout",
          "text": [
            "ml_features : ['Age', 'Potential', 'International Reputation', 'Weak Foot', 'Skill Moves', 'Height', 'Weight', 'Joined_Year', 'Days_Since_Joined', 'Contract Year', 'Days Until Contract Expires', 'Work Rate_High/ High', 'Work Rate_High/ Low', 'Work Rate_High/ Medium', 'Work Rate_Low/ High', 'Work Rate_Low/ Low', 'Work Rate_Low/ Medium', 'Work Rate_Medium/ High', 'Work Rate_Medium/ Low', 'Work Rate_Medium/ Medium', 'Work Rate_N/A/ N/A', 'Position_<span class=\"pos pos0\">GK', 'Position_<span class=\"pos pos10\">CDM', 'Position_<span class=\"pos pos11\">LDM', 'Position_<span class=\"pos pos12\">RM', 'Position_<span class=\"pos pos13\">RCM', 'Position_<span class=\"pos pos14\">CM', 'Position_<span class=\"pos pos15\">LCM', 'Position_<span class=\"pos pos16\">LM', 'Position_<span class=\"pos pos17\">RAM', 'Position_<span class=\"pos pos18\">CAM', 'Position_<span class=\"pos pos19\">LAM', 'Position_<span class=\"pos pos2\">RWB', 'Position_<span class=\"pos pos20\">RF', 'Position_<span class=\"pos pos21\">CF', 'Position_<span class=\"pos pos22\">LF', 'Position_<span class=\"pos pos23\">RW', 'Position_<span class=\"pos pos24\">RS', 'Position_<span class=\"pos pos25\">ST', 'Position_<span class=\"pos pos26\">LS', 'Position_<span class=\"pos pos27\">LW', 'Position_<span class=\"pos pos28\">SUB', 'Position_<span class=\"pos pos29\">RES', 'Position_<span class=\"pos pos3\">RB', 'Position_<span class=\"pos pos4\">RCB', 'Position_<span class=\"pos pos5\">CB', 'Position_<span class=\"pos pos6\">LCB', 'Position_<span class=\"pos pos7\">LB', 'Position_<span class=\"pos pos8\">LWB', 'Position_<span class=\"pos pos9\">RDM']\n",
            "ml_accuracy : 0.9801285797779077\n",
            "ml_f1_score : 0.9249448123620309\n"
          ]
        },
        {
          "output_type": "execute_result",
          "data": {
            "text/plain": [
              "'Assignment successfully submitted'"
            ],
            "application/vnd.google.colaboratory.intrinsic+json": {
              "type": "string"
            }
          },
          "metadata": {},
          "execution_count": 37
        }
      ],
      "source": [
        "# Submit Method\n",
        "print(f'ml_features : {str(ml_features)}')\n",
        "print(f'ml_accuracy : {str(ml_accuracy)}')\n",
        "print(f'ml_f1_score : {str(ml_f1_score)}')\n",
        "\n",
        "# Do not change the code below\n",
        "question_id = \"01_ml_project_features\"\n",
        "submit(student_id, name, assignment_id, str(ml_features), question_id, drive_link)\n",
        "question_id = \"02_ml_project_accuracy\"\n",
        "submit(student_id, name, assignment_id, str(ml_accuracy), question_id, drive_link)\n",
        "question_id = \"03_ml_project_f1score\"\n",
        "submit(student_id, name, assignment_id, str(ml_f1_score), question_id, drive_link)"
      ]
    },
    {
      "cell_type": "markdown",
      "id": "aa89b9ff-0d31-416a-b3c4-851c725fadf7",
      "metadata": {
        "id": "aa89b9ff-0d31-416a-b3c4-851c725fadf7"
      },
      "source": [
        "## FIN"
      ]
    }
  ],
  "metadata": {
    "kernelspec": {
      "display_name": "Python 3 (ipykernel)",
      "language": "python",
      "name": "python3"
    },
    "language_info": {
      "codemirror_mode": {
        "name": "ipython",
        "version": 3
      },
      "file_extension": ".py",
      "mimetype": "text/x-python",
      "name": "python",
      "nbconvert_exporter": "python",
      "pygments_lexer": "ipython3",
      "version": "3.11.3"
    },
    "colab": {
      "provenance": []
    }
  },
  "nbformat": 4,
  "nbformat_minor": 5
}