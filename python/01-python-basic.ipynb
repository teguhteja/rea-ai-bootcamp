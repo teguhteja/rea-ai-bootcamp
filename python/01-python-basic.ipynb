{
 "cells": [
  {
   "cell_type": "markdown",
   "metadata": {},
   "source": [
    "# Python Basics\n",
    "This notebook introduces Python basics, including comments, indentation, data types, and operations.\n"
   ]
  },
  {
   "cell_type": "markdown",
   "metadata": {},
   "source": [
    "## Comments\n",
    "Comments are completely ignored by the interpreter. They are meant for fellow programmers.\n",
    "\n",
    "### Types of Comments\n",
    "1. Single-line comment: Use the `#` symbol.\n",
    "2. Multi-line comment: Use triple quotes (`'''` or `\"\"\"`).\n",
    "\n",
    "#### Examples:\n",
    "```python\n",
    "# This is a single-line comment\n",
    "\"\"\"\n",
    "This is a\n",
    "multi-line\n",
    "comment\n",
    "\"\"\"\n",
    "```\n"
   ]
  },
  {
   "cell_type": "markdown",
   "metadata": {},
   "source": [
    "## Indentation\n",
    "Python uses indentation to define blocks of code instead of curly braces.\n",
    "- Standard indentation: Four spaces.\n",
    "\n",
    "#### Example:\n",
    "```python\n",
    "if 5 > 2:\n",
    "    print(\"5 is greater than 2\")\n",
    "```\n"
   ]
  },
  {
   "cell_type": "markdown",
   "metadata": {},
   "source": [
    "## Lines\n",
    "- Use a backslash (`\\`) to break long statements.\n",
    "- Use a semicolon (`;`) to place multiple short statements on one line.\n",
    "\n",
    "#### Example:\n",
    "```python\n",
    "result = 1 + 2 + 3 + 4 + \\\n",
    "         5 + 6 + 7 + 8\n",
    "x = 5; y = 10\n",
    "```\n"
   ]
  },
  {
   "cell_type": "markdown",
   "metadata": {},
   "source": [
    "## Data Types\n",
    "### Numbers\n",
    "- Integers: Whole numbers (e.g., `5`, `-42`).\n",
    "- Floats: Decimal numbers (e.g., `3.14`, `-0.007`).\n",
    "\n",
    "#### Example:\n",
    "```python\n",
    "myint = 5\n",
    "myfloat = 3.14\n",
    "```\n",
    "\n",
    "### Strings\n",
    "Strings are enclosed in single or double quotes.\n",
    "\n",
    "#### Example:\n",
    "```python\n",
    "mystring = 'Hello, World!'\n",
    "```\n",
    "\n",
    "### Booleans\n",
    "- Binary values: `True` or `False`.\n",
    "\n",
    "#### Example:\n",
    "```python\n",
    "x = True\n",
    "```\n"
   ]
  },
  {
   "cell_type": "markdown",
   "metadata": {},
   "source": [
    "## Variables and Value Assignment\n",
    "- Variable names can include letters, numbers, and underscores, but must not start with a number.\n",
    "- Case-sensitive (e.g., `var` and `Var` are different).\n",
    "\n",
    "#### Example:\n",
    "```python\n",
    "x = 10\n",
    "y, z = 5, 15\n",
    "```\n"
   ]
  },
  {
   "cell_type": "markdown",
   "metadata": {},
   "source": [
    "## Mathematical and Comparison Operations\n",
    "### Mathematical Operations\n",
    "- `+`: Addition\n",
    "- `-`: Subtraction\n",
    "- `*`: Multiplication\n",
    "- `/`: Division\n",
    "- `%`: Modulus\n",
    "- `**`: Exponentiation\n",
    "- `//`: Floor Division\n",
    "\n",
    "### Comparison Operations\n",
    "- `==`: Equal\n",
    "- `!=`: Not equal\n",
    "- `>`: Greater than\n",
    "- `<`: Less than\n",
    "- `>=`: Greater than or equal\n",
    "- `<=`: Less than or equal\n",
    "\n",
    "#### Example:\n",
    "```python\n",
    "result = 5 > 3\n",
    "```\n"
   ]
  },
  {
   "cell_type": "markdown",
   "metadata": {},
   "source": [
    "## Logical Operations\n",
    "- `and`: True if both operands are True.\n",
    "- `or`: True if at least one operand is True.\n",
    "- `not`: Negates the operand.\n",
    "\n",
    "#### Example:\n",
    "```python\n",
    "result = (5 > 3) and (2 < 4)\n",
    "```\n"
   ]
  },
  {
   "cell_type": "code",
   "execution_count": 1,
   "metadata": {},
   "outputs": [
    {
     "name": "stdout",
     "output_type": "stream",
     "text": [
      "Collecting rggrader\n",
      "  Downloading rggrader-0.1.6-py3-none-any.whl.metadata (485 bytes)\n",
      "Requirement already satisfied: requests in /home/teguhteja/miniconda3/lib/python3.12/site-packages (from rggrader) (2.31.0)\n",
      "Requirement already satisfied: pandas in /home/teguhteja/miniconda3/lib/python3.12/site-packages (from rggrader) (2.2.2)\n",
      "Requirement already satisfied: Pillow in /home/teguhteja/miniconda3/lib/python3.12/site-packages (from rggrader) (10.3.0)\n",
      "Requirement already satisfied: numpy>=1.26.0 in /home/teguhteja/miniconda3/lib/python3.12/site-packages (from pandas->rggrader) (1.26.4)\n",
      "Requirement already satisfied: python-dateutil>=2.8.2 in /home/teguhteja/miniconda3/lib/python3.12/site-packages (from pandas->rggrader) (2.9.0)\n",
      "Requirement already satisfied: pytz>=2020.1 in /home/teguhteja/miniconda3/lib/python3.12/site-packages (from pandas->rggrader) (2024.1)\n",
      "Requirement already satisfied: tzdata>=2022.7 in /home/teguhteja/miniconda3/lib/python3.12/site-packages (from pandas->rggrader) (2024.1)\n",
      "Requirement already satisfied: charset-normalizer<4,>=2 in /home/teguhteja/miniconda3/lib/python3.12/site-packages (from requests->rggrader) (2.0.4)\n",
      "Requirement already satisfied: idna<4,>=2.5 in /home/teguhteja/miniconda3/lib/python3.12/site-packages (from requests->rggrader) (3.7)\n",
      "Requirement already satisfied: urllib3<3,>=1.21.1 in /home/teguhteja/miniconda3/lib/python3.12/site-packages (from requests->rggrader) (2.1.0)\n",
      "Requirement already satisfied: certifi>=2017.4.17 in /home/teguhteja/miniconda3/lib/python3.12/site-packages (from requests->rggrader) (2024.2.2)\n",
      "Requirement already satisfied: six>=1.5 in /home/teguhteja/miniconda3/lib/python3.12/site-packages (from python-dateutil>=2.8.2->pandas->rggrader) (1.16.0)\n",
      "Downloading rggrader-0.1.6-py3-none-any.whl (2.5 kB)\n",
      "Installing collected packages: rggrader\n",
      "Successfully installed rggrader-0.1.6\n"
     ]
    }
   ],
   "source": [
    "# Install rggrader for exercises\n",
    "!pip install rggrader\n"
   ]
  },
  {
   "cell_type": "code",
   "execution_count": 4,
   "metadata": {},
   "outputs": [],
   "source": [
    "# @title #### Student Identity\n",
    "student_id = \"REA6UCWBO\"  # @param {type:\"string\"}\n",
    "name = \"Ida Bagus Teguh Teja Murti\"  # @param {type:\"string\"}\n"
   ]
  },
  {
   "cell_type": "code",
   "execution_count": 5,
   "metadata": {},
   "outputs": [
    {
     "data": {
      "text/plain": [
       "'Assignment successfully submitted'"
      ]
     },
     "execution_count": 5,
     "metadata": {},
     "output_type": "execute_result"
    }
   ],
   "source": [
    "# @title #### 00. Area of a circle\n",
    "from rggrader import submit\n",
    "from math import pi\n",
    "r = 5 \n",
    "\n",
    "# INFO\n",
    "# Compute the area of a circle with radius r.\n",
    "# Store the result in the 'area' variable.\n",
    "\n",
    "# Put your code here:\n",
    "area = pi * r ** 2\n",
    "\n",
    "# ---- End of your code ----\n",
    "\n",
    "# Submit Method\n",
    "assignment_id = \"00_python-basics\"\n",
    "question_id = \"00_area-of-circle\"\n",
    "submit(student_id, name, assignment_id, str(area), question_id)\n"
   ]
  }
 ],
 "metadata": {
  "kernelspec": {
   "display_name": "base",
   "language": "python",
   "name": "python3"
  },
  "language_info": {
   "codemirror_mode": {
    "name": "ipython",
    "version": 3
   },
   "file_extension": ".py",
   "mimetype": "text/x-python",
   "name": "python",
   "nbconvert_exporter": "python",
   "pygments_lexer": "ipython3",
   "version": "3.12.2"
  }
 },
 "nbformat": 4,
 "nbformat_minor": 2
}
