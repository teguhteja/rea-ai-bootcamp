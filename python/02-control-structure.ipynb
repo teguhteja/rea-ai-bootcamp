{
 "cells": [
  {
   "cell_type": "code",
   "execution_count": null,
   "metadata": {},
   "outputs": [],
   "source": [
    "# Control Structures\n",
    "# Conditional Branching\n",
    "# if statement\n",
    "# The if statement checks if a specific condition or expression evaluates to True. If the condition is satisfied (True), the block of code associated with the if statement will be executed.\n",
    "\n",
    "x = 10\n",
    "\n",
    "if x > 0:\n",
    "    print(\"x is positive.\")\n",
    "    print(\"The value of x is\", x)\n",
    "\n",
    "# if-else statement\n",
    "x = -5\n",
    "\n",
    "if x > 0:\n",
    "    print(\"x is positive.\")\n",
    "else:\n",
    "    print(\"x is not positive.\")\n",
    "\n",
    "# if-elif-else statement\n",
    "temperature = 15\n",
    "\n",
    "if temperature < 0:\n",
    "    print(\"It's freezing outside.\")\n",
    "elif temperature < 10:\n",
    "    print(\"It's cold outside.\")\n",
    "elif temperature < 20:\n",
    "    print(\"It's chilly outside.\")\n",
    "elif temperature < 30:\n",
    "    print(\"It's warm outside.\")\n",
    "else:\n",
    "    print(\"It's hot outside.\")\n",
    "\n",
    "# Nested if statements\n",
    "x = 5\n",
    "y = -2\n",
    "\n",
    "if x > 0:\n",
    "    if y > 0:\n",
    "        print(\"Both x and y are positive.\")\n",
    "    else:\n",
    "        print(\"x is positive, but y is not.\")\n",
    "else:\n",
    "    if y > 0:\n",
    "        print(\"y is positive, but x is not.\")\n",
    "    else:\n",
    "        print(\"Neither x nor y is positive.\")\n",
    "\n",
    "# One-liner if-else expression\n",
    "x = 5\n",
    "str_result = \"x is positive\" if x > 0 else \"x is not positive\"\n",
    "print(str_result)\n",
    "\n",
    "# Loops\n",
    "# for loop\n",
    "numbers = [1, 2, 3, 4, 5]\n",
    "for num in numbers:\n",
    "    print(num)\n",
    "\n",
    "name = \"Python\"\n",
    "for letter in name:\n",
    "    print(letter)\n",
    "\n",
    "# for loop with range()\n",
    "for i in range(5):\n",
    "    print(i)\n",
    "\n",
    "# while loop\n",
    "counter = 0\n",
    "while counter < 5:\n",
    "    print(\"counter:\", counter)\n",
    "    counter = counter + 1\n",
    "\n",
    "# List Comprehensions\n",
    "squares = [x**2 for x in range(1, 11)]\n",
    "even_numbers = [x for x in range(1, 21) if x % 2 == 0]\n",
    "\n"
   ]
  },
  {
   "cell_type": "code",
   "execution_count": 1,
   "metadata": {},
   "outputs": [
    {
     "name": "stdout",
     "output_type": "stream",
     "text": [
      "Requirement already satisfied: rggrader in /home/teguhteja/miniconda3/lib/python3.12/site-packages (0.1.6)\n",
      "Requirement already satisfied: requests in /home/teguhteja/miniconda3/lib/python3.12/site-packages (from rggrader) (2.31.0)\n",
      "Requirement already satisfied: pandas in /home/teguhteja/miniconda3/lib/python3.12/site-packages (from rggrader) (2.2.2)\n",
      "Requirement already satisfied: Pillow in /home/teguhteja/miniconda3/lib/python3.12/site-packages (from rggrader) (10.3.0)\n",
      "Requirement already satisfied: numpy>=1.26.0 in /home/teguhteja/miniconda3/lib/python3.12/site-packages (from pandas->rggrader) (1.26.4)\n",
      "Requirement already satisfied: python-dateutil>=2.8.2 in /home/teguhteja/miniconda3/lib/python3.12/site-packages (from pandas->rggrader) (2.9.0)\n",
      "Requirement already satisfied: pytz>=2020.1 in /home/teguhteja/miniconda3/lib/python3.12/site-packages (from pandas->rggrader) (2024.1)\n",
      "Requirement already satisfied: tzdata>=2022.7 in /home/teguhteja/miniconda3/lib/python3.12/site-packages (from pandas->rggrader) (2024.1)\n",
      "Requirement already satisfied: charset-normalizer<4,>=2 in /home/teguhteja/miniconda3/lib/python3.12/site-packages (from requests->rggrader) (2.0.4)\n",
      "Requirement already satisfied: idna<4,>=2.5 in /home/teguhteja/miniconda3/lib/python3.12/site-packages (from requests->rggrader) (3.7)\n",
      "Requirement already satisfied: urllib3<3,>=1.21.1 in /home/teguhteja/miniconda3/lib/python3.12/site-packages (from requests->rggrader) (2.1.0)\n",
      "Requirement already satisfied: certifi>=2017.4.17 in /home/teguhteja/miniconda3/lib/python3.12/site-packages (from requests->rggrader) (2024.2.2)\n",
      "Requirement already satisfied: six>=1.5 in /home/teguhteja/miniconda3/lib/python3.12/site-packages (from python-dateutil>=2.8.2->pandas->rggrader) (1.16.0)\n"
     ]
    }
   ],
   "source": [
    "# Exercises\n",
    "!pip install rggrader\n",
    "\n",
    "# @title #### Student Identity\n",
    "student_id = \"REA6UCWBO\"\n",
    "name = \"Ida Bagus Teguh Teja Murti\"\n"
   ]
  },
  {
   "cell_type": "code",
   "execution_count": 3,
   "metadata": {},
   "outputs": [
    {
     "name": "stdout",
     "output_type": "stream",
     "text": [
      "The sum of all even numbers from 1 to 50 is 650\n"
     ]
    },
    {
     "data": {
      "text/plain": [
       "'Assignment successfully submitted'"
      ]
     },
     "execution_count": 3,
     "metadata": {},
     "output_type": "execute_result"
    }
   ],
   "source": [
    "\n",
    "# @title #### 00. Sum of Even Numbers\n",
    "from rggrader import submit\n",
    "\n",
    "n = 50\n",
    "\n",
    "my_sum = sum([i for i in range(1, n+1) if i % 2 == 0])\n",
    "# Put your code here:\n",
    "# ---- End of your code ----\n",
    "print(f\"The sum of all even numbers from 1 to {n} is {my_sum}\")\n",
    "\n",
    "assignment_id = \"01-control-structures\"\n",
    "question_id = \"00_sum-of-even-numbers\"\n",
    "submit(student_id, name, assignment_id, str(sum), question_id)"
   ]
  },
  {
   "cell_type": "code",
   "execution_count": 5,
   "metadata": {},
   "outputs": [
    {
     "name": "stdout",
     "output_type": "stream",
     "text": [
      "The sum of all even numbers subtracted by all odd numbers from 1 to 50 is 25\n"
     ]
    },
    {
     "data": {
      "text/plain": [
       "'Assignment successfully submitted'"
      ]
     },
     "execution_count": 5,
     "metadata": {},
     "output_type": "execute_result"
    }
   ],
   "source": [
    "# @title #### 01. Alternating Sum Even Odd\n",
    "n = 50\n",
    "my_sum = sum([i for i in range(1, n+1) if i % 2 == 0])\n",
    "my_sum -= sum([i for i in range(1, n+1) if i % 2 != 0])\n",
    "# Put your code here:\n",
    "# ---- End of your code ----\n",
    "print(f\"The sum of all even numbers subtracted by all odd numbers from 1 to {n} is {my_sum}\")\n",
    "\n",
    "assignment_id = \"01-control-structures\"\n",
    "question_id = \"01_alternating-sum-even-odd\"\n",
    "submit(student_id, name, assignment_id, str(my_sum), question_id)\n"
   ]
  },
  {
   "cell_type": "code",
   "execution_count": 6,
   "metadata": {},
   "outputs": [
    {
     "name": "stdout",
     "output_type": "stream",
     "text": [
      "The sum of all divisors of 12 is 28\n"
     ]
    },
    {
     "data": {
      "text/plain": [
       "'Assignment successfully submitted'"
      ]
     },
     "execution_count": 6,
     "metadata": {},
     "output_type": "execute_result"
    }
   ],
   "source": [
    "# @title #### 02. Sum of Divisors\n",
    "n = 12\n",
    "my_sum = 0\n",
    "my_sum = sum([i for i in range(1, n + 1) if n % i == 0])\n",
    "    \n",
    "# Put your code here:\n",
    "# ---- End of your code ----\n",
    "print(f\"The sum of all divisors of {n} is {my_sum}\")\n",
    "\n",
    "assignment_id = \"01-control-structures\"\n",
    "question_id = \"02_sum-of-divisors\"\n",
    "submit(student_id, name, assignment_id, str(my_sum), question_id)"
   ]
  },
  {
   "cell_type": "code",
   "execution_count": 9,
   "metadata": {},
   "outputs": [
    {
     "data": {
      "text/plain": [
       "'Assignment successfully submitted'"
      ]
     },
     "execution_count": 9,
     "metadata": {},
     "output_type": "execute_result"
    }
   ],
   "source": [
    "# @title #### 03. Fibonacci Sequence\n",
    "n = 10\n",
    "# Put your code here:\n",
    "# ---- End of your code ----\n",
    "fib = [0,1]\n",
    "for i in range(2,n+1):\n",
    "    fib.append(fib[i-1]+fib[i-2])\n",
    "\n",
    "# print(f\"The {n}th Fibonacci number is {fib[n]}\")    \n",
    "assignment_id = \"01-control-structures\"\n",
    "question_id = \"03_fibonacci-sequence\"\n",
    "submit(student_id, name, assignment_id, str(fib[n]), question_id)"
   ]
  },
  {
   "cell_type": "code",
   "execution_count": null,
   "metadata": {},
   "outputs": [],
   "source": []
  }
 ],
 "metadata": {
  "kernelspec": {
   "display_name": "base",
   "language": "python",
   "name": "python3"
  },
  "language_info": {
   "codemirror_mode": {
    "name": "ipython",
    "version": 3
   },
   "file_extension": ".py",
   "mimetype": "text/x-python",
   "name": "python",
   "nbconvert_exporter": "python",
   "pygments_lexer": "ipython3",
   "version": "3.12.2"
  }
 },
 "nbformat": 4,
 "nbformat_minor": 2
}
