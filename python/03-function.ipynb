{
 "cells": [
  {
   "cell_type": "markdown",
   "metadata": {},
   "source": [
    "### Functions in Python\n",
    "\n",
    "#### Defining and Calling Functions\n",
    "To define a function in Python, use the `def` statement, followed by a function name, parentheses `()`, and a colon `:`. The function body is indented, usually by 4 spaces.\n",
    "\n",
    "Example:\n",
    "\n",
    "```python\n",
    "def greet():\n",
    "    print(\"Hello, World!\")\n",
    "\n",
    "greet()\n",
    "```\n",
    "\n",
    "#### Arguments and Parameters\n",
    "Functions can have input values, called arguments, which are passed to the function when it is called. Parameters are defined within the parentheses `()` in the function definition.\n",
    "\n",
    "Example:\n",
    "\n",
    "```python\n",
    "def greet(name):\n",
    "    print(\"Hello,\", name)\n",
    "\n",
    "greet(\"Alice\")\n",
    "```\n",
    "\n",
    "#### Lambda Functions\n",
    "Lambda functions, also known as anonymous functions, are small, single-expression functions in Python. They are defined using the `lambda` keyword.\n",
    "\n",
    "Example:\n",
    "\n",
    "```python\n",
    "add = lambda x, y: x + y\n",
    "result = add(5, 3)\n",
    "print(result)\n",
    "```\n",
    "\n",
    "#### Built-in Functions\n",
    "Python comes with numerous built-in functions like `sorted()`, `map()`, `filter()`, and `zip()`. These simplify operations on data.\n",
    "\n",
    "Examples:\n",
    "\n",
    "```python\n",
    "# sorted\n",
    "my_list = [3, 2, 5, 1, 4]\n",
    "sorted_list = sorted(my_list)\n",
    "print(sorted_list)\n",
    "\n",
    "# map\n",
    "numbers = [1, 2, 3, 4, 5]\n",
    "squares = list(map(lambda x: x**2, numbers))\n",
    "print(squares)\n",
    "\n",
    "# filter\n",
    "even_numbers = list(filter(lambda x: x % 2 == 0, numbers))\n",
    "print(even_numbers)\n",
    "\n",
    "# zip\n",
    "names = [\"Alice\", \"Bob\", \"Carol\"]\n",
    "ages = [30, 25, 28]\n",
    "combined = list(zip(names, ages))\n",
    "print(combined)\n",
    "```\n"
   ]
  },
  {
   "cell_type": "code",
   "execution_count": 1,
   "metadata": {},
   "outputs": [
    {
     "name": "stdout",
     "output_type": "stream",
     "text": [
      "Requirement already satisfied: rggrader in /home/teguhteja/miniconda3/lib/python3.12/site-packages (0.1.6)\n",
      "Requirement already satisfied: requests in /home/teguhteja/miniconda3/lib/python3.12/site-packages (from rggrader) (2.31.0)\n",
      "Requirement already satisfied: pandas in /home/teguhteja/miniconda3/lib/python3.12/site-packages (from rggrader) (2.2.2)\n",
      "Requirement already satisfied: Pillow in /home/teguhteja/miniconda3/lib/python3.12/site-packages (from rggrader) (10.3.0)\n",
      "Requirement already satisfied: numpy>=1.26.0 in /home/teguhteja/miniconda3/lib/python3.12/site-packages (from pandas->rggrader) (1.26.4)\n",
      "Requirement already satisfied: python-dateutil>=2.8.2 in /home/teguhteja/miniconda3/lib/python3.12/site-packages (from pandas->rggrader) (2.9.0)\n",
      "Requirement already satisfied: pytz>=2020.1 in /home/teguhteja/miniconda3/lib/python3.12/site-packages (from pandas->rggrader) (2024.1)\n",
      "Requirement already satisfied: tzdata>=2022.7 in /home/teguhteja/miniconda3/lib/python3.12/site-packages (from pandas->rggrader) (2024.1)\n",
      "Requirement already satisfied: charset-normalizer<4,>=2 in /home/teguhteja/miniconda3/lib/python3.12/site-packages (from requests->rggrader) (2.0.4)\n",
      "Requirement already satisfied: idna<4,>=2.5 in /home/teguhteja/miniconda3/lib/python3.12/site-packages (from requests->rggrader) (3.7)\n",
      "Requirement already satisfied: urllib3<3,>=1.21.1 in /home/teguhteja/miniconda3/lib/python3.12/site-packages (from requests->rggrader) (2.1.0)\n",
      "Requirement already satisfied: certifi>=2017.4.17 in /home/teguhteja/miniconda3/lib/python3.12/site-packages (from requests->rggrader) (2024.2.2)\n",
      "Requirement already satisfied: six>=1.5 in /home/teguhteja/miniconda3/lib/python3.12/site-packages (from python-dateutil>=2.8.2->pandas->rggrader) (1.16.0)\n",
      "Note: you may need to restart the kernel to use updated packages.\n"
     ]
    }
   ],
   "source": [
    "# Exercises\n",
    "%pip install rggrader\n",
    "\n",
    "# @title #### Student Identity\n",
    "student_id = \"REA6UCWBO\"\n",
    "name = \"Ida Bagus Teguh Teja Murti\""
   ]
  },
  {
   "cell_type": "code",
   "execution_count": 4,
   "metadata": {},
   "outputs": [
    {
     "name": "stdout",
     "output_type": "stream",
     "text": [
      "The area of the circle with radius 5 is 19.634954084936208\n"
     ]
    },
    {
     "data": {
      "text/plain": [
       "'Assignment successfully submitted'"
      ]
     },
     "execution_count": 4,
     "metadata": {},
     "output_type": "execute_result"
    }
   ],
   "source": [
    "# Exercise: Circle Area Function\n",
    "from rggrader import submit\n",
    "import math\n",
    "\n",
    "rad = 5\n",
    "\n",
    "# TODO: Define a function 'calculate_area' that takes a radius as a parameter and returns the area of a circle with that radius.\n",
    "def calculate_circle_area(radius):\n",
    "    # Put your code here:\n",
    "    area = (radius/2) ** 2  * math.pi\n",
    "    # ---- End of your code ----\n",
    "    return area\n",
    "\n",
    "print(f\"The area of the circle with radius {rad} is {calculate_circle_area(rad)}\")\n",
    "\n",
    "# Submit Method\n",
    "assignment_id = \"02-function\"\n",
    "question_id = \"00_circle-area-function\"\n",
    "submit(student_id, name, assignment_id, str(calculate_circle_area(rad)), question_id)\n"
   ]
  },
  {
   "cell_type": "code",
   "execution_count": 8,
   "metadata": {},
   "outputs": [
    {
     "name": "stdout",
     "output_type": "stream",
     "text": [
      "The filtered numbers are [1, 2, 3, 4, 5]\n"
     ]
    },
    {
     "data": {
      "text/plain": [
       "'Assignment successfully submitted'"
      ]
     },
     "execution_count": 8,
     "metadata": {},
     "output_type": "execute_result"
    }
   ],
   "source": [
    "# Exercise: Fun with Lambda and Filter\n",
    "from rggrader import submit\n",
    "\n",
    "# Given a list of positive integers\n",
    "numbers = [1, 2, 3, 4, 5, 6, 7, 8, 9, 10]\n",
    "\n",
    "# TODO: Use a lambda function and the 'filter' function to keep numbers less than 6.\n",
    "# Result should be a list of numbers less than 6.\n",
    "filtered_numbers = list(filter(lambda x : x < 6, numbers))\n",
    "\n",
    "# Put your code here:\n",
    "\n",
    "# ---- End of your code ----\n",
    "\n",
    "print(f\"The filtered numbers are {filtered_numbers}\")\n",
    "\n",
    "# Submit Method\n",
    "assignment_id = \"02-functions\"\n",
    "question_id = \"01_fun-with-lambda-and-filter\"\n",
    "submit(student_id, name, assignment_id, str(filtered_numbers), question_id)\n"
   ]
  },
  {
   "cell_type": "code",
   "execution_count": 9,
   "metadata": {},
   "outputs": [
    {
     "name": "stdout",
     "output_type": "stream",
     "text": [
      "The modified numbers are [2, 4, 6, 8, 10, 12, 14, 16, 18, 20]\n"
     ]
    },
    {
     "data": {
      "text/plain": [
       "'Assignment successfully submitted'"
      ]
     },
     "execution_count": 9,
     "metadata": {},
     "output_type": "execute_result"
    }
   ],
   "source": [
    "# Exercise: Adventures with Map and Filter\n",
    "from rggrader import submit\n",
    "\n",
    "# Given a list of positive integers\n",
    "numbers = [1, 2, 3, 4, 5, 6, 7, 8, 9, 10]\n",
    "\n",
    "# INFO: Use the 'map' function to double the numbers and the 'filter' function to keep numbers less than 15.\n",
    "# Hint: You can use 'map' and 'filter' together.\n",
    "modified_numbers = list(map(lambda x : x * 2, filter(lambda x : x < 15, numbers)))\n",
    "\n",
    "# Put your code here:\n",
    "\n",
    "# ---- End of your code ----\n",
    "\n",
    "print(f\"The modified numbers are {modified_numbers}\")\n",
    "\n",
    "# Submit Method\n",
    "assignment_id = \"02-functions\"\n",
    "question_id = \"02_adventures-with-map-and-filter\"\n",
    "submit(student_id, name, assignment_id, str(modified_numbers), question_id)\n"
   ]
  }
 ],
 "metadata": {
  "kernelspec": {
   "display_name": "base",
   "language": "python",
   "name": "python3"
  },
  "language_info": {
   "codemirror_mode": {
    "name": "ipython",
    "version": 3
   },
   "file_extension": ".py",
   "mimetype": "text/x-python",
   "name": "python",
   "nbconvert_exporter": "python",
   "pygments_lexer": "ipython3",
   "version": "3.12.2"
  }
 },
 "nbformat": 4,
 "nbformat_minor": 2
}
