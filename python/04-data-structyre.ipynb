{
 "cells": [
  {
   "cell_type": "markdown",
   "metadata": {},
   "source": [
    "# Data Structures\n",
    "Data structures are essential for organizing, managing, and storing data in a program. Python provides built-in data structures like Lists, Tuples, Sets, and Dictionaries that offer different functionalities and use cases."
   ]
  },
  {
   "cell_type": "markdown",
   "metadata": {},
   "source": [
    "## List\n",
    "- **Ordering:** Lists are ordered collections.\n",
    "- **Mutability:** Lists are mutable; they can be modified after creation.\n",
    "- **Duplicates:** Lists allow duplicate elements.\n",
    "- **Syntax:** Lists are created using square brackets `[]`."
   ]
  },
  {
   "cell_type": "code",
   "execution_count": null,
   "metadata": {},
   "outputs": [],
   "source": [
    "# Creating a list of student names\n",
    "student_names = [\"Alice\", \"Bob\", \"Charlie\", \"David\", \"Charlie\"]\n",
    "\n",
    "# Adding a student to the list\n",
    "student_names.append(\"Eve\")\n",
    "\n",
    "# Removing a student from the list\n",
    "student_names.remove(\"Bob\")\n",
    "\n",
    "# Iterating through the list of student names\n",
    "for name in student_names:\n",
    "    print(name)"
   ]
  },
  {
   "cell_type": "markdown",
   "metadata": {},
   "source": [
    "## Tuples\n",
    "- **Ordering:** Tuples are ordered collections.\n",
    "- **Mutability:** Tuples are immutable; they cannot be modified after creation.\n",
    "- **Duplicates:** Tuples allow duplicate elements.\n",
    "- **Syntax:** Tuples are created using round brackets `()`."
   ]
  },
  {
   "cell_type": "code",
   "execution_count": null,
   "metadata": {},
   "outputs": [],
   "source": [
    "# Defining coordinates as a tuple\n",
    "coordinates = (12.34, 56.78)\n",
    "\n",
    "# Accessing the longitude and latitude\n",
    "longitude, latitude = coordinates\n",
    "\n",
    "# Tuples can be used as keys in dictionaries\n",
    "capital_cities = {(\"United States\", \"California\"): \"Sacramento\", (\"France\", \"Île-de-France\"): \"Paris\"}\n",
    "\n",
    "# Accessing the capital city of California, United States\n",
    "capital = capital_cities[(\"United States\", \"California\")]\n",
    "print(capital)"
   ]
  },
  {
   "cell_type": "markdown",
   "metadata": {},
   "source": [
    "## Sets\n",
    "- **Ordering:** Sets are unordered collections.\n",
    "- **Mutability:** Sets are mutable; they can be modified after creation.\n",
    "- **Duplicates:** Sets do not allow duplicate elements.\n",
    "- **Syntax:** Sets are created using curly brackets `{}`."
   ]
  },
  {
   "cell_type": "code",
   "execution_count": null,
   "metadata": {},
   "outputs": [],
   "source": [
    "# Creating sets of unique hobbies for two people\n",
    "hobbies_alice = {\"reading\", \"hiking\", \"cooking\"}\n",
    "hobbies_bob = {\"cooking\", \"painting\", \"cycling\"}\n",
    "\n",
    "# Finding common hobbies\n",
    "common_hobbies = hobbies_alice.intersection(hobbies_bob)\n",
    "print(\"Common hobbies:\", common_hobbies)\n",
    "\n",
    "# Finding the union of hobbies\n",
    "all_hobbies = hobbies_alice.union(hobbies_bob)\n",
    "print(\"All hobbies:\", all_hobbies)"
   ]
  },
  {
   "cell_type": "markdown",
   "metadata": {},
   "source": [
    "## Dictionaries\n",
    "- **Ordering:** Dictionaries are unordered collections.\n",
    "- **Mutability:** Dictionaries are mutable; they can be modified after creation.\n",
    "- **Duplicates:** Dictionaries do not allow duplicate keys, but values can be duplicated.\n",
    "- **Structure:** Dictionaries consist of key-value pairs.\n",
    "- **Syntax:** Dictionaries are created using curly brackets `{}` with key-value pairs separated by colons."
   ]
  },
  {
   "cell_type": "code",
   "execution_count": null,
   "metadata": {},
   "outputs": [],
   "source": [
    "# Creating a dictionary that maps student names to their ages\n",
    "student_ages = {\"Alice\": 20, \"Bob\": 22, \"Charlie\": 21}\n",
    "\n",
    "# Adding a new student to the dictionary\n",
    "student_ages[\"David\"] = 23\n",
    "\n",
    "# Updating a student's age\n",
    "student_ages[\"Alice\"] = 21\n",
    "\n",
    "# Iterating through the dictionary and printing student names and ages\n",
    "for name, age in student_ages.items():\n",
    "    print(name, \"is\", age, \"years old\")"
   ]
  },
  {
   "cell_type": "markdown",
   "metadata": {},
   "source": [
    "## Exercise Data Structures"
   ]
  },
  {
   "cell_type": "code",
   "execution_count": 2,
   "metadata": {},
   "outputs": [
    {
     "name": "stdout",
     "output_type": "stream",
     "text": [
      "Requirement already satisfied: rggrader in /home/teguhteja/miniconda3/lib/python3.12/site-packages (0.1.6)\n",
      "Requirement already satisfied: requests in /home/teguhteja/miniconda3/lib/python3.12/site-packages (from rggrader) (2.31.0)\n",
      "Requirement already satisfied: pandas in /home/teguhteja/miniconda3/lib/python3.12/site-packages (from rggrader) (2.2.2)\n",
      "Requirement already satisfied: Pillow in /home/teguhteja/miniconda3/lib/python3.12/site-packages (from rggrader) (10.3.0)\n",
      "Requirement already satisfied: numpy>=1.26.0 in /home/teguhteja/miniconda3/lib/python3.12/site-packages (from pandas->rggrader) (1.26.4)\n",
      "Requirement already satisfied: python-dateutil>=2.8.2 in /home/teguhteja/miniconda3/lib/python3.12/site-packages (from pandas->rggrader) (2.9.0)\n",
      "Requirement already satisfied: pytz>=2020.1 in /home/teguhteja/miniconda3/lib/python3.12/site-packages (from pandas->rggrader) (2024.1)\n",
      "Requirement already satisfied: tzdata>=2022.7 in /home/teguhteja/miniconda3/lib/python3.12/site-packages (from pandas->rggrader) (2024.1)\n",
      "Requirement already satisfied: charset-normalizer<4,>=2 in /home/teguhteja/miniconda3/lib/python3.12/site-packages (from requests->rggrader) (2.0.4)\n",
      "Requirement already satisfied: idna<4,>=2.5 in /home/teguhteja/miniconda3/lib/python3.12/site-packages (from requests->rggrader) (3.7)\n",
      "Requirement already satisfied: urllib3<3,>=1.21.1 in /home/teguhteja/miniconda3/lib/python3.12/site-packages (from requests->rggrader) (2.1.0)\n",
      "Requirement already satisfied: certifi>=2017.4.17 in /home/teguhteja/miniconda3/lib/python3.12/site-packages (from requests->rggrader) (2024.2.2)\n",
      "Requirement already satisfied: six>=1.5 in /home/teguhteja/miniconda3/lib/python3.12/site-packages (from python-dateutil>=2.8.2->pandas->rggrader) (1.16.0)\n",
      "Note: you may need to restart the kernel to use updated packages.\n"
     ]
    }
   ],
   "source": [
    "%pip install rggrader\n",
    "\n",
    "# @title #### Student Identity\n",
    "student_id = \"REA6UCWBO\"\n",
    "name = \"Ida Bagus Teguh Teja Murti\""
   ]
  },
  {
   "cell_type": "code",
   "execution_count": 6,
   "metadata": {},
   "outputs": [
    {
     "name": "stdout",
     "output_type": "stream",
     "text": [
      "The initial fruits list is ['Apple', 'Banana', 'Cherry']\n",
      "The fruit removed is Banana\n",
      "The final fruits list is ['Apple', 'Cherry', 'Dragonfruit', 'Elderberry']\n"
     ]
    },
    {
     "data": {
      "text/plain": [
       "'Assignment successfully submitted'"
      ]
     },
     "execution_count": 6,
     "metadata": {},
     "output_type": "execute_result"
    }
   ],
   "source": [
    "# @title #### 00. Fun with Fruits\n",
    "from rggrader import submit\n",
    "\n",
    "# TODO: Create a list 'fruits' that contains \"Apple\", \"Banana\", and \"Cherry\".\n",
    "# Then remove \"Banana\" from the 'fruits' list and append \"Dragonfruit\" and \"Elderberry\".\n",
    "fruits = []\n",
    "\n",
    "# Put your code here:\n",
    "fruits = [\"Apple\", \"Banana\", \"Cherry\"]\n",
    "print(f\"The initial fruits list is {fruits}\")\n",
    "fruits.remove(\"Banana\")\n",
    "print(f\"The fruit removed is Banana\")\n",
    "fruits += [\"Dragonfruit\",\"Elderberry\"]\n",
    "\n",
    "# ---- End of your code ----\n",
    "\n",
    "print(f\"The final fruits list is {fruits}\")\n",
    "\n",
    "# Submit Method\n",
    "assignment_id = \"03-data-structures\"\n",
    "question_id = \"00_fun_with_fruits\"\n",
    "submit(student_id, name, assignment_id, \", \".join(fruits), question_id)\n",
    "\n",
    "# Example:\n",
    "# List: [\"Peach\", \"Pear\", \"Plum\"]\n",
    "# Remove: \"Pear\"\n",
    "# Append: [\"Grape\", \"Guava\"]\n",
    "# Output: ['Peach', 'Plum', 'Grape', 'Guava']"
   ]
  },
  {
   "cell_type": "code",
   "execution_count": 7,
   "metadata": {},
   "outputs": [
    {
     "name": "stdout",
     "output_type": "stream",
     "text": [
      "The coordinates for Brussels are {50.85, 4.35}\n"
     ]
    },
    {
     "data": {
      "text/plain": [
       "'Assignment successfully submitted'"
      ]
     },
     "execution_count": 7,
     "metadata": {},
     "output_type": "execute_result"
    }
   ],
   "source": [
    "# @title #### 01. Trip to Brussels\n",
    "from rggrader import submit\n",
    "\n",
    "# TODO: You're planning a trip to Brussels! Create a tuple 'coordinates' that represents a longitude \n",
    "#       of 50.85 and a latitude of 4.35 (which is the coordinates of Brussels). \n",
    "\n",
    "\n",
    "# Put your code here:\n",
    "coordinates = {50.85, 4.35}\n",
    "\n",
    "# ---- End of your code ----\n",
    "\n",
    "print(f\"The coordinates for Brussels are {coordinates}\")\n",
    "\n",
    "# Submit Method\n",
    "assignment_id = \"03-data-structures\"\n",
    "question_id = \"01_trip_to_brussels\"\n",
    "submit(student_id, name, assignment_id, \", \".join(map(str, coordinates)), question_id)\n",
    "\n",
    "# Example:\n",
    "# Longitude: 60.17\n",
    "# Latitude: 24.94\n",
    "# Output: (60.17, 24.94)"
   ]
  },
  {
   "cell_type": "code",
   "execution_count": 8,
   "metadata": {},
   "outputs": [
    {
     "name": "stdout",
     "output_type": "stream",
     "text": [
      "The final ages dictionary is {'Alice': 26, 'Bob': 30, 'Charlie': 35, 'David': 40}\n"
     ]
    },
    {
     "data": {
      "text/plain": [
       "'Assignment successfully submitted'"
      ]
     },
     "execution_count": 8,
     "metadata": {},
     "output_type": "execute_result"
    }
   ],
   "source": [
    "# @title #### 02. Birthday Party\n",
    "from rggrader import submit\n",
    "\n",
    "# TODO: You're throwing a birthday party! Create a dictionary 'ages' that contains key-value pairs of your friends' names \n",
    "#       and their ages: \"Alice\": 25, \"Bob\": 30, \"Charlie\": 35.\n",
    "# Alice just had her birthday! So, change the age of \"Alice\" to 26. Then, add your friend \"David\" who is 40 to the party.\n",
    "\n",
    "\n",
    "# Put your code here:\n",
    "ages = { \"Alice\": 25, \"Bob\": 30, \"Charlie\": 35}\n",
    "ages['Alice'] += 1\n",
    "ages['David'] = 40\n",
    "\n",
    "# ---- End of your code ----\n",
    "\n",
    "print(f\"The final ages dictionary is {ages}\")\n",
    "\n",
    "# Submit Method\n",
    "assignment_id = \"03-data-structures\"\n",
    "question_id = \"02_birthday_party\"\n",
    "submit(student_id, name, assignment_id, str(ages), question_id)\n",
    "\n",
    "# Example:\n",
    "# Dictionary: {\"John\": 28, \"Linda\": 25, \"Peter\": 30}\n",
    "# Change Age: John turns 29\n",
    "# Add New Friend: {\"Mary\": 32}\n",
    "# Output: {\"John\": 29, \"Linda\": 25, \"Peter\": 30, \"Mary\": 32}"
   ]
  },
  {
   "cell_type": "code",
   "execution_count": 9,
   "metadata": {},
   "outputs": [
    {
     "name": "stdout",
     "output_type": "stream",
     "text": [
      "The count of odd numbers is 4 and the count of even numbers is 5\n"
     ]
    },
    {
     "data": {
      "text/plain": [
       "'Assignment successfully submitted'"
      ]
     },
     "execution_count": 9,
     "metadata": {},
     "output_type": "execute_result"
    }
   ],
   "source": [
    "# @title #### 03. Count Odd and Even\n",
    "from rggrader import submit\n",
    "\n",
    "# TODO: Create a list 'series' that contains the numbers 1, 2, 3, 4, 5, 6, 7, 8, 9.\n",
    "# Write a program to count the number of odd and even numbers from a series of numbers.\n",
    "\n",
    "series = [ 1, 2, 3, 4, 5, 6, 7, 8, 9]\n",
    "odd_count = len([num for num in series if num % 2 != 1])\n",
    "even_count = len([num for num in series if num % 2 != 0])\n",
    "\n",
    "# Put your code here:\n",
    "\n",
    "\n",
    "# ---- End of your code ----\n",
    "\n",
    "print(f\"The count of odd numbers is {odd_count} and the count of even numbers is {even_count}\")\n",
    "\n",
    "# Submit Method\n",
    "assignment_id = \"01-control-structures\"\n",
    "question_id = \"03_count-odd-even\"\n",
    "submit(student_id, name, assignment_id, str(odd_count) + ' ' + str(even_count), question_id)\n",
    "\n",
    "# Example:\n",
    "# Series: [2, 4, 6, 7, 9, 11, 13, 15]\n",
    "# Output: The count of odd numbers is 5 and the count of even numbers is 3"
   ]
  }
 ],
 "metadata": {
  "kernelspec": {
   "display_name": "base",
   "language": "python",
   "name": "python3"
  },
  "language_info": {
   "codemirror_mode": {
    "name": "ipython",
    "version": 3
   },
   "file_extension": ".py",
   "mimetype": "text/x-python",
   "name": "python",
   "nbconvert_exporter": "python",
   "pygments_lexer": "ipython3",
   "version": "3.12.2"
  }
 },
 "nbformat": 4,
 "nbformat_minor": 2
}
