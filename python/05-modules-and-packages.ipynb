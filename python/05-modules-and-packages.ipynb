{
 "cells": [
  {
   "cell_type": "markdown",
   "metadata": {},
   "source": [
    "## Modules and Packages\n",
    "\n",
    "Modules and packages are useful for organization of Python code making our code clean, modular, and easy to maintain.\n",
    "\n",
    "### Python Modules\n",
    "In Python, a module is a file containing Python code, which can include functions, classes, or variables. Modules help us to organize and reuse our code effectively.\n",
    "\n",
    "#### Create a Module\n",
    "To create a module, we simply write our Python code into a file and give it a name with the `.py` extension. In this case, we shall name it `mod.py`.\n",
    "\n",
    "```python\n",
    "# mod.py\n",
    "s = \"I'm learning Python in order to become an AI engineer.\"\n",
    "a = [100, 200, 300]\n",
    "\n",
    "def foo(arg):\n",
    "    print(f'arg = {arg}')\n",
    "```\n",
    "\n",
    "#### Using Modules\n",
    "To use a module, we use the keyword `import`. After importing a module, you can use its functions and classes by using the module name followed by a dot, and then the function or class you want to use.\n",
    "\n",
    "```python\n",
    "import mod\n",
    "print(mod.s)\n",
    "\n",
    "mod.a\n",
    "\n",
    "mod.foo(['quux', 'corge', 'grault'])\n",
    "```\n",
    "\n",
    "### Package Management with pip\n",
    "`pip` is the package manager for Python, and it allows you to easily install, update, and remove packages. Packages are collections of modules that provide additional functionality. You can download packages from the Python Package Index (PyPI).\n",
    "\n",
    "#### Basic Commands\n",
    "Here is a list of basic commands for package management with `pip`:\n",
    "\n",
    "- To install a package: `pip install package_name`\n",
    "- To update a package: `pip install --upgrade package_name`\n",
    "- To remove a package: `pip uninstall package_name`\n",
    "- To list installed packages: `pip list`\n",
    "\n",
    "#### Requirements File\n",
    "A `requirements.txt` file helps you manage package dependencies for your project. It lists the package names with their version numbers that your project depends on.\n",
    "\n",
    "```\n",
    "numpy==1.21.2\n",
    "pandas==1.3.3\n",
    "matplotlib==3.4.3\n",
    "```\n",
    "\n",
    "Use the command `pip install -r requirements.txt` to update the installed packages according to the new `requirements.txt` file.\n",
    "\n",
    "#### Using Modules from Packages\n",
    "First, we need to install the packages using `pip`:\n",
    "\n",
    "```\n",
    "pip install pandas numpy\n",
    "```\n",
    "\n",
    "Then, you can import a module in your Python script using the `import` statement.\n",
    "\n",
    "```python\n",
    "import pandas as pd\n",
    "import numpy as np\n",
    "\n",
    "# Create a simple dataset\n",
    "data = {\n",
    "    'Name': ['Alice', 'Bob', 'Charlie', 'David'],\n",
    "    'Age': [25, 30, 35, 40],\n",
    "    'Salary': [50000, 55000, 60000, 65000]\n",
    "}\n",
    "\n",
    "# Convert the dataset to a pandas DataFrame\n",
    "df = pd.DataFrame(data)\n",
    "\n",
    "# Calculate the mean of the Age column using numpy\n",
    "mean_age = np.mean(df['Age'])\n",
    "print(f'Mean Age: {mean_age}')\n",
    "\n",
    "# Calculate the sum of the Salary column using pandas\n",
    "total_salary = df['Salary'].sum()\n",
    "print(f'Total Salary: {total_salary}')\n",
    "\n",
    "# Add a new column named 'Salary_with_bonus' to the DataFrame\n",
    "df['Salary_with_bonus'] = df['Salary'] * 1.1\n",
    "print(df)\n",
    "```\n",
    "\n",
    "### Exercise: Modules and Packages\n"
   ]
  },
  {
   "cell_type": "code",
   "execution_count": null,
   "metadata": {},
   "outputs": [],
   "source": [
    "%pip install rggrader\n",
    "\n",
    "# @title #### Student Identity\n",
    "student_id = \"REA6UCWBO\"\n",
    "name = \"Ida Bagus Teguh Teja Murti\""
   ]
  },
  {
   "cell_type": "code",
   "execution_count": 3,
   "metadata": {},
   "outputs": [
    {
     "data": {
      "text/plain": [
       "'Assignment successfully submitted'"
      ]
     },
     "execution_count": 3,
     "metadata": {},
     "output_type": "execute_result"
    }
   ],
   "source": [
    "#### Install and Use a Package\n",
    "\n",
    "from rggrader import submit\n",
    "import numpy as np\n",
    "\n",
    "# TODO:\n",
    "# 1. Import the numpy package with alias \"np\".\n",
    "# 2. Use numpy's function that can calculate the average of the list [1, 2, 3, 4, 5] and assign the output to a variable named 'average'.\n",
    "\n",
    "# Put your code here:\n",
    "average = np.average([1, 2, 3, 4, 5])\n",
    "\n",
    "# ---- End of your code ----\n",
    "\n",
    "# Do not modify the code below. It is used to submit your solution.\n",
    "assignment_id = \"05-modules-and-packages\"\n",
    "question_id = \"00_install_use_package\"\n",
    "submit(student_id, name, assignment_id, str(average), question_id)\n"
   ]
  },
  {
   "cell_type": "code",
   "execution_count": 4,
   "metadata": {},
   "outputs": [
    {
     "data": {
      "text/plain": [
       "'Assignment successfully submitted'"
      ]
     },
     "execution_count": 4,
     "metadata": {},
     "output_type": "execute_result"
    }
   ],
   "source": [
    "#### Standard Deviation of List Elements\n",
    "from rggrader import submit\n",
    "\n",
    "# TODO:\n",
    "# 1. Import numpy package with alias \"np\".\n",
    "# 2. Use numpy's function that can calculate the standard deviation of elements in the list [1, 2, 3, 4, 5] and assign the output to a variable named 'std_dev'.\n",
    "\n",
    "# Put your code here:\n",
    "std_dev = np.std([1, 2, 3, 4, 5])\n",
    "\n",
    "# ---- End of your code ----\n",
    "\n",
    "# Do not modify the code below. It is used to submit your solution.\n",
    "assignment_id = \"05-modules-and-packages\"\n",
    "question_id = \"02_std_dev_of_list\"\n",
    "submit(student_id, name, assignment_id, str(std_dev), question_id)\n"
   ]
  },
  {
   "cell_type": "code",
   "execution_count": 8,
   "metadata": {},
   "outputs": [
    {
     "name": "stdout",
     "output_type": "stream",
     "text": [
      "      Name  Age\n",
      "0     Anna   21\n",
      "1      Bob   25\n",
      "2  Charlie   30\n"
     ]
    },
    {
     "data": {
      "text/plain": [
       "'Assignment successfully submitted'"
      ]
     },
     "execution_count": 8,
     "metadata": {},
     "output_type": "execute_result"
    }
   ],
   "source": [
    "#### Create a DataFrame using pandas\n",
    "from rggrader import submit\n",
    "import pandas as pd\n",
    "\n",
    "# TODO:\n",
    "# 1. Import pandas package with alias \"pd\".\n",
    "# 2. Use pandas DataFrame constructor to create a DataFrame from the dictionary: {\"Name\": [\"Anna\", \"Bob\", \"Charlie\"], \"Age\": [21, 25, 30]}.\n",
    "#    Assign the output to a variable named 'df'.\n",
    "\n",
    "# Put your code here:\n",
    "data = {\"Name\": [\"Anna\", \"Bob\", \"Charlie\"], \"Age\": [21, 25, 30]}\n",
    "df = pd.DataFrame(data)\n",
    "print(df.to_string())\n",
    "\n",
    "# ---- End of your code ----\n",
    "\n",
    "# Do not modify the code below. It is used to submit your solution.\n",
    "assignment_id = \"05-modules-and-packages\"\n",
    "question_id = \"03_create_dataframe\"\n",
    "submit(student_id, name, assignment_id, df.to_string(), question_id)\n"
   ]
  }
 ],
 "metadata": {
  "kernelspec": {
   "display_name": "base",
   "language": "python",
   "name": "python3"
  },
  "language_info": {
   "codemirror_mode": {
    "name": "ipython",
    "version": 3
   },
   "file_extension": ".py",
   "mimetype": "text/x-python",
   "name": "python",
   "nbconvert_exporter": "python",
   "pygments_lexer": "ipython3",
   "version": "3.12.2"
  }
 },
 "nbformat": 4,
 "nbformat_minor": 2
}
