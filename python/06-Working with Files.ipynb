{
 "cells": [
  {
   "cell_type": "markdown",
   "metadata": {},
   "source": [
    "# Working with Files\n",
    "Python provides built-in functions to handle file manipulation from creating, reading to writing.\n",
    "\n",
    "## Reading Text Files\n",
    "To read a text file in Python, you can use the built-in `open()` function with the desired file path and mode. The most common modes are:\n",
    "\n",
    "- **'r'**: read (default mode)\n",
    "- **'w'**: write\n",
    "- **'a'**: append\n",
    "- **'x'**: create (and write)\n",
    "\n",
    "Here’s an example of reading a text file:\n",
    "\n",
    "```python\n",
    "with open('file.txt', 'r') as file:\n",
    "    data = file.read()\n",
    "    print(data)\n",
    "```\n",
    "\n",
    "## Writing Text Files\n",
    "To write data to a text file, you can use the `open()` function with the **'w'** (write) or **'a'** (append) mode.\n",
    "\n",
    "In this example, we write data to a file:\n",
    "\n",
    "```python\n",
    "data = \"This is a text file.\"\n",
    "\n",
    "with open('file.txt', 'w') as file:\n",
    "    file.write(data)\n",
    "```\n",
    "\n",
    "## Example\n",
    "Suppose you have a CSV file with user data that needs to be cleaned and transformed before being saved into a new file. The CSV file has the following columns: **user_id, name, email, and age**.\n",
    "\n",
    "### Sample CSV Data\n",
    "```csv\n",
    "user_id,name,email,age\n",
    "1,John Doe,johndoe@example.com,32\n",
    "2,Jane Smith,janesmith@example.com,28\n",
    "3,James Brown,jamesbrown@example.com,55\n",
    "```\n",
    "\n",
    "The following Python script reads the CSV file, removes all users aged below 30, and saves the new data into another file.\n",
    "\n",
    "```python\n",
    "import csv\n",
    "\n",
    "input_file = 'users.csv'\n",
    "output_file = 'filtered_users.csv'\n",
    "\n",
    "with open(input_file, 'r') as infile, open(output_file, 'w', newline='') as outfile:\n",
    "    csv_reader = csv.DictReader(infile)\n",
    "    fieldnames = csv_reader.fieldnames\n",
    "\n",
    "    csv_writer = csv.DictWriter(outfile, fieldnames=fieldnames)\n",
    "    csv_writer.writeheader()\n",
    "\n",
    "    for row in csv_reader:\n",
    "        if int(row['age']) >= 30:\n",
    "            csv_writer.writerow(row)\n",
    "```\n"
   ]
  },
  {
   "cell_type": "code",
   "execution_count": 1,
   "metadata": {},
   "outputs": [
    {
     "name": "stdout",
     "output_type": "stream",
     "text": [
      "Requirement already satisfied: rggrader in /home/teguhteja/miniconda3/lib/python3.12/site-packages (0.1.6)\n",
      "Requirement already satisfied: requests in /home/teguhteja/miniconda3/lib/python3.12/site-packages (from rggrader) (2.31.0)\n",
      "Requirement already satisfied: pandas in /home/teguhteja/miniconda3/lib/python3.12/site-packages (from rggrader) (2.2.2)\n",
      "Requirement already satisfied: Pillow in /home/teguhteja/miniconda3/lib/python3.12/site-packages (from rggrader) (10.3.0)\n",
      "Requirement already satisfied: numpy>=1.26.0 in /home/teguhteja/miniconda3/lib/python3.12/site-packages (from pandas->rggrader) (1.26.4)\n",
      "Requirement already satisfied: python-dateutil>=2.8.2 in /home/teguhteja/miniconda3/lib/python3.12/site-packages (from pandas->rggrader) (2.9.0)\n",
      "Requirement already satisfied: pytz>=2020.1 in /home/teguhteja/miniconda3/lib/python3.12/site-packages (from pandas->rggrader) (2024.1)\n",
      "Requirement already satisfied: tzdata>=2022.7 in /home/teguhteja/miniconda3/lib/python3.12/site-packages (from pandas->rggrader) (2024.1)\n",
      "Requirement already satisfied: charset-normalizer<4,>=2 in /home/teguhteja/miniconda3/lib/python3.12/site-packages (from requests->rggrader) (2.0.4)\n",
      "Requirement already satisfied: idna<4,>=2.5 in /home/teguhteja/miniconda3/lib/python3.12/site-packages (from requests->rggrader) (3.7)\n",
      "Requirement already satisfied: urllib3<3,>=1.21.1 in /home/teguhteja/miniconda3/lib/python3.12/site-packages (from requests->rggrader) (2.1.0)\n",
      "Requirement already satisfied: certifi>=2017.4.17 in /home/teguhteja/miniconda3/lib/python3.12/site-packages (from requests->rggrader) (2024.2.2)\n",
      "Requirement already satisfied: six>=1.5 in /home/teguhteja/miniconda3/lib/python3.12/site-packages (from python-dateutil>=2.8.2->pandas->rggrader) (1.16.0)\n",
      "Note: you may need to restart the kernel to use updated packages.\n"
     ]
    }
   ],
   "source": [
    "# Exercise: Writing to a File\n",
    "# @title #### Student Identity\n",
    "\n",
    "%pip install rggrader\n",
    "\n",
    "# @title #### Student Identity\n",
    "student_id = \"REA6UCWBO\"\n",
    "name = \"Ida Bagus Teguh Teja Murti\""
   ]
  },
  {
   "cell_type": "code",
   "execution_count": 2,
   "metadata": {},
   "outputs": [
    {
     "data": {
      "text/plain": [
       "'Assignment successfully submitted'"
      ]
     },
     "execution_count": 2,
     "metadata": {},
     "output_type": "execute_result"
    }
   ],
   "source": [
    "\n",
    "# @title #### 00. Read File\n",
    "from rggrader import submit\n",
    "\n",
    "# TODO:\n",
    "# 1. In Google Colab, navigate to the left sidebar and click on the file folder icon 📁.\n",
    "#    Create a new text file named 'output.txt' by right clicking in the file panel and selecting 'New File'.\n",
    "# 2. Assume that you need to write the string \"Hello, OpenAI!\" to 'output.txt'.\n",
    "# 3. Write a Python code that opens 'output.txt' in write mode and writes this string to the file.\n",
    "# 4. Assign the string \"Hello, OpenAI!\" to a variable named 'content'.\n",
    "\n",
    "# Note: This exercise is for demonstrating that you know the appropriate Python code for writing to a file.\n",
    "# The actual file writing won't occur.\n",
    "\n",
    "# Put your code here:\n",
    "content = \"Hello, OpenAI!\"\n",
    "with open('output.txt', 'w') as file:\n",
    "    file.write(content)\n",
    "\n",
    "# ---- End of your code ----\n",
    "\n",
    "# Do not modify the code below. It is used to submit your solution.\n",
    "assignment_id = \"06-working-with-files\"\n",
    "question_id = \"00_read_file\"\n",
    "submit(student_id, name, assignment_id, content, question_id)\n"
   ]
  }
 ],
 "metadata": {
  "kernelspec": {
   "display_name": "base",
   "language": "python",
   "name": "python3"
  },
  "language_info": {
   "codemirror_mode": {
    "name": "ipython",
    "version": 3
   },
   "file_extension": ".py",
   "mimetype": "text/x-python",
   "name": "python",
   "nbconvert_exporter": "python",
   "pygments_lexer": "ipython3",
   "version": "3.12.2"
  }
 },
 "nbformat": 4,
 "nbformat_minor": 2
}
