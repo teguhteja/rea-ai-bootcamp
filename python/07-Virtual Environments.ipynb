{
 "cells": [
  {
   "cell_type": "markdown",
   "metadata": {},
   "source": [
    "# Virtual Environments\n",
    "\n",
    "Creating and managing virtual environments in Python is essential when working with multiple projects, as it allows you to maintain isolated environments for each project, preventing conflicts between package versions."
   ]
  },
  {
   "cell_type": "markdown",
   "metadata": {},
   "source": [
    "#### Creating a Virtual Environment\n",
    "\n",
    "To create a virtual environment, you can use Python’s built-in `venv` module for Python 3.3+ or the `virtualenv` package for earlier versions of Python.\n",
    "\n",
    "**Using `venv` for Python 3.3+**\n",
    "```bash\n",
    "python -m venv my_venv\n",
    "```\n",
    "\n",
    "**Using `virtualenv` for earlier versions**\n",
    "```bash\n",
    "virtualenv my_venv\n",
    "```"
   ]
  },
  {
   "cell_type": "code",
   "execution_count": null,
   "metadata": {},
   "outputs": [],
   "source": [
    "# Example: Creating a virtual environment using venv\n",
    "import os\n",
    "os.system('python -m venv my_venv')"
   ]
  },
  {
   "cell_type": "markdown",
   "metadata": {},
   "source": [
    "#### Activating the Virtual Environment\n",
    "\n",
    "Activate the virtual environment to modify the current shell environment variables and ensure that the appropriate Python interpreter and packages are used.\n",
    "\n",
    "**On Windows:**\n",
    "```bash\n",
    "my_venv\\Scripts\\activate\n",
    "```\n",
    "\n",
    "**On macOS/Linux:**\n",
    "```bash\n",
    "source my_venv/bin/activate\n",
    "```"
   ]
  },
  {
   "cell_type": "markdown",
   "metadata": {},
   "source": [
    "#### Package Management\n",
    "\n",
    "Once a virtual environment is activated, you can use pip to install packages specifically for that environment. These packages won’t affect the global Python interpreter or any other virtual environments.\n",
    "\n",
    "Example: Installing numpy, pandas, and matplotlib packages:\n",
    "```bash\n",
    "pip install numpy pandas matplotlib\n",
    "```"
   ]
  },
  {
   "cell_type": "code",
   "execution_count": null,
   "metadata": {},
   "outputs": [],
   "source": [
    "# Example: Installing packages in a virtual environment\n",
    "import os\n",
    "os.system('pip install numpy pandas matplotlib')"
   ]
  },
  {
   "cell_type": "markdown",
   "metadata": {},
   "source": [
    "#### Deactivating the Virtual Environment\n",
    "\n",
    "When you’re done working with the virtual environment, deactivate it by running the following command:\n",
    "```bash\n",
    "deactivate\n",
    "```\n",
    "This returns you back to the global Python interpreter."
   ]
  },
  {
   "cell_type": "markdown",
   "metadata": {},
   "source": [
    "### Summary\n",
    "\n",
    "Advantages of using a virtual environment for Python projects:\n",
    "- Helps maintain project-specific dependencies.\n",
    "- Improves reproducibility.\n",
    "- Provides a consistent development environment.\n",
    "- Simplifies debugging and testing processes.\n",
    "- Simplifies deployment."
   ]
  }
 ],
 "metadata": {
  "kernelspec": {
   "display_name": "base",
   "language": "python",
   "name": "python3"
  },
  "language_info": {
   "name": "python",
   "version": "3.12.2"
  }
 },
 "nbformat": 4,
 "nbformat_minor": 2
}
