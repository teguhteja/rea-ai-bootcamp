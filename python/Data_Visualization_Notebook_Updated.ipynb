{
 "cells": [
  {
   "cell_type": "markdown",
   "id": "e8650d17",
   "metadata": {},
   "source": [
    "# Data Visualization Overview"
   ]
  },
  {
   "cell_type": "markdown",
   "id": "07720158",
   "metadata": {},
   "source": [
    "\n",
    "Data visualization is crucial in understanding complex data sets and deriving insights. \n",
    "Here are some aspects covered in this notebook:\n",
    "- Introduction to Data Visualization and its importance.\n",
    "- Basic plotting techniques using Matplotlib.\n",
    "- Integrating Matplotlib with libraries like Pandas and NumPy.\n",
    "- Advanced visualizations using Seaborn and other tools.\n",
    "\n",
    "---\n"
   ]
  },
  {
   "cell_type": "markdown",
   "id": "ec1c4a11",
   "metadata": {},
   "source": [
    "## 1. Installing Required Libraries"
   ]
  },
  {
   "cell_type": "code",
   "execution_count": null,
   "id": "2ec26015",
   "metadata": {},
   "outputs": [],
   "source": [
    "\n",
    "# Install matplotlib and seaborn if not already installed\n",
    "!pip install matplotlib seaborn pandas\n"
   ]
  },
  {
   "cell_type": "markdown",
   "id": "1cfc6674",
   "metadata": {},
   "source": [
    "## 2. Basic Line Plot Example"
   ]
  },
  {
   "cell_type": "code",
   "execution_count": null,
   "id": "a2ccb866",
   "metadata": {},
   "outputs": [],
   "source": [
    "\n",
    "import matplotlib.pyplot as plt\n",
    "\n",
    "# Sample data for a basic line plot\n",
    "x = [1, 2, 3, 4, 5]\n",
    "y = [1, 4, 9, 16, 25]\n",
    "\n",
    "# Creating a simple line plot\n",
    "plt.plot(x, y, label=\"y = x^2\")\n",
    "plt.xlabel(\"X-Axis\")\n",
    "plt.ylabel(\"Y-Axis\")\n",
    "plt.title(\"Basic Line Plot\")\n",
    "plt.legend()\n",
    "plt.show()\n"
   ]
  },
  {
   "cell_type": "markdown",
   "id": "247261a9",
   "metadata": {},
   "source": [
    "## 3. Data Integration: Pandas and Matplotlib"
   ]
  },
  {
   "cell_type": "code",
   "execution_count": null,
   "id": "623300d9",
   "metadata": {},
   "outputs": [],
   "source": [
    "\n",
    "import pandas as pd\n",
    "\n",
    "# Load sample Airbnb data\n",
    "url = 'https://storage.googleapis.com/rg-ai-bootcamp/visualization/airbnb-data.csv'\n",
    "airbnb_df = pd.read_csv(url)\n",
    "\n",
    "# Displaying the first few rows of the dataset\n",
    "airbnb_df.head()\n"
   ]
  },
  {
   "cell_type": "markdown",
   "id": "33f45ae2",
   "metadata": {},
   "source": [
    "### Plotting a Histogram of Prices"
   ]
  },
  {
   "cell_type": "code",
   "execution_count": null,
   "id": "c03c1986",
   "metadata": {},
   "outputs": [],
   "source": [
    "\n",
    "import matplotlib.pyplot as plt\n",
    "\n",
    "# Plot histogram of 'price' column\n",
    "airbnb_df['price'].plot(kind='hist', bins=30, rwidth=0.8)\n",
    "plt.title('Price Distribution')\n",
    "plt.xlabel('Price')\n",
    "plt.ylabel('Frequency')\n",
    "plt.show()\n"
   ]
  },
  {
   "cell_type": "markdown",
   "id": "a6f5641b",
   "metadata": {},
   "source": [
    "## 4. Correlation Matrix Visualization with Seaborn"
   ]
  },
  {
   "cell_type": "code",
   "execution_count": null,
   "id": "0a9ba3db",
   "metadata": {},
   "outputs": [],
   "source": [
    "\n",
    "import seaborn as sns\n",
    "import numpy as np\n",
    "\n",
    "# Compute correlation matrix\n",
    "corr = airbnb_df.corr(numeric_only=True)\n",
    "\n",
    "# Generate a mask for the upper triangle\n",
    "mask = np.triu(np.ones_like(corr, dtype=bool))\n",
    "\n",
    "# Create a heatmap\n",
    "sns.heatmap(corr, mask=mask, annot=True, fmt=\".2f\", cmap='coolwarm')\n",
    "plt.title(\"Correlation Matrix\")\n",
    "plt.show()\n"
   ]
  },
  {
   "cell_type": "markdown",
   "id": "232d2e01",
   "metadata": {},
   "source": [
    "## 5. Parallel Coordinate Plot"
   ]
  },
  {
   "cell_type": "code",
   "execution_count": null,
   "id": "67524b56",
   "metadata": {},
   "outputs": [],
   "source": [
    "\n",
    "from pandas.plotting import parallel_coordinates\n",
    "\n",
    "# Normalize relevant columns\n",
    "subset = airbnb_df[['room_type', 'minimum_nights', 'number_of_reviews', 'calculated_host_listings_count']]\n",
    "cols_to_normalize = ['minimum_nights', 'number_of_reviews', 'calculated_host_listings_count']\n",
    "subset[cols_to_normalize] = (subset[cols_to_normalize] - subset[cols_to_normalize].min()) / (\n",
    "    subset[cols_to_normalize].max() - subset[cols_to_normalize].min())\n",
    "\n",
    "# Create parallel coordinates plot\n",
    "parallel_coordinates(subset, 'room_type', colormap=plt.get_cmap(\"Set2\"))\n",
    "plt.title(\"Parallel Coordinates for Airbnb Listings\")\n",
    "plt.show()\n"
   ]
  },
  {
   "cell_type": "markdown",
   "id": "2b107906",
   "metadata": {},
   "source": [
    "## 6. Radar Chart (Spider Chart)"
   ]
  },
  {
   "cell_type": "code",
   "execution_count": null,
   "id": "fc69209b",
   "metadata": {},
   "outputs": [],
   "source": [
    "\n",
    "import matplotlib.pyplot as plt\n",
    "from math import pi\n",
    "\n",
    "# Selecting a single row for demonstration\n",
    "data = airbnb_df[['price', 'minimum_nights', 'number_of_reviews', 'calculated_host_listings_count']].iloc[0]\n",
    "\n",
    "# Preparing data for radar chart\n",
    "categories = list(data.index)\n",
    "values = data.values.flatten().tolist()\n",
    "values += values[:1]  # Repeat the first value to close the circle\n",
    "\n",
    "# Define the angle for each axis\n",
    "num_vars = len(categories)\n",
    "angles = [n / float(num_vars) * 2 * pi for n in range(num_vars)]\n",
    "angles += angles[:1]\n",
    "\n",
    "# Create radar chart\n",
    "ax = plt.subplot(111, polar=True)\n",
    "plt.xticks(angles[:-1], categories, color='grey', size=8)\n",
    "ax.plot(angles, values, linewidth=1, linestyle='solid')\n",
    "ax.fill(angles, values, 'b', alpha=0.1)\n",
    "plt.title(\"Radar Chart Example\", size=15, color='blue', y=1.1)\n",
    "plt.show()\n"
   ]
  },
  {
   "cell_type": "markdown",
   "id": "afa3b044",
   "metadata": {},
   "source": [
    "## 7. Saving Plots to Files"
   ]
  },
  {
   "cell_type": "code",
   "execution_count": null,
   "id": "16a54e3c",
   "metadata": {},
   "outputs": [],
   "source": [
    "\n",
    "# Save a plot as a PNG file\n",
    "plt.plot([1, 2, 3], [1, 4, 9])\n",
    "plt.title(\"Example Plot for Saving\")\n",
    "plt.savefig('example_plot.png', dpi=300, bbox_inches='tight')\n",
    "plt.show()\n",
    "print(\"Plot saved as 'example_plot.png'\")\n"
   ]
  },
  {
   "cell_type": "markdown",
   "id": "02abf887",
   "metadata": {},
   "source": [
    "## 8. Creating Heatmaps for Multivariate Data"
   ]
  },
  {
   "cell_type": "code",
   "execution_count": null,
   "id": "0b567c20",
   "metadata": {},
   "outputs": [],
   "source": [
    "\n",
    "# Generate a heatmap for a correlation matrix\n",
    "sns.heatmap(corr, annot=True, fmt=\".2f\", cmap=\"viridis\")\n",
    "plt.title(\"Heatmap for Correlation Matrix\")\n",
    "plt.show()\n"
   ]
  },
  {
   "cell_type": "markdown",
   "id": "60ee8c1d",
   "metadata": {},
   "source": [
    "## 9. Exercise: Pie Chart Visualization"
   ]
  },
  {
   "cell_type": "code",
   "execution_count": null,
   "id": "692ac158",
   "metadata": {},
   "outputs": [],
   "source": [
    "\n",
    "# Pie chart to visualize room type distribution\n",
    "room_type_counts = airbnb_df['room_type'].value_counts()\n",
    "room_type_counts.plot(kind='pie', autopct='%1.1f%%', figsize=(8, 8))\n",
    "plt.title(\"Room Type Distribution\")\n",
    "plt.ylabel('')  # Remove default ylabel\n",
    "plt.show()\n"
   ]
  }
 ],
 "metadata": {},
 "nbformat": 4,
 "nbformat_minor": 5
}